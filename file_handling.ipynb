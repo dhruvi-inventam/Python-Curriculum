{
 "cells": [
  {
   "cell_type": "markdown",
   "id": "3a6dc1c3-39c7-4309-bc6e-7a8b39878107",
   "metadata": {},
   "source": [
    "# read file"
   ]
  },
  {
   "cell_type": "code",
   "execution_count": 13,
   "id": "4ea9734d-5e6f-414e-9f33-6847157b4657",
   "metadata": {},
   "outputs": [],
   "source": [
    "with open(\"main.txt\",\"r\") as file:\n",
    "    pass"
   ]
  },
  {
   "cell_type": "code",
   "execution_count": 15,
   "id": "51842011-bf55-409d-b0bf-3fb9032f7790",
   "metadata": {},
   "outputs": [
    {
     "name": "stdout",
     "output_type": "stream",
     "text": [
      "Hello world\n",
      "GeeksforGeeks\n",
      "123 456\n",
      "\n",
      "\n"
     ]
    }
   ],
   "source": [
    "file = open(\"main.txt\")\n",
    "content = file.read()\n",
    "print(content)\n",
    "file.close()"
   ]
  },
  {
   "cell_type": "code",
   "execution_count": 19,
   "id": "16aef23c-324f-41ef-9bcf-66d25120d671",
   "metadata": {},
   "outputs": [
    {
     "name": "stdout",
     "output_type": "stream",
     "text": [
      "Hello Dhruvi\n"
     ]
    }
   ],
   "source": [
    "file = open(\"main.txt\")\n",
    "content = file.read()\n",
    "print(content)\n",
    "file.close()"
   ]
  },
  {
   "cell_type": "code",
   "execution_count": 29,
   "id": "a3b599af-3ac8-4788-8429-608eb38d8ea5",
   "metadata": {},
   "outputs": [
    {
     "name": "stdout",
     "output_type": "stream",
     "text": [
      "Hello Dhruvi\n"
     ]
    }
   ],
   "source": [
    "with open(\"main.txt\",\"r\") as file:\n",
    "    content = file.read()\n",
    "    print(content)"
   ]
  },
  {
   "cell_type": "code",
   "execution_count": 37,
   "id": "7973ce5d-cb41-4c64-9a54-f9495b22315e",
   "metadata": {},
   "outputs": [
    {
     "name": "stdout",
     "output_type": "stream",
     "text": [
      "Hello Dhruvigood morning!!!\n",
      "good morning!!!\n"
     ]
    }
   ],
   "source": [
    "with open(\"main.txt\",\"r\") as file:\n",
    "    content = file.read()\n",
    "    print(content)"
   ]
  },
  {
   "cell_type": "code",
   "execution_count": 3,
   "id": "1a8f7dfb-1122-493c-9da5-b66b98876f3a",
   "metadata": {},
   "outputs": [
    {
     "name": "stdout",
     "output_type": "stream",
     "text": [
      "Hello D\n"
     ]
    }
   ],
   "source": [
    "with open(\"main.txt\") as file:\n",
    "    print(file.read(7))"
   ]
  },
  {
   "cell_type": "code",
   "execution_count": 9,
   "id": "3a11a0bb-6aa8-4b9c-8e5f-ed1ccf14db6d",
   "metadata": {},
   "outputs": [
    {
     "name": "stdout",
     "output_type": "stream",
     "text": [
      "Hello Dhruvi\n",
      "\n",
      "How are you?\n",
      "\n"
     ]
    }
   ],
   "source": [
    "with open(\"main.txt\") as file:\n",
    "    print(file.readline())\n",
    "    print(file.readline())"
   ]
  },
  {
   "cell_type": "code",
   "execution_count": 13,
   "id": "89e421c9-ec8b-43ad-af29-15e077bf6ffb",
   "metadata": {},
   "outputs": [
    {
     "name": "stdout",
     "output_type": "stream",
     "text": [
      "Hello Dhruvi\n",
      "\n",
      "How are you?\n",
      "\n",
      "I hope you doing well!!\n"
     ]
    }
   ],
   "source": [
    "with open(\"main.txt\") as file:\n",
    "    for x in file:\n",
    "        print(x)\n",
    "\n",
    "file.close()"
   ]
  },
  {
   "cell_type": "markdown",
   "id": "99f202ee-f130-4d4a-acc2-2db837ed6dd2",
   "metadata": {},
   "source": [
    "# write file"
   ]
  },
  {
   "cell_type": "markdown",
   "id": "fe1e6c62-38b8-49ec-b583-a8a42c59d27b",
   "metadata": {},
   "source": [
    "\"a\" - Append - will append to the end of the file\n",
    "\n",
    "\"w\" - Write - will overwrite any existing content"
   ]
  },
  {
   "cell_type": "code",
   "execution_count": 22,
   "id": "1da165a5-00e7-43d6-bc18-b4091dcea63e",
   "metadata": {},
   "outputs": [
    {
     "name": "stdout",
     "output_type": "stream",
     "text": [
      "26\n",
      "Hello Dhruvi\n",
      "How are you?\n",
      "I hope you doing well!!give me your intro first!!give me your intro first!!give me your intro first!!\n"
     ]
    }
   ],
   "source": [
    "with open(\"main.txt\",\"a\") as file:\n",
    "    print(file.write(\"give me your intro first!!\"))\n",
    "\n",
    "with open(\"main.txt\") as file:\n",
    "    print(file.read())"
   ]
  },
  {
   "cell_type": "code",
   "execution_count": 26,
   "id": "d990cfd0-f733-4689-acac-a168f03a3f7c",
   "metadata": {},
   "outputs": [
    {
     "name": "stdout",
     "output_type": "stream",
     "text": [
      "28\n",
      "woops! i deleted the content\n"
     ]
    }
   ],
   "source": [
    "with open(\"main.txt\",\"w\") as file:\n",
    "    print(file.write(\"woops! i deleted the content\"))\n",
    "\n",
    "with open(\"main.txt\") as file:\n",
    "    print(file.read())"
   ]
  },
  {
   "cell_type": "code",
   "execution_count": 41,
   "id": "c70e2f22-4f55-49d4-a15f-f01a18f951d0",
   "metadata": {},
   "outputs": [
    {
     "data": {
      "text/plain": [
       "'woops! i deleted the contentokkk no problem!!okkk no problem!!\\nokkk no problem!!\\n okkk no problem!!/n okkk no problem!!okkk no problem!!'"
      ]
     },
     "execution_count": 41,
     "metadata": {},
     "output_type": "execute_result"
    }
   ],
   "source": [
    "file = open(\"main.txt\",\"a\")\n",
    "file.write(\"okkk no problem!!\")\n",
    "file.close()\n",
    "\n",
    "file = open(\"main.txt\",\"r\")\n",
    "file.read()"
   ]
  },
  {
   "cell_type": "code",
   "execution_count": 43,
   "id": "94456181-df38-4f4e-95a3-e688b2fbfcab",
   "metadata": {},
   "outputs": [],
   "source": [
    "file = open(\"second.txt\",\"w\")"
   ]
  },
  {
   "cell_type": "markdown",
   "id": "0cbe81ce-5197-45ad-8877-caf295aeac82",
   "metadata": {},
   "source": [
    "# delete file"
   ]
  },
  {
   "cell_type": "markdown",
   "id": "f8da71e3-fa71-4d7a-9f82-91a5caa042e0",
   "metadata": {},
   "source": [
    "To delete a file, you must import the OS module, and run its os.remove() function:"
   ]
  },
  {
   "cell_type": "code",
   "execution_count": 47,
   "id": "eedbfc07-151f-4f1c-b958-155aeec44d5d",
   "metadata": {},
   "outputs": [],
   "source": [
    "import os\n",
    "os.remove(\"sec.txt\")"
   ]
  },
  {
   "cell_type": "markdown",
   "id": "38ca0159-a9c9-411a-bc3a-5718c716040d",
   "metadata": {},
   "source": [
    "To avoid getting an error, you might want to check if the file exists before you try to delete it:"
   ]
  },
  {
   "cell_type": "code",
   "execution_count": 54,
   "id": "83861834-5e53-4ab3-a7bd-53f66041fd9a",
   "metadata": {},
   "outputs": [],
   "source": [
    "if os.path.exists(\"second.txt\"):\n",
    "    os.remove(\"second.txt\")\n",
    "else:\n",
    "    print(\"The file does not exists.\")"
   ]
  },
  {
   "cell_type": "markdown",
   "id": "69a095d8-6588-4bdf-85a4-2c1cbb26c8ca",
   "metadata": {},
   "source": [
    "### Delete Folder\n",
    "\n",
    "To delete an entire folder, use the os.rmdir() method:"
   ]
  },
  {
   "cell_type": "code",
   "execution_count": 63,
   "id": "f1ca22d2-093f-4675-bcca-28332c1972cf",
   "metadata": {},
   "outputs": [],
   "source": [
    "os.rmdir(\"practice\")"
   ]
  },
  {
   "cell_type": "code",
   "execution_count": 70,
   "id": "847f9994-0680-4946-9578-2a894ce8dee7",
   "metadata": {},
   "outputs": [],
   "source": [
    "file1 = open(\"myfile.txt\", \"w\")\n",
    "L = [\"This is Delhi \\n\", \"This is Paris \\n\", \"This is London \\n\"]\n",
    "\n",
    "# \\n is placed to indicate EOL (End of Line)\n",
    "file1.write(\"Hello \\n\")\n",
    "file1.writelines(L)\n",
    "file1.close()  # to change file access modes"
   ]
  },
  {
   "cell_type": "code",
   "execution_count": 76,
   "id": "753b30e3-7f26-4c49-9698-c2697356d333",
   "metadata": {},
   "outputs": [
    {
     "name": "stdout",
     "output_type": "stream",
     "text": [
      "Output of Read function is \n",
      "Hello \n",
      "This is Delhi \n",
      "This is Paris \n",
      "This is London \n",
      "\n",
      "\n"
     ]
    },
    {
     "data": {
      "text/plain": [
       "0"
      ]
     },
     "execution_count": 76,
     "metadata": {},
     "output_type": "execute_result"
    }
   ],
   "source": [
    "file1 = open(\"myfile.txt\", \"r+\")\n",
    "\n",
    "print(\"Output of Read function is \")\n",
    "print(file1.read())\n",
    "print()\n",
    "\n",
    "file1.seek(0)"
   ]
  },
  {
   "cell_type": "code",
   "execution_count": 111,
   "id": "c642a85e-21be-427a-8319-b0aa13ba16d0",
   "metadata": {},
   "outputs": [
    {
     "name": "stdout",
     "output_type": "stream",
     "text": [
      "dhruvi how are you\n",
      "This is Delhi \n",
      "This is Paris \n",
      "This is London \n",
      "\n"
     ]
    }
   ],
   "source": [
    " # Open the file in read mode\n",
    "file = open(\"myfile.txt\", \"r\")\n",
    "\n",
    "# Move the file pointer to the 10th byte from the beginning\n",
    "file.seek(6)\n",
    "\n",
    "# Read the next 5 characters from the current position\n",
    "content = file.read()\n",
    "print(content)\n",
    "\n",
    "# Close the file\n",
    "file.close()"
   ]
  },
  {
   "cell_type": "code",
   "execution_count": 115,
   "id": "bcc4ddc9-a376-4ec3-8cf2-ea0d3c77b86f",
   "metadata": {},
   "outputs": [
    {
     "name": "stdin",
     "output_type": "stream",
     "text": [
      "Enter the name of the employee:  dhruvi\n",
      "Enter the name of the employee:  dhruci\n",
      "Enter the name of the employee:  q\n"
     ]
    },
    {
     "name": "stdout",
     "output_type": "stream",
     "text": [
      "Data is written into the file.\n"
     ]
    }
   ],
   "source": [
    "file = open(\"myfile.txt\", \"w\") \n",
    "\n",
    "for i in range(3): \n",
    "    name = input(\"Enter the name of the employee: \") \n",
    "file.write(name) \n",
    "file.write(\"\\n\") \n",
    "    \n",
    "file.close() \n",
    "\n",
    "print(\"Data is written into the file.\") "
   ]
  },
  {
   "cell_type": "code",
   "execution_count": 117,
   "id": "8ca53bb4-56fc-4fb7-a519-ba3bfe99e2bc",
   "metadata": {},
   "outputs": [
    {
     "name": "stdout",
     "output_type": "stream",
     "text": [
      "Before Writing:\n",
      " q\n",
      "\n",
      "\n",
      "After Writing:\n",
      " q\n",
      "\n",
      "Adding new content!\n"
     ]
    }
   ],
   "source": [
    "file = open(\"myfile.txt\", \"r+\")  \n",
    "print(\"Before Writing:\\n\", file.read())  # Read current content\n",
    "file.write(\"\\nAdding new content!\")  # Write new data\n",
    "file.seek(0)  # Move cursor to the beginning\n",
    "print(\"\\nAfter Writing:\\n\", file.read())  # Read updated content\n",
    "file.close()"
   ]
  },
  {
   "cell_type": "code",
   "execution_count": null,
   "id": "8f5a7b1d-9f00-4b17-949d-d302a6cda962",
   "metadata": {},
   "outputs": [],
   "source": [
    "file = open(\"file.txt\",\"r+\")\n",
    "print(\"before Writing: \\n\",file.read())\n",
    "\n",
    "file.write(\"Hello Dhruvi\")"
   ]
  },
  {
   "cell_type": "code",
   "execution_count": 1,
   "id": "4e799755-2fb3-4323-8049-4cecb594a45f",
   "metadata": {},
   "outputs": [
    {
     "name": "stdout",
     "output_type": "stream",
     "text": [
      "Updated File Content:\n",
      " Overwritten content.\n",
      "\n"
     ]
    }
   ],
   "source": [
    "file = open(\"myfile.txt\", \"w+\")  \n",
    "file.write(\"Overwritten content.\\n\")  \n",
    "file.seek(0)  # Move cursor to the beginning\n",
    "print(\"Updated File Content:\\n\", file.read())  \n",
    "file.close()"
   ]
  },
  {
   "cell_type": "code",
   "execution_count": null,
   "id": "dd00abc0-2db4-4f4f-9087-69bcf06131ab",
   "metadata": {},
   "outputs": [],
   "source": []
  }
 ],
 "metadata": {
  "kernelspec": {
   "display_name": "Python [conda env:base] *",
   "language": "python",
   "name": "conda-base-py"
  },
  "language_info": {
   "codemirror_mode": {
    "name": "ipython",
    "version": 3
   },
   "file_extension": ".py",
   "mimetype": "text/x-python",
   "name": "python",
   "nbconvert_exporter": "python",
   "pygments_lexer": "ipython3",
   "version": "3.12.7"
  }
 },
 "nbformat": 4,
 "nbformat_minor": 5
}
