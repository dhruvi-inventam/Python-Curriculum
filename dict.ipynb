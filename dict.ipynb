{
 "cells": [
  {
   "cell_type": "code",
   "execution_count": 32,
   "id": "b5147b8c-869e-4dd6-a845-ffcc2c45be6b",
   "metadata": {},
   "outputs": [
    {
     "name": "stdout",
     "output_type": "stream",
     "text": [
      "Dhruvi\n",
      "21\n",
      "{'name': 'Ayush', 'sername': 'Dobariya', 'age': 21, 'height': 5.3}\n"
     ]
    }
   ],
   "source": [
    "d = {\"name\": \"Dhruvi\",\"sername\": \"Dobariya\",\"age\": 21}\n",
    "print(d[\"name\"])\n",
    "print(d.get(\"age\"))\n",
    "d[\"height\"] = 5.3\n",
    "d[\"name\"] = \"Ayush\"\n",
    "print(d)"
   ]
  },
  {
   "cell_type": "code",
   "execution_count": 34,
   "id": "bd893aa2-1023-43f2-8d83-e552974c246a",
   "metadata": {},
   "outputs": [],
   "source": [
    "del d[\"height\"]"
   ]
  },
  {
   "cell_type": "code",
   "execution_count": 36,
   "id": "b11228dd-2242-4712-84d1-b79fecb8e66b",
   "metadata": {},
   "outputs": [
    {
     "name": "stdout",
     "output_type": "stream",
     "text": [
      "{'name': 'Ayush', 'sername': 'Dobariya', 'age': 21}\n"
     ]
    }
   ],
   "source": [
    "print(d)"
   ]
  },
  {
   "cell_type": "code",
   "execution_count": 38,
   "id": "4e2e790e-b602-4177-b780-9fb83af6825d",
   "metadata": {},
   "outputs": [],
   "source": [
    "val = d.pop(\"age\")"
   ]
  },
  {
   "cell_type": "code",
   "execution_count": 40,
   "id": "2e77883b-8b37-4d99-8ff7-ed86a7354d43",
   "metadata": {},
   "outputs": [
    {
     "name": "stdout",
     "output_type": "stream",
     "text": [
      "{'name': 'Ayush', 'sername': 'Dobariya'}\n"
     ]
    }
   ],
   "source": [
    "print(d)"
   ]
  },
  {
   "cell_type": "code",
   "execution_count": 52,
   "id": "9d103df2-6837-4632-97de-a45e39ddf0ff",
   "metadata": {},
   "outputs": [
    {
     "name": "stdout",
     "output_type": "stream",
     "text": [
      "{}\n"
     ]
    }
   ],
   "source": [
    "d = {\"name\": \"Dhruvi\",\"sername\": \"Dobariya\",\"age\": 21}\n",
    "d.popitem()\n",
    "d.clear()\n",
    "print(d)\n"
   ]
  },
  {
   "cell_type": "code",
   "execution_count": 62,
   "id": "56afe8dc-2562-49a6-b5a0-090c33b5d4f3",
   "metadata": {},
   "outputs": [
    {
     "name": "stdout",
     "output_type": "stream",
     "text": [
      "name\n",
      "sername\n",
      "age\n",
      "Dhruvi\n",
      "Dobariya\n",
      "21\n",
      "name : Dhruvi\n",
      "sername : Dobariya\n",
      "age : 21\n"
     ]
    }
   ],
   "source": [
    "d = {\"name\": \"Dhruvi\",\"sername\": \"Dobariya\",\"age\": 21}\n",
    "for keys in d:\n",
    "    print(keys)\n",
    "\n",
    "for values in d.values():\n",
    "    print(values)\n",
    "\n",
    "for key , value in d.items():\n",
    "    print(f\"{key} : {value}\")"
   ]
  },
  {
   "cell_type": "code",
   "execution_count": 68,
   "id": "57b11af1-931d-4fe5-a0a5-43d428732c08",
   "metadata": {},
   "outputs": [
    {
     "name": "stdout",
     "output_type": "stream",
     "text": [
      "{1: 'welcome', 2: 'to', 3: {'a': 'the', 'b': 'world'}}\n"
     ]
    }
   ],
   "source": [
    "d = {1 : \"welcome\", 2 : \"to\" ,3 : {\"a\" : \"the\" , \"b\" : \"world\"}}\n",
    "print(d)"
   ]
  },
  {
   "cell_type": "code",
   "execution_count": 72,
   "id": "19d08cc9-1830-41cc-958d-27ab31717bc1",
   "metadata": {},
   "outputs": [
    {
     "name": "stdout",
     "output_type": "stream",
     "text": [
      "the\n"
     ]
    }
   ],
   "source": [
    "print(d[3][\"a\"])"
   ]
  },
  {
   "cell_type": "code",
   "execution_count": 88,
   "id": "d271e780-12e6-4be7-b52a-acb110e50a51",
   "metadata": {},
   "outputs": [
    {
     "name": "stdout",
     "output_type": "stream",
     "text": [
      "{'d1': {'name': 'Dhruvi', 'sername': 'Dobariya'}, 'd2': {'name': 'Ayush', 'sername': 'Gadhiya'}}\n"
     ]
    }
   ],
   "source": [
    "d = {\"d1\" : {\"name\" : \"Dhruvi\", \"sername\" : \"Dobariya\"},\n",
    "    \"d2\" : {\"name\" : \"Ayush\", \"sername\" : \"Gadhiya\"}}\n",
    "    \n",
    "print(d)"
   ]
  },
  {
   "cell_type": "code",
   "execution_count": 96,
   "id": "42368dae-696c-4868-86f4-3b0fe8b22a91",
   "metadata": {},
   "outputs": [
    {
     "name": "stdout",
     "output_type": "stream",
     "text": [
      "{'dict1': {'name': 'Dhruvi', 'age': 21}, 'dict2': {'name': 'Ayush', 'age': 21}}\n"
     ]
    }
   ],
   "source": [
    "d = {}\n",
    "\n",
    "d[\"dict1\"] = {}\n",
    "d[\"dict1\"][\"name\"] = \"Dhruvi\"\n",
    "d[\"dict1\"][\"age\"] = 21\n",
    "\n",
    "d[\"dict2\"] = {}\n",
    "d[\"dict2\"][\"name\"] = \"Ayush\"\n",
    "d[\"dict2\"][\"age\"] = 21\n",
    "print(d)"
   ]
  },
  {
   "cell_type": "code",
   "execution_count": 98,
   "id": "47ba661e-8ba8-4eec-a6d0-0d15f7de7f4e",
   "metadata": {},
   "outputs": [],
   "source": [
    "del d[\"dict1\"]"
   ]
  },
  {
   "cell_type": "code",
   "execution_count": 100,
   "id": "376c4e41-75f7-4eed-bbb8-2fbe110ce0ef",
   "metadata": {},
   "outputs": [
    {
     "name": "stdout",
     "output_type": "stream",
     "text": [
      "{'dict2': {'name': 'Ayush', 'age': 21}}\n"
     ]
    }
   ],
   "source": [
    "print(d)"
   ]
  },
  {
   "cell_type": "code",
   "execution_count": 102,
   "id": "f542ad0c-12bf-480b-8cac-bcc6ed4a9704",
   "metadata": {},
   "outputs": [
    {
     "data": {
      "text/plain": [
       "{'name': 'Ayush', 'age': 21}"
      ]
     },
     "execution_count": 102,
     "metadata": {},
     "output_type": "execute_result"
    }
   ],
   "source": [
    "d.pop(\"dict2\")"
   ]
  },
  {
   "cell_type": "code",
   "execution_count": 104,
   "id": "3456dc4e-2a69-4e6d-9656-f57971211fa8",
   "metadata": {},
   "outputs": [
    {
     "name": "stdout",
     "output_type": "stream",
     "text": [
      "{}\n"
     ]
    }
   ],
   "source": [
    "print(d)"
   ]
  },
  {
   "cell_type": "code",
   "execution_count": 106,
   "id": "5dd4f517-b291-40a6-a2a7-2b0725190e42",
   "metadata": {},
   "outputs": [
    {
     "name": "stdout",
     "output_type": "stream",
     "text": [
      "{1: 'a', 2: 'b', 3: 'c'}\n"
     ]
    }
   ],
   "source": [
    "keys = [1,2,3]\n",
    "values = [\"a\",\"b\",\"c\"]\n",
    "d = {}\n",
    "for i in range(len(keys)):\n",
    "    d[keys[i]] = values[i]\n",
    "\n",
    "print(d)"
   ]
  },
  {
   "cell_type": "code",
   "execution_count": 118,
   "id": "7c27f963-65d1-41d2-922e-c37060056c12",
   "metadata": {},
   "outputs": [
    {
     "name": "stdin",
     "output_type": "stream",
     "text": [
      "what you want to perform:  1\n",
      "how many element you want to add:  2\n",
      "enter 1 element:  1\n",
      "enter 2 element:  2\n"
     ]
    },
    {
     "name": "stdout",
     "output_type": "stream",
     "text": [
      "sum is : 3\n"
     ]
    },
    {
     "name": "stdin",
     "output_type": "stream",
     "text": [
      "what you want to perform:  q\n"
     ]
    }
   ],
   "source": [
    "\n",
    "while True:\n",
    "    a = input(\"what you want to perform: \")\n",
    "    l = []\n",
    "    if a == \"1\":\n",
    "        n = int(input(\"how many element you want to add: \"))\n",
    "        total = 0\n",
    "        for n in range(1,n+1):\n",
    "            num = int(input(f\"enter {n} element: \"))\n",
    "            l.append(num)\n",
    "            # print(l)\n",
    "            total += num\n",
    "        print(f\"sum is : {total}\")\n",
    "\n",
    "    elif a == \"2\":\n",
    "        n = int(input(\"how many element you want to minus: \"))\n",
    "        total = num\n",
    "        while n > 0:\n",
    "            num = int(input(f\"enter {n} element: \"))\n",
    "            if num == 0 or num > 0:\n",
    "                break\n",
    "            else:\n",
    "                l.append(num)\n",
    "                print(l)\n",
    "                total -= num\n",
    "        print(f\"substraction is : {total}\")\n",
    "\n",
    "    elif a == \"3\":\n",
    "        c = int(input(\"Enter 1st number: \"))\n",
    "        d = int(input(\"Enter 2nd number: \"))\n",
    "        e = c * d\n",
    "        print(f\"sum is : {e}\")\n",
    "\n",
    "    elif a == \"4\":\n",
    "        c = int(input(\"Enter 1st number: \"))\n",
    "        d = int(input(\"Enter 2nd number: \"))\n",
    "        e = c / d\n",
    "        print(f\"sum is : {e}\")\n",
    "\n",
    "    elif a == \"q\":\n",
    "        break\n",
    "    "
   ]
  },
  {
   "cell_type": "code",
   "execution_count": 61,
   "id": "f0e32bdb-5d70-496d-b4de-de21cfa793c2",
   "metadata": {},
   "outputs": [],
   "source": [
    "# a = input(\"what you want to perform: \")\n",
    "\n",
    "# if a == \"Addition\":\n",
    "#     ele = int(input(\"How many element you want to add: \"))\n",
    "#     total = 0\n",
    "#     for i in range(1,ele+1):\n",
    "        "
   ]
  },
  {
   "cell_type": "code",
   "execution_count": 116,
   "id": "151a2166-0a97-404b-9528-82d14759a21c",
   "metadata": {},
   "outputs": [
    {
     "ename": "SyntaxError",
     "evalue": "'continue' not properly in loop (4148299242.py, line 21)",
     "output_type": "error",
     "traceback": [
      "\u001b[0;36m  Cell \u001b[0;32mIn[116], line 21\u001b[0;36m\u001b[0m\n\u001b[0;31m    continue\u001b[0m\n\u001b[0m    ^\u001b[0m\n\u001b[0;31mSyntaxError\u001b[0m\u001b[0;31m:\u001b[0m 'continue' not properly in loop\n"
     ]
    }
   ],
   "source": [
    "def sdd_sub_mul_div():\n",
    "    while True:\n",
    "        print('''\n",
    "        1. Addition\n",
    "        2. Substraction\n",
    "        3. Multiplication\n",
    "        4. Division\n",
    "        ''')\n",
    "        cal = input(\"Enter the number what calculation you want: \")\n",
    "        \n",
    "    def sum():\n",
    "        l = []\n",
    "        if cal == \"1\":\n",
    "            ele = int(input(\"how many element you want: \"))\n",
    "            count = 0\n",
    "            for ele in range(1,ele+1):\n",
    "                a = int(input(f\"enter {ele} element: \"))\n",
    "                l.append(ele)\n",
    "                count += ele\n",
    "            print(\"sum of numbers is :\",count)\n",
    "            continue\n",
    "\n",
    "    def substraction():\n",
    "        if cal == \"2\":\n",
    "            ele = int(input(\"How many elements you want: \"))\n",
    "            l = [] \n",
    "            count = [0] \n",
    "            i = 0\n",
    "            while i < ele:\n",
    "                num = int(input(f\"Enter {i+1} element: \"))\n",
    "                l.append(num)\n",
    "                i += 1\n",
    "            count[0] = l[0] \n",
    "            i = 1  \n",
    "            while i < ele:  \n",
    "                count[0] -= l[i]\n",
    "                i += 1\n",
    "            print(\"Subtraction of numbers is:\", count[0])\n",
    "            continue   \n",
    "\n",
    "    def multiplication():\n",
    "        if cal == \"3\":\n",
    "            ele = int(input(\"How many elements you want: \"))\n",
    "            l = [] \n",
    "            count = [0] \n",
    "            i = 0\n",
    "            while i < ele:\n",
    "                num = int(input(f\"Enter {i+1} element: \"))\n",
    "                l.append(num)\n",
    "                i += 1\n",
    "            count[0] = l[0] \n",
    "            i = 1  \n",
    "            while i < ele:  \n",
    "                count[0] *= l[i]\n",
    "                i += 1\n",
    "            print(\"Multiplication of numbers is:\", count[0])\n",
    "            continue   \n",
    "\n",
    "    def division():\n",
    "        if cal == \"4\":\n",
    "            ele = int(input(\"How many elements you want: \"))\n",
    "            l = [] \n",
    "            count = [0] \n",
    "            i = 0\n",
    "            while i < ele:\n",
    "                num = int(input(f\"Enter {i+1} element: \"))\n",
    "                l.append(num)\n",
    "                i += 1\n",
    "            count[0] = l[0] \n",
    "            i = 1  \n",
    "            while i < ele:  \n",
    "                count[0] /= l[i]\n",
    "                i += 1\n",
    "            print(\"Division of numbers is:\", count[0])\n",
    "            continue   \n",
    "\n",
    "    \n",
    "    def exit():\n",
    "        if cal == \"q\":\n",
    "            break\n",
    "\n",
    "sdd_sub_mul_div()"
   ]
  },
  {
   "cell_type": "code",
   "execution_count": 1,
   "id": "3fa643cc-7925-4fe5-83d0-2bdb89469247",
   "metadata": {},
   "outputs": [
    {
     "name": "stdout",
     "output_type": "stream",
     "text": [
      "\n",
      "        1. Addition\n",
      "        2. Subtraction\n",
      "        3. Multiplication\n",
      "        4. Division\n",
      "        q. Quit\n",
      "        \n"
     ]
    },
    {
     "name": "stdin",
     "output_type": "stream",
     "text": [
      "Enter the number for the calculation you want:  1\n",
      "How many elements do you want:  2\n",
      "Enter 1st element:  1\n",
      "Enter 2nd element:  2\n"
     ]
    },
    {
     "ename": "NameError",
     "evalue": "name 'c' is not defined",
     "output_type": "error",
     "traceback": [
      "\u001b[0;31m---------------------------------------------------------------------------\u001b[0m",
      "\u001b[0;31mNameError\u001b[0m                                 Traceback (most recent call last)",
      "Cell \u001b[0;32mIn[1], line 96\u001b[0m\n\u001b[1;32m     93\u001b[0m         i \u001b[38;5;241m+\u001b[39m\u001b[38;5;241m=\u001b[39m \u001b[38;5;241m1\u001b[39m\n\u001b[1;32m     94\u001b[0m     \u001b[38;5;28mprint\u001b[39m(\u001b[38;5;124m\"\u001b[39m\u001b[38;5;124mdivision of numbers is:\u001b[39m\u001b[38;5;124m\"\u001b[39m, count[\u001b[38;5;241m0\u001b[39m])\n\u001b[0;32m---> 96\u001b[0m add_sub_mul_div()\n",
      "Cell \u001b[0;32mIn[1], line 19\u001b[0m, in \u001b[0;36madd_sub_mul_div\u001b[0;34m()\u001b[0m\n\u001b[1;32m     16\u001b[0m b \u001b[38;5;241m=\u001b[39m \u001b[38;5;28mint\u001b[39m(\u001b[38;5;28minput\u001b[39m(\u001b[38;5;124mf\u001b[39m\u001b[38;5;124m\"\u001b[39m\u001b[38;5;124mEnter 2nd element: \u001b[39m\u001b[38;5;124m\"\u001b[39m))\n\u001b[1;32m     18\u001b[0m \u001b[38;5;28;01mif\u001b[39;00m cal \u001b[38;5;241m==\u001b[39m \u001b[38;5;124m\"\u001b[39m\u001b[38;5;124m1\u001b[39m\u001b[38;5;124m\"\u001b[39m:\n\u001b[0;32m---> 19\u001b[0m     add(ele,a,b,c)\n\u001b[1;32m     20\u001b[0m     \u001b[38;5;28;01mcontinue\u001b[39;00m\n\u001b[1;32m     21\u001b[0m \u001b[38;5;28;01mif\u001b[39;00m cal \u001b[38;5;241m==\u001b[39m \u001b[38;5;124m\"\u001b[39m\u001b[38;5;124m2\u001b[39m\u001b[38;5;124m\"\u001b[39m:\n",
      "\u001b[0;31mNameError\u001b[0m: name 'c' is not defined"
     ]
    }
   ],
   "source": [
    "def add_sub_mul_div():\n",
    "    while True:\n",
    "        print('''\n",
    "        1. Addition\n",
    "        2. Subtraction\n",
    "        3. Multiplication\n",
    "        4. Division\n",
    "        q. Quit\n",
    "        ''')\n",
    "        cal = input(\"Enter the number for the calculation you want: \")\n",
    "        if cal == \"q\":\n",
    "            print(\"Exit\")\n",
    "            break\n",
    "        ele = int(input(\"How many elements do you want: \"))\n",
    "        a = int(input(f\"Enter 1st element: \"))\n",
    "        b = int(input(f\"Enter 2nd element: \"))\n",
    "        \n",
    "        if cal == \"1\":\n",
    "            add(ele,a,b,c)\n",
    "            continue\n",
    "        if cal == \"2\":\n",
    "            subtraction(ele)\n",
    "            continue\n",
    "        if cal == \"3\":\n",
    "            multiplication(ele)\n",
    "            continue\n",
    "        if cal == \"4\":\n",
    "            division(ele)\n",
    "            continue\n",
    "        \n",
    "        \n",
    "def add(ele,a,b,c):\n",
    "    l = []\n",
    "    count = 0\n",
    "    if ele == 2:\n",
    "        c = a + b\n",
    "        print(\"Sum of numbers is:\", c)\n",
    "    elif ele > 2:\n",
    "        for i in range(1, ele + 1):\n",
    "            l.append(a)\n",
    "            count += a\n",
    "        print(\"Sum of numbers is:\", count)\n",
    "    else:\n",
    "        print(\"Invalid input for ele. It should be at least 2.\")\n",
    "\n",
    "\n",
    "\n",
    "def subtraction(ele):\n",
    "    l = [] \n",
    "    count = [0] \n",
    "    i = 0\n",
    "    while i < ele:\n",
    "        num = int(input(f\"Enter {i+1} element: \"))\n",
    "        l.append(num)\n",
    "        i += 1\n",
    "    count[0] = l[0] \n",
    "    i = 1  \n",
    "    while i < ele:  \n",
    "        count[0] -= l[i]\n",
    "        i += 1\n",
    "    print(\"Subtraction of numbers is:\", count[0])\n",
    "\n",
    "def multiplication(ele):\n",
    "    l = [] \n",
    "    count = [0] \n",
    "    i = 0\n",
    "    while i < ele:\n",
    "        num = int(input(f\"Enter {i+1} element: \"))\n",
    "        l.append(num)\n",
    "        i += 1\n",
    "    count[0] = l[0] \n",
    "    i = 1  \n",
    "    while i < ele:  \n",
    "        count[0] *= l[i]\n",
    "        i += 1\n",
    "    print(\"multiplication of numbers is:\", count[0])\n",
    "\n",
    "def division(ele):\n",
    "    l = [] \n",
    "    count = [0] \n",
    "    i = 0\n",
    "    while i < ele:\n",
    "        num = int(input(f\"Enter {i} element: \"))\n",
    "        if num == 0 and i != 0:\n",
    "            print(\"Division by zero is not allowed.\")\n",
    "            return\n",
    "        l.append(num)\n",
    "        i += 1\n",
    "    count[0] = l[0] \n",
    "    i = 1  \n",
    "    while i < ele:  \n",
    "        count[0] /= l[i]\n",
    "        i += 1\n",
    "    print(\"division of numbers is:\", count[0])\n",
    "\n",
    "add_sub_mul_div()"
   ]
  },
  {
   "cell_type": "code",
   "execution_count": 94,
   "id": "f9bc776e-e2f2-4746-ad9d-e47f47249e8d",
   "metadata": {},
   "outputs": [
    {
     "name": "stdout",
     "output_type": "stream",
     "text": [
      "Sum of numbers is: 7\n",
      "Sum of numbers is: 10\n"
     ]
    }
   ],
   "source": [
    "def add(ele, a, b):\n",
    "    l = []\n",
    "    count = 0\n",
    "    \n",
    "    if ele == 2:\n",
    "        c = a + b\n",
    "        print(\"Sum of numbers is:\", c)\n",
    "    elif ele > 2:\n",
    "        for i in range(1, ele + 1):\n",
    "            l.append(a)\n",
    "            count += a\n",
    "        print(\"Sum of numbers is:\", count)\n",
    "    else:\n",
    "        print(\"Invalid input for ele. It should be at least 2.\")\n",
    "\n",
    "# Example usage:\n",
    "add(2, 3, 4)  # Output: Sum of numbers is: 7\n",
    "add(5, 2, 3)  # Output: Sum of numbers is: 10"
   ]
  },
  {
   "cell_type": "code",
   "execution_count": 1,
   "id": "2db4fc78-b39f-4fde-aca3-a128b1b1dc0b",
   "metadata": {},
   "outputs": [
    {
     "name": "stdout",
     "output_type": "stream",
     "text": [
      "\n",
      "        1. Addition\n",
      "        2. Subtraction\n",
      "        3. Multiplication\n",
      "        4. Division\n",
      "        q. Quit\n",
      "        \n"
     ]
    },
    {
     "name": "stdin",
     "output_type": "stream",
     "text": [
      "Enter the number for the calculation you want:  1\n",
      "How many elements do you want to enter (minimum 2)?  3\n",
      "Enter element 1:  1\n",
      "Enter element 2:  2\n",
      "Enter element 3:  3\n"
     ]
    },
    {
     "name": "stdout",
     "output_type": "stream",
     "text": [
      "Sum of numbers is: 6\n",
      "\n",
      "        1. Addition\n",
      "        2. Subtraction\n",
      "        3. Multiplication\n",
      "        4. Division\n",
      "        q. Quit\n",
      "        \n"
     ]
    },
    {
     "name": "stdin",
     "output_type": "stream",
     "text": [
      "Enter the number for the calculation you want:  2\n",
      "How many elements do you want to enter (minimum 2)?  3\n",
      "Enter element 1:  3\n",
      "Enter element 2:  2\n",
      "Enter element 3:  1\n"
     ]
    },
    {
     "name": "stdout",
     "output_type": "stream",
     "text": [
      "Subtraction of numbers is: 0\n",
      "\n",
      "        1. Addition\n",
      "        2. Subtraction\n",
      "        3. Multiplication\n",
      "        4. Division\n",
      "        q. Quit\n",
      "        \n"
     ]
    },
    {
     "name": "stdin",
     "output_type": "stream",
     "text": [
      "Enter the number for the calculation you want:  q\n"
     ]
    },
    {
     "name": "stdout",
     "output_type": "stream",
     "text": [
      "Exit\n"
     ]
    }
   ],
   "source": [
    "def add(numbers):\n",
    "    return sum(numbers)\n",
    "\n",
    "def subtract(numbers):\n",
    "    result = numbers[0]\n",
    "    for num in numbers[1:]:\n",
    "        result -= num\n",
    "    return result\n",
    "\n",
    "def multiply(numbers):\n",
    "    result = 1\n",
    "    for num in numbers:\n",
    "        result *= num\n",
    "    return result\n",
    "\n",
    "def divide(numbers):\n",
    "    result = numbers[0]\n",
    "    for num in numbers[1:]:\n",
    "        if num == 0:\n",
    "            print(\"Error: Division by zero is not allowed.\")\n",
    "            return None\n",
    "        result /= num\n",
    "    return result\n",
    "\n",
    "def main():\n",
    "    while True:\n",
    "        print('''\n",
    "        1. Addition\n",
    "        2. Subtraction\n",
    "        3. Multiplication\n",
    "        4. Division\n",
    "        q. Quit\n",
    "        ''')\n",
    "        \n",
    "        choice = input(\"Enter the number for the calculation you want: \")\n",
    "        if choice == \"q\":\n",
    "            print(\"Exit\")\n",
    "            break\n",
    "\n",
    "        \n",
    "            ele = int(input(\"How many elements do you want to enter? \"))\n",
    "            if ele < 2:\n",
    "                print(\"Please enter at least 2 elements.\")\n",
    "                continue\n",
    "\n",
    "            numbers = [int(input(f\"Enter element {i+1}: \")) for i in range(ele)]\n",
    "        \n",
    "            if choice == \"1\":\n",
    "                print(\"Sum of numbers is:\", add(numbers))\n",
    "            elif choice == \"2\":\n",
    "                print(\"Subtraction of numbers is:\", subtract(numbers))\n",
    "            elif choice == \"3\":\n",
    "                print(\"Multiplication of numbers is:\", multiply(numbers))\n",
    "            elif choice == \"4\":\n",
    "                result = divide(numbers)\n",
    "                if result is not None:\n",
    "                    print(\"Division of numbers is:\", result)\n",
    "            else:\n",
    "                print(\"Invalid choice. Please select a valid option.\")\n",
    "        \n",
    "\n",
    "main()\n"
   ]
  },
  {
   "cell_type": "code",
   "execution_count": 7,
   "id": "2826ea62-61fa-4e07-b6d8-10a7fe1da61a",
   "metadata": {},
   "outputs": [
    {
     "name": "stdout",
     "output_type": "stream",
     "text": [
      "\n",
      "        1. Addition\n",
      "        2. Subtraction\n",
      "        3. Multiplication\n",
      "        4. Division\n",
      "        Press 'q' to Quit\n",
      "        \n"
     ]
    },
    {
     "name": "stdin",
     "output_type": "stream",
     "text": [
      "Enter your choice:  q\n"
     ]
    },
    {
     "name": "stdout",
     "output_type": "stream",
     "text": [
      "Exiting...\n"
     ]
    }
   ],
   "source": [
    "def addition(a, b, *ele):\n",
    "    total = a + b\n",
    "    for num in ele:\n",
    "        total += num\n",
    "    return total\n",
    "\n",
    "def subtraction(a, b, *ele):\n",
    "    result = a - b\n",
    "    for num in ele:\n",
    "        result -= num\n",
    "    return result\n",
    "\n",
    "def multiplication(a, b, *ele):\n",
    "    result = a * b\n",
    "    for num in ele:\n",
    "        result *= num\n",
    "    return result\n",
    "\n",
    "def division(a, b, *ele):\n",
    "    if b == 0:\n",
    "        print(\"Division by zero is not allowed\")\n",
    "        return None  \n",
    "    result = a / b\n",
    "    for num in ele:\n",
    "        if num == 0:\n",
    "            print(\"Division by zero is not allowed!\")\n",
    "            return None\n",
    "        result /= num\n",
    "    return result\n",
    "\n",
    "def get_numbers():\n",
    "    count = int(input(\"How many numbers do you want to enter? \"))\n",
    "    if count < 2:\n",
    "        print(\"You must enter at least two numbers.\")\n",
    "        return None\n",
    "    li = [int(input(f\"Enter {i+1} number: \")) for i in range(count)]\n",
    "    return li[0], li[1], li[2:]  \n",
    "\n",
    "def main():\n",
    "    while True:\n",
    "        print('''\n",
    "        1. Addition\n",
    "        2. Subtraction\n",
    "        3. Multiplication\n",
    "        4. Division\n",
    "        Press 'q' to Quit\n",
    "        ''')\n",
    "\n",
    "        choice = input(\"Enter your choice: \")\n",
    "\n",
    "        if choice == \"q\":\n",
    "            print(\"Exiting...\")\n",
    "            break\n",
    "\n",
    "        numbers = get_numbers()\n",
    "        if numbers is None:\n",
    "            continue\n",
    "\n",
    "        a, b, ele = numbers\n",
    "\n",
    "        if choice == \"1\":\n",
    "            print(\"Result:\", addition(a, b, *ele))\n",
    "        elif choice == \"2\":\n",
    "            print(\"Result:\", subtraction(a, b, *ele))\n",
    "        elif choice == \"3\":\n",
    "            print(\"Result:\", multiplication(a, b, *ele))\n",
    "        elif choice == \"4\":\n",
    "            result = division(a, b, *ele)\n",
    "            if result is not None:\n",
    "                print(\"Result:\", result)\n",
    "        else:\n",
    "            print(\"Invalid input! Please enter a valid option.\")\n",
    "\n",
    "if __name__ == \"__main__\":\n",
    "    main()"
   ]
  },
  {
   "cell_type": "code",
   "execution_count": null,
   "id": "e31a0481-0a5c-4490-94e5-f850a4e87911",
   "metadata": {},
   "outputs": [
    {
     "name": "stdout",
     "output_type": "stream",
     "text": [
      "\n",
      "        1. Addition\n",
      "        2. Subtraction\n",
      "        3. Multiplication\n",
      "        4. Division\n",
      "        q. Quit\n",
      "        \n"
     ]
    },
    {
     "name": "stdin",
     "output_type": "stream",
     "text": [
      "Enter the number for the calculation you want:  4\n",
      "How many numbers do you want to enter?  3\n",
      "Enter 1 element:  3\n",
      "Enter 2 element:  2\n",
      "Enter 3 element:  1\n"
     ]
    },
    {
     "name": "stdout",
     "output_type": "stream",
     "text": [
      "[3, 2, 1]\n",
      "division of numbers is: 1.5\n",
      "\n",
      "        1. Addition\n",
      "        2. Subtraction\n",
      "        3. Multiplication\n",
      "        4. Division\n",
      "        q. Quit\n",
      "        \n"
     ]
    },
    {
     "name": "stdin",
     "output_type": "stream",
     "text": [
      "Enter the number for the calculation you want:  4\n",
      "How many numbers do you want to enter?  2\n",
      "Enter 1 element:  3\n",
      "Enter 2 element:  1\n"
     ]
    },
    {
     "name": "stdout",
     "output_type": "stream",
     "text": [
      "[3, 1]\n",
      "division of numbers is: 3.0\n",
      "\n",
      "        1. Addition\n",
      "        2. Subtraction\n",
      "        3. Multiplication\n",
      "        4. Division\n",
      "        q. Quit\n",
      "        \n"
     ]
    },
    {
     "name": "stdin",
     "output_type": "stream",
     "text": [
      "Enter the number for the calculation you want:  1\n",
      "How many numbers do you want to enter?  2\n",
      "Enter 1 element:  1\n",
      "Enter 2 element:  2\n"
     ]
    },
    {
     "name": "stdout",
     "output_type": "stream",
     "text": [
      "[1, 2]\n",
      "Addition of numbers is: 3\n",
      "\n",
      "        1. Addition\n",
      "        2. Subtraction\n",
      "        3. Multiplication\n",
      "        4. Division\n",
      "        q. Quit\n",
      "        \n"
     ]
    }
   ],
   "source": [
    "def main():\n",
    "    while True:\n",
    "        print('''\n",
    "        1. Addition\n",
    "        2. Subtraction\n",
    "        3. Multiplication\n",
    "        4. Division\n",
    "        q. Quit\n",
    "        ''')\n",
    "        cal = input(\"Enter the number for the calculation you want: \")\n",
    "        if cal == \"q\":\n",
    "            print(\"Exit\")\n",
    "            break\n",
    "\n",
    "        ele = int(input(\"How many numbers do you want to enter? \"))\n",
    "        if ele < 2:\n",
    "            print(\"At least 2 elements are required for calculations.\")\n",
    "            return None\n",
    "\n",
    "        l = [] \n",
    "        i = 0\n",
    "        \n",
    "        while i < ele:\n",
    "            num = int(input(f\"Enter {i+1} element: \"))\n",
    "            l.append(num)\n",
    "            i += 1\n",
    "        print(l)\n",
    "        a = l[0]\n",
    "        b = l[1]\n",
    "        ele = l[2:]\n",
    "        \n",
    "        if cal == \"1\":\n",
    "            add(a, b, *ele)\n",
    "            continue\n",
    "        if cal == \"2\":\n",
    "            subtraction(a, b, *ele)\n",
    "            continue\n",
    "        if cal == \"3\":\n",
    "            multiplication(a, b, *ele)\n",
    "            continue\n",
    "        if cal == \"4\":\n",
    "            division(a, b, *ele)\n",
    "            continue\n",
    "        \n",
    "        \n",
    "def add(a, b, *ele):\n",
    "    l = [a,b] + list(ele)\n",
    "    count = [0] \n",
    "    count[0] = l[0] \n",
    "    i = 1  \n",
    "    while i < len(l):  \n",
    "        count[0] += l[i]\n",
    "        i += 1\n",
    "    print(\"Addition of numbers is:\", count[0])\n",
    "\n",
    "def subtraction(a, b, *ele):\n",
    "    l = [a,b] + list(ele)\n",
    "    count = [0] \n",
    "    count[0] = l[0] \n",
    "    i = 1  \n",
    "    \n",
    "    while i < len(l):  \n",
    "        count[0] -= l[i]\n",
    "        i += 1\n",
    "    print(\"Subtraction of numbers is:\", count[0])\n",
    "\n",
    "def multiplication(a, b, *ele):\n",
    "    l = [a,b] + list(ele)\n",
    "    count = [0] \n",
    "    count[0] = l[0] \n",
    "    i = 1  \n",
    "    while i < len(l):  \n",
    "        count[0] *= l[i]\n",
    "        i += 1\n",
    "    print(\"multiplication of numbers is:\", count[0])\n",
    "\n",
    "def division(a, b, *ele):\n",
    "    l = [a,b] + list(ele)\n",
    "    count = [0] \n",
    "    count[0] = l[0] \n",
    "    i = 1  \n",
    "    while i < len(l):  \n",
    "        count[0] /= l[i]\n",
    "        i += 1\n",
    "    print(\"division of numbers is:\", count[0])\n",
    "\n",
    "main()\n",
    "\n"
   ]
  },
  {
   "cell_type": "code",
   "execution_count": null,
   "id": "a2cc48b7-a179-4b7f-a4ba-d1269ef3f0d2",
   "metadata": {},
   "outputs": [],
   "source": [
    "class Calculator:\n",
    "    def __init__(self):\n",
    "        self.history = []\n",
    "\n",
    "    def display_menu(self):\n",
    "        print('''\n",
    "            1. Addition\n",
    "            2. Subtraction\n",
    "            3. Multiplication\n",
    "            4. Division\n",
    "            q. Quit\n",
    "            6. History\n",
    "        ''')\n",
    "\n",
    "    def get_input(self, prompt):\n",
    "        return input(prompt)\n",
    "\n",
    "    def get_numbers(self):\n",
    "        ele = int(self.get_input(\"How many numbers do you want to enter? \"))\n",
    "        if ele < 2:\n",
    "            print(\"At least 2 elements are required for calculations.\")\n",
    "            return None\n",
    "        l = []\n",
    "        for i in range(ele):\n",
    "            num = int(self.get_input(f\"Enter {i+1} element: \"))\n",
    "            l.append(num)\n",
    "        print(l)\n",
    "        return l\n",
    "\n",
    "    def add(self, a, b, *ele):\n",
    "        l = [a, b] + list(ele)\n",
    "        result = l[0]\n",
    "        for i in range(1, len(l)):\n",
    "            result += l[i]\n",
    "        print(\"Addition of numbers is:\", result)\n",
    "        return result\n",
    "\n",
    "    def subtract(self, a, b, *ele):\n",
    "        l = [a, b] + list(ele)\n",
    "        result = l[0]\n",
    "        for i in range(1, len(l)):\n",
    "            result -= l[i]\n",
    "        print(\"Subtraction of numbers is:\", result)\n",
    "        return result\n",
    "\n",
    "    def multiply(self, a, b, *ele):\n",
    "        l = [a, b] + list(ele)\n",
    "        result = l[0]\n",
    "        for i in range(1, len(l)):\n",
    "            result *= l[i]\n",
    "        print(\"Multiplication of numbers is:\", result)\n",
    "        return result\n",
    "\n",
    "    def divide(self, a, b, *ele):\n",
    "        l = [a, b] + list(ele)\n",
    "        result = l[0]\n",
    "        for i in range(1, len(l)):\n",
    "            result /= l[i]\n",
    "        print(\"Division of numbers is:\", result)\n",
    "        return result\n",
    "\n",
    "    def run(self):\n",
    "        while True:\n",
    "            self.display_menu()\n",
    "            cal = self.get_input(\"Enter the number for the calculation you want: \")\n",
    "            if cal == \"q\":\n",
    "                print(\"Exit\")\n",
    "                break\n",
    "\n",
    "            if cal == \"6\":\n",
    "                if not self.history:\n",
    "                    print(\"No past calculations to show\")\n",
    "                else:\n",
    "                    for item in self.history:\n",
    "                        print(item)\n",
    "                continue\n",
    "\n",
    "            numbers = self.get_numbers()\n",
    "            if numbers is None:\n",
    "                continue\n",
    "\n",
    "            a, b, *ele = numbers[0], numbers[1], numbers[2:]\n",
    "\n",
    "            if cal == \"1\":\n",
    "                result = self.add(a, b, *ele)\n",
    "                self.history.append(f\"Addition of {numbers} is: {result}\")\n",
    "            elif cal == \"2\":\n",
    "                result = self.subtract(a, b, *ele)\n",
    "                self.history.append(f\"Subtraction of {numbers} is: {result}\")\n",
    "            elif cal == \"3\":\n",
    "                result = self.multiply(a, b, *ele)\n",
    "                self.history.append(f\"Multiplication of {numbers} is: {result}\")\n",
    "            elif cal == \"4\":\n",
    "                result = self.divide(a, b, *ele)\n",
    "                self.history.append(f\"Division of {numbers} is: {result}\")\n",
    "            else:\n",
    "                print(\"Unrecognized operation\")\n",
    "\n",
    "if __name__ == \"__main__\":\n",
    "    calculator = Calculator()\n",
    "    calculator.run()"
   ]
  }
 ],
 "metadata": {
  "kernelspec": {
   "display_name": "Python [conda env:base] *",
   "language": "python",
   "name": "conda-base-py"
  },
  "language_info": {
   "codemirror_mode": {
    "name": "ipython",
    "version": 3
   },
   "file_extension": ".py",
   "mimetype": "text/x-python",
   "name": "python",
   "nbconvert_exporter": "python",
   "pygments_lexer": "ipython3",
   "version": "3.12.7"
  }
 },
 "nbformat": 4,
 "nbformat_minor": 5
}
