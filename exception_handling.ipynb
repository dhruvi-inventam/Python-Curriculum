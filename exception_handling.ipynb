{
 "cells": [
  {
   "cell_type": "code",
   "execution_count": 4,
   "id": "705b695c-b2e6-443b-ac4f-53b076688bd4",
   "metadata": {},
   "outputs": [
    {
     "name": "stdout",
     "output_type": "stream",
     "text": [
      "50.0\n",
      "Execution completed.\n"
     ]
    }
   ],
   "source": [
    "try:\n",
    "    n = 2\n",
    "    res = 100 / n\n",
    "except ZeroDivisionError:\n",
    "    print(\"you cant devide by zero.\")\n",
    "else:\n",
    "    print(res)\n",
    "finally:\n",
    "    print(\"Execution completed.\")"
   ]
  },
  {
   "cell_type": "code",
   "execution_count": 10,
   "id": "948aaa4c-4c6c-4fbc-8e09-6d4c28bcd7c0",
   "metadata": {},
   "outputs": [
    {
     "name": "stdout",
     "output_type": "stream",
     "text": [
      "Index out of range.\n"
     ]
    }
   ],
   "source": [
    "a = [\"10\", \"20\", 30]  # Mixed list of integers and strings\n",
    "try:\n",
    "    total = int(a[0]) + int(a[4])  # 'twenty' cannot be converted to int\n",
    "    \n",
    "except (ValueError, TypeError) as e:\n",
    "    print(\"Error\", e)\n",
    "    \n",
    "except IndexError:\n",
    "    print(\"Index out of range.\")"
   ]
  },
  {
   "cell_type": "code",
   "execution_count": 14,
   "id": "ac3940bb-4062-4bbe-a2e6-fc5845c76caa",
   "metadata": {},
   "outputs": [
    {
     "name": "stdout",
     "output_type": "stream",
     "text": [
      "Age set to 5\n"
     ]
    }
   ],
   "source": [
    "def set(age):\n",
    "    if age < 0:\n",
    "        raise ValueError(\"Age cannot be negative.\")\n",
    "    print(f\"Age set to {age}\")\n",
    "\n",
    "try:\n",
    "    set(5)\n",
    "except ValueError as e:\n",
    "    print(e)\n"
   ]
  },
  {
   "cell_type": "code",
   "execution_count": 18,
   "id": "9f308765-93af-4d85-99da-2b17c606eef2",
   "metadata": {},
   "outputs": [
    {
     "name": "stdout",
     "output_type": "stream",
     "text": [
      "age set to 5\n"
     ]
    }
   ],
   "source": [
    "def set(age):\n",
    "    if age < 0:\n",
    "        raise ValueError(\"age cannot be negative\")\n",
    "    print(f\"age set to {age}\")\n",
    "\n",
    "try:\n",
    "    set(5)\n",
    "except ValueError as e:\n",
    "    print(e)"
   ]
  },
  {
   "cell_type": "code",
   "execution_count": 24,
   "id": "76261e4d-ccd7-42fc-86f3-113e28e0bd9c",
   "metadata": {},
   "outputs": [
    {
     "name": "stdout",
     "output_type": "stream",
     "text": [
      "Age set to 10\n"
     ]
    }
   ],
   "source": [
    "class ageerror(Exception):\n",
    "    def __init__(self,age,msg=\"Age must be between 0 and 120\"):\n",
    "        self.age = age\n",
    "        self.msg = msg\n",
    "\n",
    "    def __str__(self):\n",
    "        return f\"{self.age} -> {self.msg}\"\n",
    "\n",
    "def set_age(age):\n",
    "    if age < 0 or age > 120:\n",
    "        raise ageerror(age)\n",
    "    else:\n",
    "        print(f\"Age set to {age}\")\n",
    "\n",
    "try:\n",
    "    set_age(10)\n",
    "except ageerror as e:\n",
    "    print(e)"
   ]
  },
  {
   "cell_type": "markdown",
   "id": "bfa0a689-42ba-4667-ac16-61c4a3a93622",
   "metadata": {},
   "source": [
    "# Example: Handling Division by Zero"
   ]
  },
  {
   "cell_type": "code",
   "execution_count": 7,
   "id": "a388a64d-35bf-4a91-bf15-50b010920c15",
   "metadata": {},
   "outputs": [
    {
     "name": "stdout",
     "output_type": "stream",
     "text": [
      "2.0\n"
     ]
    }
   ],
   "source": [
    "try:\n",
    "    a = 10\n",
    "    b = 5\n",
    "    res = a / b\n",
    "    print(res)\n",
    "except:\n",
    "    print(\"Error: cannot devided by zero!!\")"
   ]
  },
  {
   "cell_type": "markdown",
   "id": "7706ad75-a874-4b40-84fd-7b029e12a748",
   "metadata": {},
   "source": [
    "# **🔹 Handling Specific Exceptions**\n",
    "Instead of catching **all** exceptions, we can catch **specific errors**.\n",
    "\n",
    "| Exception Type        | Description |\n",
    "|-----------------------|------------|\n",
    "| `ZeroDivisionError`   | When dividing by zero |\n",
    "| `ValueError`          | When a value is wrong |\n",
    "| `TypeError`          | When operations are on incorrect types |\n",
    "| `IndexError`         | When index is out of range |"
   ]
  },
  {
   "cell_type": "markdown",
   "id": "c0fcbc32-636e-4ecc-a5c3-c1ba21efac6e",
   "metadata": {},
   "source": [
    "### **✅ Example: Handling Multiple Exception Types**"
   ]
  },
  {
   "cell_type": "code",
   "execution_count": 120,
   "id": "f7eb8b1d-c3eb-4924-bd0e-2a8f52fa8088",
   "metadata": {},
   "outputs": [
    {
     "name": "stdin",
     "output_type": "stream",
     "text": [
      "enter first number:  9\n",
      "enter second number:  0\n"
     ]
    },
    {
     "name": "stdout",
     "output_type": "stream",
     "text": [
      "Error: cannot devided by zero!!\n"
     ]
    }
   ],
   "source": [
    "try:\n",
    "    num1 = int(input(\"enter first number: \")) \n",
    "    num2 = int(input(\"enter second number: \"))\n",
    "    result = num1/num2\n",
    "    print(result)\n",
    "except ZeroDivisionError:\n",
    "    print(\"Error: cannot devided by zero!!\")\n",
    "except ValueError:\n",
    "    print(\"Error: please enter only numbers!!\")\n",
    "\n",
    "    "
   ]
  },
  {
   "cell_type": "markdown",
   "id": "8c4a7207-c3aa-45f3-87fa-67f1300f2942",
   "metadata": {},
   "source": [
    "# **🔹 Using `finally` Block**\n",
    "✅ The `finally` block **always executes**, whether an exception occurs or not.  \n",
    "✅ Used for **cleanup tasks**, like closing files or database connections.  \n",
    "\n",
    "### **✅ Example: `finally` Usage**"
   ]
  },
  {
   "cell_type": "code",
   "execution_count": 26,
   "id": "6db1303b-d9ac-4f9d-bc3e-c6001d3ef46f",
   "metadata": {},
   "outputs": [
    {
     "name": "stdin",
     "output_type": "stream",
     "text": [
      "Enter number:  2\n"
     ]
    },
    {
     "name": "stdout",
     "output_type": "stream",
     "text": [
      "2\n",
      "This message will always be displayed.\n"
     ]
    }
   ],
   "source": [
    "try:\n",
    "    num = int(input(\"Enter number: \"))\n",
    "    print(num)\n",
    "except ValueError:\n",
    "    print(\"Error: please enter number only.\")\n",
    "finally:\n",
    "    print(\"This message will always be displayed.\")"
   ]
  },
  {
   "cell_type": "code",
   "execution_count": 52,
   "id": "4595b9c8-0e82-4979-bc8d-94f1392ebbaf",
   "metadata": {},
   "outputs": [
    {
     "name": "stdout",
     "output_type": "stream",
     "text": [
      "Overwritten content.\n",
      "\n",
      "closing file...\n"
     ]
    }
   ],
   "source": [
    "try:\n",
    "    f = open(\"myfile.txt\",\"r\")\n",
    "    content = f.read()\n",
    "    print(content)\n",
    "except FileNotFoundError:\n",
    "    print(\"File not found.\")\n",
    "finally: \n",
    "    print(\"closing file...\")\n",
    "    f.close()"
   ]
  },
  {
   "cell_type": "markdown",
   "id": "c4b25ea9-b23d-44ab-85fd-22b7e51563bd",
   "metadata": {},
   "source": [
    "**Why use `finally`?**  \n",
    "👉 Ensures that **important code (like closing files)** runs even if an error occurs."
   ]
  },
  {
   "cell_type": "markdown",
   "id": "1e6cb25c-314e-4930-853c-e36ae08a76e6",
   "metadata": {},
   "source": [
    "# **🔹 Raising an Exception (`raise`)**\n",
    "Sometimes, you may want to manually trigger an exception using **`raise`**.\n",
    "\n",
    "### **✅ Example: Raising an Exception**"
   ]
  },
  {
   "cell_type": "code",
   "execution_count": 34,
   "id": "013e037e-556d-4c32-b56c-5352c30247cd",
   "metadata": {},
   "outputs": [
    {
     "name": "stdin",
     "output_type": "stream",
     "text": [
      "Enter your age:  20\n"
     ]
    },
    {
     "name": "stdout",
     "output_type": "stream",
     "text": [
      "you are allowed\n"
     ]
    }
   ],
   "source": [
    "age = int(input(\"Enter your age: \"))\n",
    "\n",
    "if age < 18:\n",
    "    raise ValueError(\"you must be 18 or older.\")\n",
    "else:\n",
    "    print(\"you are allowed\")"
   ]
  },
  {
   "cell_type": "markdown",
   "id": "665afc10-972d-41b9-ac08-7e8fbd9bc868",
   "metadata": {},
   "source": [
    "## **🔹 Using `else` with `try-except`**\n",
    "- The `else` block **runs only if no exception occurs**.\n",
    "- It is **useful** for code that should execute **only if the `try` block runs successfully**.\n",
    "\n",
    "### **🟢 Example**"
   ]
  },
  {
   "cell_type": "code",
   "execution_count": 59,
   "id": "91695d4d-e1b3-4ed3-a187-83f05e0a3822",
   "metadata": {},
   "outputs": [
    {
     "name": "stdin",
     "output_type": "stream",
     "text": [
      "Enter the number:  2\n"
     ]
    },
    {
     "name": "stdout",
     "output_type": "stream",
     "text": [
      "2\n",
      "Great! no error occured!\n"
     ]
    }
   ],
   "source": [
    "try:\n",
    "    num = int(input(\"Enter the number: \"))\n",
    "    print(num)\n",
    "except ValueError:\n",
    "    print(\"Enter number only.\")\n",
    "else:\n",
    "    print(\"Great! no error occured!\")"
   ]
  },
  {
   "cell_type": "markdown",
   "id": "05cc28c0-0051-4a94-ba32-d10fb9cd9650",
   "metadata": {},
   "source": [
    "# **🔹 Built-in Exceptions in Python**\n",
    "Python provides many built-in exceptions:\n",
    "\n",
    "| Exception Type        | Description |\n",
    "|-----------------------|------------|\n",
    "| `ZeroDivisionError`   | Raised when dividing by zero |\n",
    "| `ValueError`          | Raised when a function receives the wrong data type |\n",
    "| `TypeError`          | Raised when performing an operation on incompatible types |\n",
    "| `IndexError`         | Raised when accessing an out-of-range index |\n",
    "| `KeyError`           | Raised when accessing a non-existing dictionary key |\n",
    "| `FileNotFoundError`  | Raised when trying to open a non-existing file |\n",
    "| `IOError`            | Raised when an input/output operation fails |\n"
   ]
  },
  {
   "cell_type": "markdown",
   "id": "67a4f9e1-9047-4009-aa27-84d11c699fc5",
   "metadata": {},
   "source": [
    "### **✅ Example: Handling `IndexError`**"
   ]
  },
  {
   "cell_type": "code",
   "execution_count": 38,
   "id": "e139347e-e4ec-4013-972e-cd6bbf448a89",
   "metadata": {},
   "outputs": [
    {
     "name": "stdout",
     "output_type": "stream",
     "text": [
      "Error: Index out of range.\n"
     ]
    }
   ],
   "source": [
    "try:\n",
    "    l = [10,20,30]\n",
    "    print(l[4])\n",
    "except IndexError:\n",
    "    print(\"Error: Index out of range.\")"
   ]
  },
  {
   "cell_type": "markdown",
   "id": "c38926aa-ca37-4985-8712-06dd5f9b9e8b",
   "metadata": {},
   "source": [
    "\n",
    "# **🔹 User-Defined Exceptions**\n",
    "✅ We can create **custom exceptions** by defining a new class **that inherits from `Exception`**.\n",
    "\n",
    "### **✅ Example: Custom Exception for Age Verification**"
   ]
  },
  {
   "cell_type": "code",
   "execution_count": 63,
   "id": "5e265e5b-2a06-4d5d-af42-e242f48a684e",
   "metadata": {},
   "outputs": [
    {
     "name": "stdin",
     "output_type": "stream",
     "text": [
      "Enter your age:  32\n"
     ]
    },
    {
     "name": "stdout",
     "output_type": "stream",
     "text": [
      "Access granted.\n"
     ]
    }
   ],
   "source": [
    "class ageyoungerror(Exception):\n",
    "    pass\n",
    "\n",
    "try:\n",
    "    age = int(input(\"Enter your age: \"))\n",
    "    if age < 18:\n",
    "        raise ageyoungerror\n",
    "    print(\"Access granted.\")\n",
    "except ageyoungerror:\n",
    "    print(\"Error: you must be atleast 18 years old.\")"
   ]
  },
  {
   "cell_type": "markdown",
   "id": "64fd6b05-42c3-47f4-9d77-1ff13d9225d7",
   "metadata": {},
   "source": [
    "## **🎯 Complete Example**"
   ]
  },
  {
   "cell_type": "code",
   "execution_count": 72,
   "id": "d7f0eab2-6659-4895-b16e-3edd02a2f49d",
   "metadata": {},
   "outputs": [
    {
     "name": "stdin",
     "output_type": "stream",
     "text": [
      "Enter your age:  2\n"
     ]
    },
    {
     "name": "stdout",
     "output_type": "stream",
     "text": [
      "2\n",
      "Great! no error occured!\n",
      "Thank you for using our program!\n"
     ]
    }
   ],
   "source": [
    "class AgeError(Exception):\n",
    "    pass\n",
    "\n",
    "try:\n",
    "    age = int(input(\"Enter your age: \"))\n",
    "    if age < 0:\n",
    "        raise AgeError\n",
    "    print(age)\n",
    "except AgeError:\n",
    "    print(\"Error: Age cannot be negative.\")\n",
    "except ValueError:\n",
    "    print(\"Error: please entre valid number.\")\n",
    "else:\n",
    "    print(\"Great! no error occured!\")\n",
    "finally:\n",
    "    print(\"Thank you for using our program!\")"
   ]
  },
  {
   "cell_type": "markdown",
   "id": "4a4cee36-b822-45fb-a4f2-f3a78658fedb",
   "metadata": {},
   "source": [
    "## **📌 Nested `try-except` Blocks**\n",
    "👉 We can use multiple `try-except` blocks **inside each other** to handle different parts of the code separately.\n",
    "\n",
    "### **✅ Example: Nested Exception Handling**"
   ]
  },
  {
   "cell_type": "code",
   "execution_count": 81,
   "id": "b3c7110c-4962-4189-b884-89ee64f6217c",
   "metadata": {},
   "outputs": [
    {
     "name": "stdin",
     "output_type": "stream",
     "text": [
      "Enter first number:  1\n",
      "Enter second number:  2\n"
     ]
    },
    {
     "name": "stdout",
     "output_type": "stream",
     "text": [
      "0.5\n"
     ]
    }
   ],
   "source": [
    "try:\n",
    "    num1 = int(input(\"Enter first number: \"))\n",
    "    num2 = int(input(\"Enter second number: \"))\n",
    "\n",
    "    try:\n",
    "        res = num1/num2\n",
    "        print(res)\n",
    "    except ZeroDivisionError:\n",
    "        print(\"Error: canno devide by zero!\")\n",
    "\n",
    "except ValueError:\n",
    "    print(\"please enter valid number.\")"
   ]
  },
  {
   "cell_type": "markdown",
   "id": "1aff39af-63c5-4206-bc1b-fee02d55038a",
   "metadata": {},
   "source": [
    "## **🔹 Logging Exceptions (Best Practice)**\n",
    "✅ Instead of printing errors, we can **log them** using Python's built-in `logging` module.\n",
    "\n",
    "### **✅ Example: Logging Errors Instead of Printing**"
   ]
  },
  {
   "cell_type": "code",
   "execution_count": 92,
   "id": "3f51ec61-bb33-4a94-ac81-3cd9b42b0cba",
   "metadata": {},
   "outputs": [
    {
     "name": "stdin",
     "output_type": "stream",
     "text": [
      "enter first number:  w\n"
     ]
    },
    {
     "name": "stdout",
     "output_type": "stream",
     "text": [
      "Exception occured. please check error.log file\n"
     ]
    }
   ],
   "source": [
    "import logging\n",
    "\n",
    "logging.basicConfig(filename=\"error.log\",level=logging.ERROR)\n",
    "\n",
    "try:\n",
    "    num1 = int(input(\"enter first number: \"))\n",
    "    num2 = int(input(\"enter second number: \"))\n",
    "    res = num1/num2\n",
    "    print(res)\n",
    "except Exception as e:\n",
    "    logging.error(\"Exception occured: %s\",str(e))\n",
    "    print(\"Exception occured. please check error.log file\")"
   ]
  },
  {
   "cell_type": "markdown",
   "id": "4aa1eb39-5004-4ae9-bc4a-004e6d28558d",
   "metadata": {},
   "source": [
    "## **🔹 Handling Multiple Exceptions in One `except`**\n",
    "Instead of writing multiple `except` blocks, we can **handle multiple exceptions in one line**.\n",
    "\n",
    "### **✅ Example: Catching Multiple Exceptions in One Block**"
   ]
  },
  {
   "cell_type": "code",
   "execution_count": 101,
   "id": "102d194e-2342-408e-b380-f4bed9ab7418",
   "metadata": {},
   "outputs": [
    {
     "name": "stdin",
     "output_type": "stream",
     "text": [
      "Enter a number:  2\n",
      "Enter another number:  e\n"
     ]
    },
    {
     "name": "stdout",
     "output_type": "stream",
     "text": [
      "Error: invalid literal for int() with base 10: 'e'\n"
     ]
    }
   ],
   "source": [
    "try:\n",
    "    num1 = int(input(\"Enter a number: \"))\n",
    "    num2 = int(input(\"Enter another number: \"))\n",
    "    result = num1 / num2\n",
    "    print(result)\n",
    "except (ZeroDivisionError, ValueError) as e:\n",
    "    print(f\"Error: {e}\")"
   ]
  },
  {
   "cell_type": "markdown",
   "id": "9caa3081-3b4f-44a9-a7f7-a06336ca2b48",
   "metadata": {},
   "source": [
    "## **🔹 Using `assert` for Debugging**\n",
    "✅ The `assert` statement **raises an exception** if a condition is false.  \n",
    "✅ Mainly used for **debugging**.\n",
    "\n",
    "### **✅ Example: Using `assert`**"
   ]
  },
  {
   "cell_type": "code",
   "execution_count": 113,
   "id": "94b79322-b24f-4e07-9ca0-70fb02e8a16a",
   "metadata": {},
   "outputs": [
    {
     "data": {
      "text/plain": [
       "9"
      ]
     },
     "execution_count": 113,
     "metadata": {},
     "output_type": "execute_result"
    }
   ],
   "source": [
    "def get_positive_number(num):\n",
    "    assert num > 0, \"Number must be positive!\"\n",
    "    return num\n",
    "\n",
    "get_positive_number(9)"
   ]
  },
  {
   "cell_type": "code",
   "execution_count": null,
   "id": "82991076-8373-450b-9416-7f153baa80f7",
   "metadata": {},
   "outputs": [],
   "source": []
  },
  {
   "cell_type": "code",
   "execution_count": null,
   "id": "51ff5fd5-0e7c-4989-8c16-8b795c564df1",
   "metadata": {},
   "outputs": [],
   "source": []
  }
 ],
 "metadata": {
  "kernelspec": {
   "display_name": "Python [conda env:base] *",
   "language": "python",
   "name": "conda-base-py"
  },
  "language_info": {
   "codemirror_mode": {
    "name": "ipython",
    "version": 3
   },
   "file_extension": ".py",
   "mimetype": "text/x-python",
   "name": "python",
   "nbconvert_exporter": "python",
   "pygments_lexer": "ipython3",
   "version": "3.12.7"
  }
 },
 "nbformat": 4,
 "nbformat_minor": 5
}
