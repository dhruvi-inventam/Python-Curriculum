{
 "cells": [
  {
   "cell_type": "markdown",
   "id": "c0fc7b41-3c9b-4a7c-af47-26579618769c",
   "metadata": {},
   "source": [
    "🔹 How to Create an Iterator in Python\n",
    "\n",
    "A list, tuple, set, or string is iterable but not an iterator.\n",
    "To create an iterator, we use the iter() function.\n",
    "\n",
    "🟢 Example: Convert List to Iterator\n"
   ]
  },
  {
   "cell_type": "code",
   "execution_count": 13,
   "id": "a7db8f55-ced4-45af-b843-a6d687c13e40",
   "metadata": {},
   "outputs": [
    {
     "name": "stdout",
     "output_type": "stream",
     "text": [
      "1\n",
      "2\n",
      "3\n",
      "4\n",
      "5\n"
     ]
    }
   ],
   "source": [
    "n = [1,2,3,4,5]\n",
    "i = iter(n)\n",
    "print(next(i))\n",
    "print(next(i))\n",
    "print(next(i))\n",
    "print(next(i))\n",
    "print(next(i))"
   ]
  },
  {
   "cell_type": "markdown",
   "id": "568b31f6-bdd4-4f90-aa10-8b5597c31f11",
   "metadata": {},
   "source": [
    "🔹 Using a Loop with an Iterator\n",
    "\n",
    "Since next() manually fetches elements, we usually use a for loop.\n",
    "\n",
    "👉 Why use for loops?\n",
    "\n",
    "It automatically calls next() until all elements are exhausted.\n",
    "\n",
    "It handles StopIteration error automatically.\n",
    "\n",
    "\n",
    "\n",
    "🟢 Example: Using for Loop"
   ]
  },
  {
   "cell_type": "code",
   "execution_count": 16,
   "id": "db5013e9-d92b-4609-b02d-3d863752ba52",
   "metadata": {},
   "outputs": [
    {
     "name": "stdout",
     "output_type": "stream",
     "text": [
      "1\n",
      "2\n",
      "3\n",
      "4\n",
      "5\n"
     ]
    }
   ],
   "source": [
    "n = [1,2,3,4,5]\n",
    "\n",
    "for num in iter(n):\n",
    "    print(num)"
   ]
  },
  {
   "cell_type": "markdown",
   "id": "68d1de24-0eda-4141-a953-efaf4be4fce8",
   "metadata": {},
   "source": [
    "🔹 Creating a Custom Iterator\n",
    "\n",
    "To create a custom iterator, we need to:\n",
    "\n",
    "1. Define a class with __iter__() and __next__().\n",
    "\n",
    "\n",
    "2. __iter__() initializes the iterator.\n",
    "\n",
    "\n",
    "3. __next__() returns the next value.\n",
    "\n",
    "\n",
    "\n",
    "🟢 Example: Create an Iterator That Returns Numbers Up to a Limit\n"
   ]
  },
  {
   "cell_type": "code",
   "execution_count": 22,
   "id": "51ac4a06-795a-4a6a-806e-20b7d42b394d",
   "metadata": {},
   "outputs": [
    {
     "name": "stdout",
     "output_type": "stream",
     "text": [
      "1\n",
      "2\n",
      "3\n",
      "4\n",
      "5\n"
     ]
    }
   ],
   "source": [
    "class counter:\n",
    "    def __init__(self,limit):\n",
    "        self.limit = limit\n",
    "        self.current = 1\n",
    "\n",
    "    def __iter__(self):\n",
    "        return (self)\n",
    "\n",
    "    def __next__(self):\n",
    "        if self.current > self.limit:\n",
    "            raise StopIteration\n",
    "        else:\n",
    "            value = self.current\n",
    "            self.current += 1\n",
    "            return value\n",
    "\n",
    "c = counter(5)\n",
    "\n",
    "for n in c:\n",
    "    print(n)"
   ]
  },
  {
   "cell_type": "markdown",
   "id": "f0b969ee-1935-4066-9e00-33b0b603c70f",
   "metadata": {},
   "source": [
    "🔹 StopIteration Error\n",
    "\n",
    "If we call next() on an iterator beyond its limit, Python raises StopIteration.\n",
    "\n",
    "🟢 Example:\n"
   ]
  },
  {
   "cell_type": "code",
   "execution_count": 25,
   "id": "a69b53fe-72a1-4aca-8439-fe71daee2e4c",
   "metadata": {},
   "outputs": [
    {
     "name": "stdout",
     "output_type": "stream",
     "text": [
      "10\n",
      "20\n",
      "30\n"
     ]
    },
    {
     "ename": "StopIteration",
     "evalue": "",
     "output_type": "error",
     "traceback": [
      "\u001b[0;31m---------------------------------------------------------------------------\u001b[0m",
      "\u001b[0;31mStopIteration\u001b[0m                             Traceback (most recent call last)",
      "Cell \u001b[0;32mIn[25], line 7\u001b[0m\n\u001b[1;32m      5\u001b[0m \u001b[38;5;28mprint\u001b[39m(\u001b[38;5;28mnext\u001b[39m(iterator))  \u001b[38;5;66;03m# Output: 20\u001b[39;00m\n\u001b[1;32m      6\u001b[0m \u001b[38;5;28mprint\u001b[39m(\u001b[38;5;28mnext\u001b[39m(iterator))  \u001b[38;5;66;03m# Output: 30\u001b[39;00m\n\u001b[0;32m----> 7\u001b[0m \u001b[38;5;28mprint\u001b[39m(\u001b[38;5;28mnext\u001b[39m(iterator))\n",
      "\u001b[0;31mStopIteration\u001b[0m: "
     ]
    }
   ],
   "source": [
    "numbers = [10, 20, 30]\n",
    "iterator = iter(numbers)\n",
    "\n",
    "print(next(iterator))  # Output: 10\n",
    "print(next(iterator))  # Output: 20\n",
    "print(next(iterator))  # Output: 30\n",
    "print(next(iterator))  # Raises StopIteration error"
   ]
  },
  {
   "cell_type": "markdown",
   "id": "44df2ba1-a02d-48f7-86b4-0e8d253c9788",
   "metadata": {},
   "source": [
    "👉 To avoid this error, always use a for loop.\n"
   ]
  },
  {
   "cell_type": "code",
   "execution_count": 28,
   "id": "4729093b-b30f-4942-9e9e-0c3054db0d5a",
   "metadata": {},
   "outputs": [
    {
     "name": "stdout",
     "output_type": "stream",
     "text": [
      "1\n",
      "2\n",
      "3\n"
     ]
    }
   ],
   "source": [
    "class InfiniteCounter:\n",
    "    def __iter__(self):\n",
    "        self.current = 1\n",
    "        return self\n",
    "\n",
    "    def __next__(self):\n",
    "        value = self.current\n",
    "        self.current += 1\n",
    "        return value  # Never stops!\n",
    "\n",
    "counter = InfiniteCounter()\n",
    "iterator = iter(counter)\n",
    "\n",
    "print(next(iterator))  # Output: 1\n",
    "print(next(iterator))  # Output: 2\n",
    "print(next(iterator))  # Output: 3\n",
    "# This will go on forever!"
   ]
  },
  {
   "cell_type": "markdown",
   "id": "649d5259-5349-42ee-8e59-f5855e0355f8",
   "metadata": {},
   "source": [
    "\n",
    "🔹 Built-in Iterators in Python\n",
    "\n",
    "Python has many built-in iterators, such as:\n",
    "\n",
    "1. range()\n",
    "\n",
    "\n",
    "2. enumerate()\n",
    "\n",
    "\n",
    "3. zip()\n",
    "\n",
    "\n",
    "4. map()\n",
    "\n",
    "\n",
    "5. filter()\n",
    "\n",
    "\n",
    "\n",
    "🟢 Example: range() is an Iterator\n"
   ]
  },
  {
   "cell_type": "code",
   "execution_count": 46,
   "id": "f0bfe8ea-c04e-41f3-84f7-4cf2c291015b",
   "metadata": {},
   "outputs": [
    {
     "name": "stdout",
     "output_type": "stream",
     "text": [
      "0\n",
      "0\n",
      "0\n"
     ]
    }
   ],
   "source": [
    "num = range(5)\n",
    "\n",
    "print(next(iter(num)))\n",
    "print(next(iter(num)))\n",
    "print(next(iter(num)))"
   ]
  },
  {
   "cell_type": "markdown",
   "id": "6ed372b9-0ae3-4efe-bc3c-1d4ee0461fc0",
   "metadata": {},
   "source": [
    "\n",
    "🔹 Generators (Simpler Way to Create Iterators)\n",
    "\n",
    "Generators simplify iterators using the yield keyword.\n",
    "\n",
    "🟢 Example: Using yield\n"
   ]
  },
  {
   "cell_type": "code",
   "execution_count": 57,
   "id": "50da1b09-01ce-47b1-9899-838f6c9cda68",
   "metadata": {},
   "outputs": [
    {
     "name": "stdout",
     "output_type": "stream",
     "text": [
      "1\n",
      "2\n",
      "3\n"
     ]
    }
   ],
   "source": [
    "def counter(limit):\n",
    "    current = 1\n",
    "    while current <= limit:\n",
    "        yield current\n",
    "        current += 1\n",
    "\n",
    "c = counter(3)\n",
    "\n",
    "print(next(c))\n",
    "print(next(c))\n",
    "print(next(c))"
   ]
  },
  {
   "cell_type": "markdown",
   "id": "026905d6-ee1d-4738-9601-82651888e83b",
   "metadata": {},
   "source": [
    "\n",
    "✅ Benefits of Generators:\n",
    "\n",
    "Easier to write than classes.\n",
    "\n",
    "Memory-efficient (does not store all values at once).\n",
    "\n",
    "Automatically maintains state.\n",
    "\n"
   ]
  },
  {
   "cell_type": "code",
   "execution_count": null,
   "id": "47e3f46c-ebc5-4a20-98e0-322b76f5449e",
   "metadata": {},
   "outputs": [],
   "source": []
  }
 ],
 "metadata": {
  "kernelspec": {
   "display_name": "Python [conda env:base] *",
   "language": "python",
   "name": "conda-base-py"
  },
  "language_info": {
   "codemirror_mode": {
    "name": "ipython",
    "version": 3
   },
   "file_extension": ".py",
   "mimetype": "text/x-python",
   "name": "python",
   "nbconvert_exporter": "python",
   "pygments_lexer": "ipython3",
   "version": "3.12.7"
  }
 },
 "nbformat": 4,
 "nbformat_minor": 5
}
