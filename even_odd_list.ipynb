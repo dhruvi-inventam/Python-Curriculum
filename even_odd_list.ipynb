{
 "cells": [
  {
   "cell_type": "code",
   "execution_count": 2,
   "id": "2c5860b9-2378-42f3-b99f-bc8797f47d4c",
   "metadata": {},
   "outputs": [
    {
     "name": "stdout",
     "output_type": "stream",
     "text": [
      "6992378\n",
      "[[8, 7], [3, 2], [9, 9], [6]]\n"
     ]
    }
   ],
   "source": [
    "n=[8732996]\n",
    "num = n[0]\n",
    "rev =0\n",
    "while num > 0:\n",
    "    rev = rev * 10 + (num % 10) \n",
    "    num = num // 10\n",
    "\n",
    "num = rev\n",
    "print(num)\n",
    "sub = []\n",
    "main = []\n",
    "while num>0:\n",
    "    l = num % 10\n",
    "    # print(l)\n",
    "    # s = (num // 10) % 10\n",
    "    # print(s)\n",
    "    # sub.append([l, s])\n",
    "    # print(sub)\n",
    "    num = num//10\n",
    "    # print(num)\n",
    "    if num > 0:\n",
    "        s = num % 10\n",
    "        num = num//10\n",
    "        sub.append([l, s])  \n",
    "    else:\n",
    "        sub.append([l]) \n",
    "\n",
    "main = sub  \n",
    "print(main)"
   ]
  },
  {
   "cell_type": "code",
   "execution_count": 5,
   "id": "8918ca32-212d-4629-b9e9-7e8eed636bf8",
   "metadata": {},
   "outputs": [
    {
     "name": "stdout",
     "output_type": "stream",
     "text": [
      "492378\n",
      "8\n",
      "7\n",
      "[[8, 7]]\n",
      "4923\n",
      "3\n",
      "2\n",
      "[[8, 7], [3, 2]]\n",
      "49\n",
      "9\n",
      "4\n",
      "[[8, 7], [3, 2], [9, 4]]\n",
      "0\n",
      "[[8, 7], [3, 2], [9, 4]]\n"
     ]
    }
   ],
   "source": [
    "n=[873294]\n",
    "num = n[0]\n",
    "rev =0\n",
    "while num > 0:\n",
    "    rev = rev * 10 + (num % 10) \n",
    "    num = num // 10\n",
    "\n",
    "num = rev\n",
    "print(num)\n",
    "sub = []\n",
    "main = []\n",
    "while True:\n",
    "    l = num % 10\n",
    "    print(l)\n",
    "    s = (num // 10) % 10\n",
    "    print(s)\n",
    "    sub.append([l, s])\n",
    "    print(sub)\n",
    "    num = num//100\n",
    "    print(num)\n",
    "    if num % 2 == 0: \n",
    "        break\n",
    "\n",
    "main = sub  \n",
    "print(main)"
   ]
  },
  {
   "cell_type": "code",
   "execution_count": 7,
   "id": "f0065888-9127-4272-b53f-b14488065f04",
   "metadata": {},
   "outputs": [
    {
     "name": "stdout",
     "output_type": "stream",
     "text": [
      "[[4, 2], [3, 5], [7, 8]]\n"
     ]
    }
   ],
   "source": [
    "n = 423578\n",
    "output = []\n",
    " \n",
    "while n > 0:\n",
    "    pair = [n % 100 // 10, n % 10]\n",
    "    output.append(pair)\n",
    "    n = n // 100\n",
    " \n",
    "output.reverse()\n",
    "\n",
    "print(output)"
   ]
  },
  {
   "cell_type": "code",
   "execution_count": null,
   "id": "c7bd891b-bd9a-434b-837e-dbcbb96b1612",
   "metadata": {},
   "outputs": [],
   "source": []
  }
 ],
 "metadata": {
  "kernelspec": {
   "display_name": "Python [conda env:base] *",
   "language": "python",
   "name": "conda-base-py"
  },
  "language_info": {
   "codemirror_mode": {
    "name": "ipython",
    "version": 3
   },
   "file_extension": ".py",
   "mimetype": "text/x-python",
   "name": "python",
   "nbconvert_exporter": "python",
   "pygments_lexer": "ipython3",
   "version": "3.12.7"
  }
 },
 "nbformat": 4,
 "nbformat_minor": 5
}
