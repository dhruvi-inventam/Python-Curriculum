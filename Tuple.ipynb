{
 "cells": [
  {
   "cell_type": "markdown",
   "id": "c86a0ad1-160e-45ed-bd37-3a28539588f1",
   "metadata": {},
   "source": [
    " ## Tuple"
   ]
  },
  {
   "cell_type": "markdown",
   "id": "0e676f97-d7e1-4b9d-bf38-e054a7f30616",
   "metadata": {},
   "source": [
    "A tuple in Python is an immutable ordered collection of elements with round brackets"
   ]
  },
  {
   "cell_type": "markdown",
   "id": "01b9f534-bd22-44f7-948e-21119f305a96",
   "metadata": {},
   "source": [
    "A tuple is similar to a Python list in terms of indexing, nested objects, and repetition but the main difference between both is Python tuple is immutable, unlike the Python list which is mutable."
   ]
  },
  {
   "cell_type": "markdown",
   "id": "7b312246-8036-4784-b102-f47781d07622",
   "metadata": {},
   "source": [
    "#### Creating Tuple"
   ]
  },
  {
   "cell_type": "code",
   "execution_count": 7,
   "id": "35fbebd8-30a6-4ca3-8898-c944d50e80c5",
   "metadata": {},
   "outputs": [
    {
     "name": "stdout",
     "output_type": "stream",
     "text": [
      "2\n",
      "5\n",
      "(1, 2, 3, 4, 2, 3)\n"
     ]
    }
   ],
   "source": [
    "t = (1, 2, 3, 4, 5)\n",
    "\n",
    "print(t[1])\n",
    "print(t[4])\n",
    "\n",
    "t = (1, 2, 3, 4, 2, 3)\n",
    "print(t)\n",
    "\n",
    "# t[1] = 100 Tuple Dosn't allow Updation\n",
    "# print(t)"
   ]
  },
  {
   "cell_type": "markdown",
   "id": "abd37892-705d-4e44-8105-7f68ff2a8e93",
   "metadata": {},
   "source": [
    "#### Accessing Tuple"
   ]
  },
  {
   "cell_type": "code",
   "execution_count": 9,
   "id": "cae38c47-abc3-4427-bd1b-c35bb7aaecfc",
   "metadata": {},
   "outputs": [
    {
     "name": "stdout",
     "output_type": "stream",
     "text": [
      "Value in t[0] =  10\n",
      "Value in t[1] =  5\n",
      "Value in t[2] =  20\n",
      "Value in t[-1] =  20\n",
      "Value in t[-2] =  5\n",
      "Value in t[-3] =  10\n"
     ]
    }
   ],
   "source": [
    "t = (10, 5, 20)\n",
    "\n",
    "print(\"Value in t[0] = \", t[0])\n",
    "print(\"Value in t[1] = \", t[1])\n",
    "print(\"Value in t[2] = \", t[2])\n",
    "\n",
    "\n",
    "t = (10, 5, 20)\n",
    "\n",
    "print(\"Value in t[-1] = \", t[-1])\n",
    "print(\"Value in t[-2] = \", t[-2])\n",
    "print(\"Value in t[-3] = \", t[-3])"
   ]
  },
  {
   "cell_type": "markdown",
   "id": "cdb8ac85-61a2-4b43-b468-32da14e7da69",
   "metadata": {},
   "source": [
    "#### Concatenation"
   ]
  },
  {
   "cell_type": "code",
   "execution_count": 14,
   "id": "337fe7b9-af1d-4cbf-a41a-dea817660b8d",
   "metadata": {},
   "outputs": [
    {
     "name": "stdout",
     "output_type": "stream",
     "text": [
      "(0, 1, 2, 3, 'python', 'geek')\n"
     ]
    }
   ],
   "source": [
    "t1 = (0, 1, 2, 3)\n",
    "t2 = ('python', 'geek')\n",
    "\n",
    "print(t1 + t2)"
   ]
  },
  {
   "cell_type": "markdown",
   "id": "d68a60e4-9b17-4f1f-86c0-6acc60f02244",
   "metadata": {},
   "source": [
    "#### Repetition Python Tuples"
   ]
  },
  {
   "cell_type": "code",
   "execution_count": 17,
   "id": "a3c03708-3c7b-4374-84e7-8a52db94ad8c",
   "metadata": {},
   "outputs": [
    {
     "name": "stdout",
     "output_type": "stream",
     "text": [
      "('python', 'python', 'python')\n"
     ]
    }
   ],
   "source": [
    "t = ('python',)*3\n",
    "print(t)\n"
   ]
  },
  {
   "cell_type": "markdown",
   "id": "f07b9965-f505-4009-ab65-d3760b7fc339",
   "metadata": {},
   "source": [
    "#### Nesting "
   ]
  },
  {
   "cell_type": "code",
   "execution_count": 22,
   "id": "90e7b2ff-0c6f-4a26-9ee5-db4a2626a4fa",
   "metadata": {},
   "outputs": [
    {
     "name": "stdout",
     "output_type": "stream",
     "text": [
      "((0, 1, 2, 3), ('python', 'geek'))\n"
     ]
    }
   ],
   "source": [
    "t1 = (0, 1, 2, 3)\n",
    "t2 = ('python', 'geek')\n",
    "\n",
    "t3 = (t1, t2)\n",
    "print(t3)"
   ]
  },
  {
   "cell_type": "markdown",
   "id": "4495a499-4750-4cdb-8876-6f8598f27982",
   "metadata": {},
   "source": [
    "#### Slicing"
   ]
  },
  {
   "cell_type": "code",
   "execution_count": 27,
   "id": "f78174a2-5711-41ba-876c-907552fb8597",
   "metadata": {},
   "outputs": [
    {
     "name": "stdout",
     "output_type": "stream",
     "text": [
      "(1, 2, 3)\n",
      "(3, 2, 1, 0)\n",
      "(2, 3)\n"
     ]
    }
   ],
   "source": [
    "t = (0 ,1, 2, 3)\n",
    "\n",
    "print(t[1:])\n",
    "print(t[::-1])\n",
    "print(t[2:4])"
   ]
  },
  {
   "cell_type": "markdown",
   "id": "47a0216d-ed7d-4c45-91d9-8ec366eaeba9",
   "metadata": {},
   "source": [
    "#### Deleting"
   ]
  },
  {
   "cell_type": "code",
   "execution_count": 34,
   "id": "64aa27ae-3b17-4108-b3dc-831836184366",
   "metadata": {},
   "outputs": [],
   "source": [
    "t = ( 0, 1)\n",
    "\n",
    "del t\n",
    "# print(t)"
   ]
  },
  {
   "cell_type": "markdown",
   "id": "8ccf4fba-7e8b-44f0-a5d4-5e8ce372fea1",
   "metadata": {},
   "source": [
    "#### Find length"
   ]
  },
  {
   "cell_type": "code",
   "execution_count": 37,
   "id": "8754001e-7ba8-4f57-9cd0-8186d080117f",
   "metadata": {},
   "outputs": [
    {
     "name": "stdout",
     "output_type": "stream",
     "text": [
      "3\n"
     ]
    }
   ],
   "source": [
    "t = ('python', 'java','c++')\n",
    "print(len(t))"
   ]
  },
  {
   "cell_type": "markdown",
   "id": "d865af19-cbcc-41d0-85d6-9d4c9009eac6",
   "metadata": {},
   "source": [
    "#### Converting a List to a Tuple"
   ]
  },
  {
   "cell_type": "code",
   "execution_count": 40,
   "id": "1825b875-c0a8-41bf-867f-06771593c262",
   "metadata": {},
   "outputs": [
    {
     "name": "stdout",
     "output_type": "stream",
     "text": [
      "(0, 1, 2)\n"
     ]
    }
   ],
   "source": [
    "a = [0, 1, 2]\n",
    "t = tuple(a)\n",
    "print(t)"
   ]
  },
  {
   "cell_type": "markdown",
   "id": "9510cf50-7849-41b3-879b-9b94cfe6cab3",
   "metadata": {},
   "source": [
    "#### Single Element Tuple"
   ]
  },
  {
   "cell_type": "code",
   "execution_count": 43,
   "id": "4bc09e71-bd4f-4d2e-851b-21076d6d4c30",
   "metadata": {},
   "outputs": [
    {
     "name": "stdout",
     "output_type": "stream",
     "text": [
      "(10,)\n",
      "<class 'tuple'>\n",
      "10\n",
      "<class 'int'>\n"
     ]
    }
   ],
   "source": [
    "t = (10, ) # Comma is important here\n",
    "print(t)  # Output: (10,)\n",
    "print(type(t))\n",
    "\n",
    "# What if we do not use comma\n",
    "t = (10) # This an integer (not a tuple)\n",
    "print(t)  \n",
    "print(type(t))"
   ]
  },
  {
   "cell_type": "code",
   "execution_count": 47,
   "id": "31785c63-2171-4482-babf-84790ba95cf3",
   "metadata": {},
   "outputs": [
    {
     "name": "stdout",
     "output_type": "stream",
     "text": [
      "(11, 12, 13)\n"
     ]
    }
   ],
   "source": [
    "a, b, c = 11, 12, 13\n",
    "t = (a, b, c)\n",
    "print(t) "
   ]
  },
  {
   "cell_type": "markdown",
   "id": "85d7217d-ebd7-4797-aa21-b9932d74b7a7",
   "metadata": {},
   "source": [
    "#### Create a List of Tuples "
   ]
  },
  {
   "cell_type": "markdown",
   "id": "69a9f4ad-f468-4431-94c8-7d811433d612",
   "metadata": {},
   "source": [
    "#### Using Zip"
   ]
  },
  {
   "cell_type": "code",
   "execution_count": 52,
   "id": "3b0953eb-4c2c-40fc-acb1-50f3022f42bb",
   "metadata": {},
   "outputs": [
    {
     "name": "stdout",
     "output_type": "stream",
     "text": [
      "[(1, 'apple'), (2, 'orange'), (3, 'cherry')]\n"
     ]
    }
   ],
   "source": [
    " a = [1, 2, 3]\n",
    "b = ['apple', 'orange', 'cherry']\n",
    "\n",
    "res = list(zip(a, b))\n",
    "\n",
    "print(res)"
   ]
  },
  {
   "cell_type": "markdown",
   "id": "e0a9a016-73b5-4de7-b707-784fa760c35e",
   "metadata": {},
   "source": [
    "#### Using Loop"
   ]
  },
  {
   "cell_type": "code",
   "execution_count": 55,
   "id": "fb93847a-f5fc-460d-a218-a2c5714ba034",
   "metadata": {},
   "outputs": [
    {
     "name": "stdout",
     "output_type": "stream",
     "text": [
      "[(1, 'apple'), (2, 'orange'), (3, 'cherry')]\n"
     ]
    }
   ],
   "source": [
    "a = [1, 2, 3]\n",
    "b = ['apple', 'orange', 'cherry']\n",
    "\n",
    "res = []\n",
    "for i in range(len(a)):\n",
    "    res.append((a[i], b[i]))\n",
    "\n",
    "print(res)"
   ]
  },
  {
   "cell_type": "markdown",
   "id": "aaaa08e1-a4a0-43b7-8537-de92f3d194f2",
   "metadata": {},
   "source": [
    "#### Tuple Methods"
   ]
  },
  {
   "cell_type": "markdown",
   "id": "b19c2081-0972-4160-9646-ff68f56ea5e4",
   "metadata": {},
   "source": [
    "##### Count() Method"
   ]
  },
  {
   "cell_type": "code",
   "execution_count": 61,
   "id": "e0dc7bc5-d50d-4e23-864f-14651bd1e294",
   "metadata": {},
   "outputs": [
    {
     "name": "stdout",
     "output_type": "stream",
     "text": [
      "Count of 3 in Tuple1 is: 5\n",
      "Count of Python in Tuple2 is: 3\n"
     ]
    }
   ],
   "source": [
    "Tuple1 = (0, 1, 2, 3, 2, 3, 1, 3, 2,3,3) \n",
    "Tuple2 = ('python', 'geek', 'python', \n",
    "\t\t'for', 'java', 'python') \n",
    "\n",
    "res = Tuple1.count(3) \n",
    "print('Count of 3 in Tuple1 is:', res) \n",
    "\n",
    "res = Tuple2.count('python') \n",
    "print('Count of Python in Tuple2 is:', res)\n"
   ]
  },
  {
   "cell_type": "code",
   "execution_count": 69,
   "id": "b591f1c6-0bce-4d5b-a7c9-8988650ae3c1",
   "metadata": {},
   "outputs": [
    {
     "name": "stdout",
     "output_type": "stream",
     "text": [
      "(0, 1, (2, 3), (2, 3), 1, [3, 2], 'geeks', (0,), [2, 3])\n",
      "Count of (2, 3) in Tuple is: 2\n",
      "Count of [3, 2] in Tuple is: 1\n"
     ]
    }
   ],
   "source": [
    "Tuple1 = (0, 1, (2, 3), (2, 3), 1, \n",
    "\t\t[3, 2], 'geeks', (0,), [2,3]) \n",
    "\n",
    "print(Tuple1)\n",
    "res = Tuple.count((2, 3)) \n",
    "print('Count of (2, 3) in Tuple is:', res) \n",
    "\n",
    "res = Tuple.count([3, 2]) \n",
    "print('Count of [3, 2] in Tuple is:', res)\n"
   ]
  },
  {
   "cell_type": "markdown",
   "id": "8102661f-4ecf-4f5e-a7fa-a12555b5c445",
   "metadata": {},
   "source": [
    "##### Index() Method"
   ]
  },
  {
   "cell_type": "markdown",
   "id": "e0d4ff94-4606-4f78-94f2-d22b1440947d",
   "metadata": {},
   "source": [
    "Syntax : tuple.index(element, start, end)"
   ]
  },
  {
   "cell_type": "markdown",
   "id": "b5b7b948-e70e-40c7-adf2-6992e498d566",
   "metadata": {},
   "source": [
    "- element: The element to be searched.\n",
    "- start (Optional): The starting index from where the searching is started\n",
    "- end (Optional): The ending index till where the searching is done"
   ]
  },
  {
   "cell_type": "code",
   "execution_count": 84,
   "id": "5afb26a3-67b0-472e-94af-63b63f13ded1",
   "metadata": {},
   "outputs": [
    {
     "name": "stdout",
     "output_type": "stream",
     "text": [
      "First occurrence of 3 is 3\n",
      "First occurrence of 3 after 4th index is: 6\n"
     ]
    }
   ],
   "source": [
    "Tuple = (0, 1, 2, 3, 2, 1, 3, 2 , 3 , 3) \n",
    "\n",
    "# getting the index of 3 \n",
    "res = Tuple.index(3) \n",
    "print('First occurrence of 3 is', res) \n",
    "\n",
    "# getting the index of 3 after 4th \n",
    "# index \n",
    "res = Tuple.index(3, 4 , 8) \n",
    "print('First occurrence of 3 after 4th index is:', res)\n"
   ]
  },
  {
   "cell_type": "code",
   "execution_count": 100,
   "id": "af4784a4-ec26-425d-a5b8-506e20be393a",
   "metadata": {},
   "outputs": [
    {
     "name": "stdout",
     "output_type": "stream",
     "text": [
      "Index of G in alphabets from index 4 to 10: 8\n"
     ]
    }
   ],
   "source": [
    "# alphabets tuple\n",
    "alphabets = ('G', 'e', 'e', 'k', 's', 'f', 'o',\n",
    "\t\t\t'r', 'G', 'e', 'e', 'k', 's')\n",
    "\n",
    "# scans 'G' from index 4 to 10 and\n",
    "# returns its index\n",
    "index = alphabets.index('G', 4, 10)\n",
    "\n",
    "print('Index of G in alphabets from index 4 to 10:', index)\n"
   ]
  },
  {
   "cell_type": "markdown",
   "id": "26b3e40c-0932-44dc-816a-cb171d9880c0",
   "metadata": {},
   "source": [
    "##### max() Method"
   ]
  },
  {
   "cell_type": "code",
   "execution_count": 87,
   "id": "3a00434b-28c3-46e8-a708-8b54242f09d3",
   "metadata": {},
   "outputs": [
    {
     "name": "stdout",
     "output_type": "stream",
     "text": [
      "6\n"
     ]
    }
   ],
   "source": [
    "Tuple = ( 1, 3, 4, 2, 5, 6 ) \n",
    "\n",
    "print(max(Tuple)) \n"
   ]
  },
  {
   "cell_type": "code",
   "execution_count": 89,
   "id": "2dc9d948-492f-4521-89a9-9eb2f6687226",
   "metadata": {},
   "outputs": [
    {
     "name": "stdout",
     "output_type": "stream",
     "text": [
      "GeeksForGeeks\n"
     ]
    }
   ],
   "source": [
    "# Based on length\n",
    "Tuple = ( \"Geeks\", \"For\", \"Geeks\", \"GeeksForGeeks\") \n",
    "\n",
    "print(max(Tuple)) "
   ]
  },
  {
   "cell_type": "code",
   "execution_count": 91,
   "id": "3d0b4658-b937-4f30-85ee-99157947ef3b",
   "metadata": {},
   "outputs": [
    {
     "name": "stdout",
     "output_type": "stream",
     "text": [
      "Maximum of Tuple is gfg\n"
     ]
    }
   ],
   "source": [
    "# tuple of equal length elements Where it gives the lexicographically largest string.\n",
    "alphabets = ('GFG', 'gfg', 'gFg', 'GfG', 'Gfg') \n",
    "\n",
    "res = max(alphabets) \n",
    "print('Maximum of Tuple is', res) \n"
   ]
  },
  {
   "cell_type": "markdown",
   "id": "cc7c44f8-bdfd-4233-9892-f91d2cb7a6cd",
   "metadata": {},
   "source": [
    "##### min() Method"
   ]
  },
  {
   "cell_type": "code",
   "execution_count": 96,
   "id": "4655ae50-cb01-47b2-a6d2-e70e73ca6d8b",
   "metadata": {},
   "outputs": [
    {
     "name": "stdout",
     "output_type": "stream",
     "text": [
      "-2\n"
     ]
    }
   ],
   "source": [
    "# Creating tuples \n",
    "Tuple = ( -1, 3, 4, -2, 5, 6 ) \n",
    "\n",
    "print(min(Tuple))\n"
   ]
  },
  {
   "cell_type": "markdown",
   "id": "d2dac3fb-ebb7-4b16-af60-319d175a38cb",
   "metadata": {},
   "source": [
    "#### Reversing a Tuple"
   ]
  },
  {
   "cell_type": "code",
   "execution_count": 103,
   "id": "530bff0d-e83f-487d-bace-158afad58340",
   "metadata": {},
   "outputs": [
    {
     "name": "stdout",
     "output_type": "stream",
     "text": [
      "(5, 4, 3, 2, 1)\n"
     ]
    }
   ],
   "source": [
    "t = (1, 2, 3, 4, 5) \n",
    "rev = t[::-1]\n",
    "\n",
    "print(rev) \n"
   ]
  },
  {
   "cell_type": "code",
   "execution_count": 109,
   "id": "234f060f-c9cf-4ade-9eb6-ebd22635618e",
   "metadata": {},
   "outputs": [
    {
     "name": "stdout",
     "output_type": "stream",
     "text": [
      "(5, 4, 3, 2, 1)\n"
     ]
    }
   ],
   "source": [
    "t = (1, 2, 3, 4, 5)  \n",
    "rev = tuple(reversed(t))\n",
    "print(rev)  \n"
   ]
  },
  {
   "cell_type": "markdown",
   "id": "407e7db8-52f7-4687-af21-33bf8afb38e8",
   "metadata": {},
   "source": [
    "#### Remove Duplicates"
   ]
  },
  {
   "cell_type": "code",
   "execution_count": 112,
   "id": "59f56858-37b4-4b3d-9ce4-2ff09686f9ac",
   "metadata": {},
   "outputs": [
    {
     "name": "stdout",
     "output_type": "stream",
     "text": [
      "The original tuple is : (1, 3, 5, 2, 3, 5, 1, 1, 3)\n",
      "The tuple after removing duplicates : (1, 2, 3, 5)\n"
     ]
    }
   ],
   "source": [
    "test_tup = (1, 3, 5, 2, 3, 5, 1, 1, 3)\n",
    "\n",
    "print(\"The original tuple is : \" + str(test_tup))\n",
    "\n",
    "# using tuple() + set()\n",
    "res = tuple(set(test_tup))\n",
    "\n",
    "print(\"The tuple after removing duplicates : \" + str(res))\n"
   ]
  },
  {
   "cell_type": "code",
   "execution_count": 116,
   "id": "4097c88a-4682-40c2-8730-2aa9c4d9f60b",
   "metadata": {},
   "outputs": [
    {
     "name": "stdout",
     "output_type": "stream",
     "text": [
      "The original tuple is : (1, 3, 5, 2, 3, 5, 1, 1, 3)\n",
      "The tuple after removing duplicates : (1, 3, 5, 2)\n"
     ]
    }
   ],
   "source": [
    "test_tup = (1, 3, 5, 2, 3, 5, 1, 1, 3)\n",
    "print(\"The original tuple is : \" + str(test_tup))\n",
    "\n",
    "# Removing duplicates from tuple\n",
    "x=[]\n",
    "for i in test_tup:\n",
    "\tif i not in x:\n",
    "\t\tx.append(i)\n",
    "res=tuple(x)\n",
    "\n",
    "print(\"The tuple after removing duplicates : \" + str(res))\n"
   ]
  },
  {
   "cell_type": "code",
   "execution_count": null,
   "id": "549b052f-71a8-4a87-843b-0630a652cc15",
   "metadata": {},
   "outputs": [],
   "source": []
  }
 ],
 "metadata": {
  "kernelspec": {
   "display_name": "Python [conda env:base] *",
   "language": "python",
   "name": "conda-base-py"
  },
  "language_info": {
   "codemirror_mode": {
    "name": "ipython",
    "version": 3
   },
   "file_extension": ".py",
   "mimetype": "text/x-python",
   "name": "python",
   "nbconvert_exporter": "python",
   "pygments_lexer": "ipython3",
   "version": "3.12.7"
  }
 },
 "nbformat": 4,
 "nbformat_minor": 5
}
