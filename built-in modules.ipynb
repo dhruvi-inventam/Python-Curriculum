{
 "cells": [
  {
   "cell_type": "markdown",
   "id": "75f837e0-460d-4c86-bda4-5fc9823ae526",
   "metadata": {},
   "source": [
    "# Date and time"
   ]
  },
  {
   "cell_type": "code",
   "execution_count": 1,
   "id": "d25e1f88-a043-4c7a-8527-dac10c3a8c0c",
   "metadata": {},
   "outputs": [],
   "source": [
    "from datetime import datetime"
   ]
  },
  {
   "cell_type": "code",
   "execution_count": 3,
   "id": "3d7054c9-3bae-44ab-b4e4-6122ae8f2504",
   "metadata": {},
   "outputs": [
    {
     "name": "stdout",
     "output_type": "stream",
     "text": [
      "2025-05-13 14:19:51.562185\n"
     ]
    }
   ],
   "source": [
    "now = datetime.now()\n",
    "print(now)"
   ]
  },
  {
   "cell_type": "code",
   "execution_count": 5,
   "id": "08aa0fa4-897b-40ef-b2e4-482ae316ec9b",
   "metadata": {},
   "outputs": [
    {
     "name": "stdout",
     "output_type": "stream",
     "text": [
      "2025\n"
     ]
    }
   ],
   "source": [
    "print(now.year)"
   ]
  },
  {
   "cell_type": "code",
   "execution_count": 7,
   "id": "e311e850-80e4-41c8-920d-12ab5aebff76",
   "metadata": {},
   "outputs": [
    {
     "name": "stdout",
     "output_type": "stream",
     "text": [
      "19\n"
     ]
    }
   ],
   "source": [
    "print(now.minute)"
   ]
  },
  {
   "cell_type": "code",
   "execution_count": 11,
   "id": "c5a8d04e-1fe1-48d1-ba4f-dd0d2b343725",
   "metadata": {},
   "outputs": [
    {
     "name": "stdout",
     "output_type": "stream",
     "text": [
      "13/05/2025 14:19:51\n"
     ]
    }
   ],
   "source": [
    "formatted = now.strftime(\"%d/%m/%Y %H:%M:%S\")\n",
    "print(formatted)"
   ]
  },
  {
   "cell_type": "code",
   "execution_count": 23,
   "id": "fb9e1a5d-7c5e-4d29-a42f-1bc7c2477bd1",
   "metadata": {},
   "outputs": [
    {
     "name": "stdout",
     "output_type": "stream",
     "text": [
      "2025-05-13 14:19:00\n"
     ]
    }
   ],
   "source": [
    "from datetime import datetime\n",
    "\n",
    "date_str = \"13/05/2025 14:19\"\n",
    "dt = datetime.strptime(date_str,\"%d/%m/%Y %H:%M\")\n",
    "print(dt)"
   ]
  },
  {
   "cell_type": "code",
   "execution_count": 33,
   "id": "08699dbb-8f7c-4c34-9123-aaf249a5da27",
   "metadata": {},
   "outputs": [
    {
     "name": "stdout",
     "output_type": "stream",
     "text": [
      "7 days later:  2025-05-20 14:19:51.562185\n",
      "2 hours ago:  2025-05-13 12:19:51.562185\n"
     ]
    }
   ],
   "source": [
    "from datetime import timedelta\n",
    "\n",
    "future = now + timedelta(days = 7)\n",
    "print(\"7 days later: \", future)\n",
    "\n",
    "past = now - timedelta(hours = 2)\n",
    "print(\"2 hours ago: \", past)"
   ]
  },
  {
   "cell_type": "code",
   "execution_count": 37,
   "id": "689be526-bcae-4338-b10c-5691b635eb2b",
   "metadata": {},
   "outputs": [
    {
     "name": "stdout",
     "output_type": "stream",
     "text": [
      "1747128163.9300714\n"
     ]
    }
   ],
   "source": [
    "import time\n",
    "print(time.time())"
   ]
  },
  {
   "cell_type": "code",
   "execution_count": 41,
   "id": "72cb69c7-eba7-420d-b73b-bc60ecf93ebd",
   "metadata": {},
   "outputs": [
    {
     "name": "stdout",
     "output_type": "stream",
     "text": [
      "wait 10 seconds..\n",
      "Done!\n"
     ]
    }
   ],
   "source": [
    "print(\"wait 10 seconds..\")\n",
    "time.sleep(10)\n",
    "print(\"Done!\")"
   ]
  },
  {
   "cell_type": "code",
   "execution_count": 45,
   "id": "b27c37a5-97a7-4c29-a93b-5b188ea82e78",
   "metadata": {},
   "outputs": [
    {
     "name": "stdout",
     "output_type": "stream",
     "text": [
      "Tue May 13 14:54:49 2025\n"
     ]
    }
   ],
   "source": [
    "print(time.ctime())"
   ]
  },
  {
   "cell_type": "code",
   "execution_count": 49,
   "id": "7a8f17c6-3c4c-4f26-9c06-35b912891b85",
   "metadata": {},
   "outputs": [
    {
     "name": "stdout",
     "output_type": "stream",
     "text": [
      "      May 2025\n",
      "Mo Tu We Th Fr Sa Su\n",
      "          1  2  3  4\n",
      " 5  6  7  8  9 10 11\n",
      "12 13 14 15 16 17 18\n",
      "19 20 21 22 23 24 25\n",
      "26 27 28 29 30 31\n",
      "\n"
     ]
    }
   ],
   "source": [
    "import calendar\n",
    "print(calendar.month(2025,5))"
   ]
  },
  {
   "cell_type": "code",
   "execution_count": 55,
   "id": "9c39e806-624b-40c9-89a7-e9cd6b2ee542",
   "metadata": {},
   "outputs": [
    {
     "name": "stdout",
     "output_type": "stream",
     "text": [
      "True\n"
     ]
    }
   ],
   "source": [
    "print(calendar.isleap(2020))"
   ]
  },
  {
   "cell_type": "code",
   "execution_count": 59,
   "id": "ab362c9e-d17c-46a2-8b94-580aa6c11101",
   "metadata": {},
   "outputs": [
    {
     "name": "stdin",
     "output_type": "stream",
     "text": [
      "Enter event date (dd/mm/yyyy):  20/05/2025\n"
     ]
    },
    {
     "name": "stdout",
     "output_type": "stream",
     "text": [
      "days left: 6\n"
     ]
    }
   ],
   "source": [
    "from datetime import datetime, timedelta\n",
    "\n",
    "event = input(\"Enter event date (dd/mm/yyyy): \")\n",
    "event_date = datetime.strptime(event, \"%d/%m/%Y\")\n",
    "\n",
    "days_left = event_date - datetime.now()\n",
    "print(f\"days left: {days_left.days}\")"
   ]
  },
  {
   "cell_type": "code",
   "execution_count": 7,
   "id": "73787827-c6fe-4103-8f52-f77a71362c12",
   "metadata": {},
   "outputs": [
    {
     "name": "stdin",
     "output_type": "stream",
     "text": [
      "Enter your birthday(DD/MM):  18/4\n"
     ]
    },
    {
     "name": "stdout",
     "output_type": "stream",
     "text": [
      "Your birthday is in 339 day(s)!\n"
     ]
    }
   ],
   "source": [
    "from datetime import datetime, timedelta\n",
    "\n",
    "today = datetime.today()\n",
    "\n",
    "bday_str = input(\"Enter your birthday(DD/MM): \")\n",
    "\n",
    "bday_cvt = datetime.strptime(bday_str + f\"/{today.year}\", \"%d/%m/%Y\")\n",
    "\n",
    "if bday_cvt < today:\n",
    "    bday_next = bday_cvt.replace(year=today.year + 1)\n",
    "else:\n",
    "    bday_next = bday_cvt\n",
    "\n",
    "days_left = (bday_next - today).days\n",
    "\n",
    "print(f\"Your birthday is in {days_left} day(s)!\")"
   ]
  },
  {
   "cell_type": "code",
   "execution_count": 9,
   "id": "ad785803-8331-44f9-a114-8c9bb04e871a",
   "metadata": {},
   "outputs": [
    {
     "name": "stdout",
     "output_type": "stream",
     "text": [
      "Valid email\n"
     ]
    }
   ],
   "source": [
    "import re\n",
    "\n",
    "email = \"test@example.com\"\n",
    "pattern = r'^[\\w\\.-]+@[\\w\\.-]+\\.\\w+$'\n",
    "\n",
    "if re.match(pattern, email):\n",
    "    print(\"Valid email\")\n",
    "else:\n",
    "    print(\"Invalid email\")"
   ]
  },
  {
   "cell_type": "code",
   "execution_count": 13,
   "id": "7895c692-a252-4804-a6c4-e38c9865b1eb",
   "metadata": {},
   "outputs": [
    {
     "name": "stdin",
     "output_type": "stream",
     "text": [
      "Enter a sentence:  100 per\n"
     ]
    },
    {
     "name": "stdout",
     "output_type": "stream",
     "text": [
      "Words: ['100', 'per']\n",
      "Numbers: ['100']\n"
     ]
    }
   ],
   "source": [
    "import re\n",
    "\n",
    "text = input(\"Enter a sentence: \")\n",
    "\n",
    "# Find all words\n",
    "words = re.findall(r'\\w+', text)\n",
    "print(\"Words:\", words)\n",
    "\n",
    "# Find all numbers\n",
    "numbers = re.findall(r'\\d+', text)\n",
    "print(\"Numbers:\", numbers)"
   ]
  },
  {
   "cell_type": "code",
   "execution_count": 17,
   "id": "7fb26d45-1592-4bcf-8cd4-b78cfc9df60f",
   "metadata": {},
   "outputs": [
    {
     "name": "stdin",
     "output_type": "stream",
     "text": [
      "Enter a sentence:  342hfghfgh\n"
     ]
    },
    {
     "name": "stdout",
     "output_type": "stream",
     "text": [
      "['342hfghfgh']\n"
     ]
    }
   ],
   "source": [
    "import re\n",
    "\n",
    "text = input(\"Enter a sentence: \")\n",
    "\n",
    "words = re.findall(r'\\w+', text)\n",
    "print(words)"
   ]
  },
  {
   "cell_type": "code",
   "execution_count": 25,
   "id": "53fb0827-32e9-4f66-a837-0ddd4890b766",
   "metadata": {},
   "outputs": [
    {
     "name": "stdout",
     "output_type": "stream",
     "text": [
      "3\n"
     ]
    }
   ],
   "source": [
    "from collections import namedtuple\n",
    "\n",
    "point = namedtuple('point',['x','y'])\n",
    "p = point(2,3)\n",
    "\n",
    "print(p.y)"
   ]
  },
  {
   "cell_type": "code",
   "execution_count": 27,
   "id": "be76046a-d119-49bc-a515-468340ed6b2a",
   "metadata": {},
   "outputs": [
    {
     "name": "stdout",
     "output_type": "stream",
     "text": [
      "Counter({'apple': 3, 'banana': 2, 'orange': 1})\n",
      "3\n",
      "[('apple', 3)]\n"
     ]
    }
   ],
   "source": [
    "from collections import Counter\n",
    "\n",
    "words = ['apple', 'banana', 'apple', 'orange', 'banana', 'apple']\n",
    "count = Counter(words)\n",
    "\n",
    "print(count)           # Counter({'apple': 3, 'banana': 2, 'orange': 1})\n",
    "print(count['apple'])  # 3\n",
    "print(count.most_common(1))  # [('apple', 3)]"
   ]
  },
  {
   "cell_type": "code",
   "execution_count": 31,
   "id": "caf3e3a7-4bce-49bd-9e6c-18924f7c0b42",
   "metadata": {},
   "outputs": [
    {
     "name": "stdin",
     "output_type": "stream",
     "text": [
      "Enter a sentence:  fdgdfg fhg\n"
     ]
    },
    {
     "name": "stdout",
     "output_type": "stream",
     "text": [
      "Counter({'fdgdfg': 1, 'fhg': 1})\n"
     ]
    }
   ],
   "source": [
    "from collections import Counter\n",
    "\n",
    "sentence = input(\"Enter a sentence: \")\n",
    "words = sentence.split()\n",
    "    \n",
    "counter = Counter(words)\n",
    "print(counter)"
   ]
  },
  {
   "cell_type": "code",
   "execution_count": 56,
   "id": "08f8bd11-ea47-4cc3-9fbe-2af42879e12c",
   "metadata": {},
   "outputs": [
    {
     "name": "stdout",
     "output_type": "stream",
     "text": [
      "You got: Heads\n"
     ]
    }
   ],
   "source": [
    "import random\n",
    "\n",
    "toss = random.choice(['Heads', 'Tails'])\n",
    "print(\"You got:\", toss)"
   ]
  },
  {
   "cell_type": "code",
   "execution_count": 60,
   "id": "dc7f45ed-3041-4d73-9429-ae24ee26171e",
   "metadata": {},
   "outputs": [
    {
     "name": "stdout",
     "output_type": "stream",
     "text": [
      "                                  2025\n",
      "\n",
      "      January                   February                   March\n",
      "Mo Tu We Th Fr Sa Su      Mo Tu We Th Fr Sa Su      Mo Tu We Th Fr Sa Su\n",
      "       1  2  3  4  5                      1  2                      1  2\n",
      " 6  7  8  9 10 11 12       3  4  5  6  7  8  9       3  4  5  6  7  8  9\n",
      "13 14 15 16 17 18 19      10 11 12 13 14 15 16      10 11 12 13 14 15 16\n",
      "20 21 22 23 24 25 26      17 18 19 20 21 22 23      17 18 19 20 21 22 23\n",
      "27 28 29 30 31            24 25 26 27 28            24 25 26 27 28 29 30\n",
      "                                                    31\n",
      "\n",
      "       April                      May                       June\n",
      "Mo Tu We Th Fr Sa Su      Mo Tu We Th Fr Sa Su      Mo Tu We Th Fr Sa Su\n",
      "    1  2  3  4  5  6                1  2  3  4                         1\n",
      " 7  8  9 10 11 12 13       5  6  7  8  9 10 11       2  3  4  5  6  7  8\n",
      "14 15 16 17 18 19 20      12 13 14 15 16 17 18       9 10 11 12 13 14 15\n",
      "21 22 23 24 25 26 27      19 20 21 22 23 24 25      16 17 18 19 20 21 22\n",
      "28 29 30                  26 27 28 29 30 31         23 24 25 26 27 28 29\n",
      "                                                    30\n",
      "\n",
      "        July                     August                  September\n",
      "Mo Tu We Th Fr Sa Su      Mo Tu We Th Fr Sa Su      Mo Tu We Th Fr Sa Su\n",
      "    1  2  3  4  5  6                   1  2  3       1  2  3  4  5  6  7\n",
      " 7  8  9 10 11 12 13       4  5  6  7  8  9 10       8  9 10 11 12 13 14\n",
      "14 15 16 17 18 19 20      11 12 13 14 15 16 17      15 16 17 18 19 20 21\n",
      "21 22 23 24 25 26 27      18 19 20 21 22 23 24      22 23 24 25 26 27 28\n",
      "28 29 30 31               25 26 27 28 29 30 31      29 30\n",
      "\n",
      "      October                   November                  December\n",
      "Mo Tu We Th Fr Sa Su      Mo Tu We Th Fr Sa Su      Mo Tu We Th Fr Sa Su\n",
      "       1  2  3  4  5                      1  2       1  2  3  4  5  6  7\n",
      " 6  7  8  9 10 11 12       3  4  5  6  7  8  9       8  9 10 11 12 13 14\n",
      "13 14 15 16 17 18 19      10 11 12 13 14 15 16      15 16 17 18 19 20 21\n",
      "20 21 22 23 24 25 26      17 18 19 20 21 22 23      22 23 24 25 26 27 28\n",
      "27 28 29 30 31            24 25 26 27 28 29 30      29 30 31\n",
      "\n"
     ]
    }
   ],
   "source": [
    "import calendar\n",
    "\n",
    "print(calendar.calendar(2025))"
   ]
  },
  {
   "cell_type": "code",
   "execution_count": 62,
   "id": "4c2b393c-f39c-4ac9-b74d-647efb295408",
   "metadata": {},
   "outputs": [
    {
     "name": "stdout",
     "output_type": "stream",
     "text": [
      "You were born on a Thursday\n"
     ]
    }
   ],
   "source": [
    "import calendar\n",
    "\n",
    "year = 2004\n",
    "month = 7\n",
    "day = 29\n",
    "\n",
    "days = ['Monday', 'Tuesday', 'Wednesday', 'Thursday', 'Friday', 'Saturday', 'Sunday']\n",
    "weekday_index = calendar.weekday(year, month, day)\n",
    "\n",
    "print(f\"You were born on a {days[weekday_index]}\")"
   ]
  },
  {
   "cell_type": "markdown",
   "id": "e9fca87e-cc9e-4aa4-836e-c92fa7a65f35",
   "metadata": {},
   "source": [
    "# lambda function"
   ]
  },
  {
   "cell_type": "code",
   "execution_count": 5,
   "id": "5c221301-a146-4900-8d09-4a2f0a567cb7",
   "metadata": {},
   "outputs": [
    {
     "name": "stdout",
     "output_type": "stream",
     "text": [
      "[1, 3, 5]\n"
     ]
    }
   ],
   "source": [
    "a = [1,2,3,4,5,6]\n",
    "\n",
    "even = list(filter(lambda x:x%2!=0,a))\n",
    "print(even)"
   ]
  },
  {
   "cell_type": "code",
   "execution_count": 7,
   "id": "1b720b31-28f1-4927-b9dd-68a2573ffba8",
   "metadata": {},
   "outputs": [
    {
     "name": "stdout",
     "output_type": "stream",
     "text": [
      "[1, 4, 9, 16, 25, 36]\n"
     ]
    }
   ],
   "source": [
    "a = [1,2,3,4,5,6]\n",
    "\n",
    "s = list(map(lambda x:x**2,a))\n",
    "print(s)"
   ]
  },
  {
   "cell_type": "code",
   "execution_count": 11,
   "id": "70c48a7b-f66f-4b91-8d56-6d784ed784a7",
   "metadata": {},
   "outputs": [
    {
     "name": "stdout",
     "output_type": "stream",
     "text": [
      "['banana', 'applegdg', 'pineapple']\n"
     ]
    }
   ],
   "source": [
    "a = ['applegdg','banana','pineapple']\n",
    "\n",
    "sort = sorted(a, key = lambda x: len(x))\n",
    "print(sort)"
   ]
  },
  {
   "cell_type": "code",
   "execution_count": 19,
   "id": "4907049b-7f9a-47e4-9b6e-3595320e24d5",
   "metadata": {},
   "outputs": [
    {
     "name": "stdout",
     "output_type": "stream",
     "text": [
      "6\n"
     ]
    }
   ],
   "source": [
    "from functools import reduce\n",
    "\n",
    "a = [1,2,3]\n",
    "\n",
    "ans = reduce(lambda x,y : x*y,a)\n",
    "print(ans)"
   ]
  },
  {
   "cell_type": "code",
   "execution_count": 21,
   "id": "19cf8aaa-a8ef-444d-8698-ca1eb20fea7e",
   "metadata": {},
   "outputs": [
    {
     "name": "stdout",
     "output_type": "stream",
     "text": [
      "[0, 1, 4, 9, 16]\n"
     ]
    }
   ],
   "source": [
    "s = [x*x for x in range(5)]\n",
    "print(s)"
   ]
  },
  {
   "cell_type": "code",
   "execution_count": 23,
   "id": "9c90dac3-2399-4874-9b55-a67dfc4f7ba8",
   "metadata": {},
   "outputs": [
    {
     "name": "stdout",
     "output_type": "stream",
     "text": [
      "{'applegdg': 8, 'banana': 6, 'pineapple': 9}\n"
     ]
    }
   ],
   "source": [
    "a = ['applegdg','banana','pineapple']\n",
    "\n",
    "d = {x:len(x) for x in a}\n",
    "print(d)"
   ]
  }
 ],
 "metadata": {
  "kernelspec": {
   "display_name": "Python [conda env:base] *",
   "language": "python",
   "name": "conda-base-py"
  },
  "language_info": {
   "codemirror_mode": {
    "name": "ipython",
    "version": 3
   },
   "file_extension": ".py",
   "mimetype": "text/x-python",
   "name": "python",
   "nbconvert_exporter": "python",
   "pygments_lexer": "ipython3",
   "version": "3.12.7"
  }
 },
 "nbformat": 4,
 "nbformat_minor": 5
}
