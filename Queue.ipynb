{
 "cells": [
  {
   "cell_type": "code",
   "execution_count": 4,
   "id": "87bfe44d-427f-463d-88b1-2364fe0276f6",
   "metadata": {},
   "outputs": [
    {
     "name": "stdout",
     "output_type": "stream",
     "text": [
      "\n",
      "    1. Enqueue Elements [Insert]\n",
      "    2. Dequeue First Elements [Delete]\n",
      "    3. Front Element [First]\n",
      "    4. Rear Stack [last]\n",
      "    5. Display Queue\n",
      "    6. Exit\n",
      "    \n"
     ]
    },
    {
     "name": "stdin",
     "output_type": "stream",
     "text": [
      "choose one operation you want to perform:  1\n",
      "Enter element:  1\n"
     ]
    },
    {
     "name": "stdout",
     "output_type": "stream",
     "text": [
      "['1']\n",
      "\n",
      "    1. Enqueue Elements [Insert]\n",
      "    2. Dequeue First Elements [Delete]\n",
      "    3. Front Element [First]\n",
      "    4. Rear Stack [last]\n",
      "    5. Display Queue\n",
      "    6. Exit\n",
      "    \n"
     ]
    },
    {
     "name": "stdin",
     "output_type": "stream",
     "text": [
      "choose one operation you want to perform:  1\n",
      "Enter element:  2\n"
     ]
    },
    {
     "name": "stdout",
     "output_type": "stream",
     "text": [
      "['1', '2']\n",
      "\n",
      "    1. Enqueue Elements [Insert]\n",
      "    2. Dequeue First Elements [Delete]\n",
      "    3. Front Element [First]\n",
      "    4. Rear Stack [last]\n",
      "    5. Display Queue\n",
      "    6. Exit\n",
      "    \n"
     ]
    },
    {
     "name": "stdin",
     "output_type": "stream",
     "text": [
      "choose one operation you want to perform:  1\n",
      "Enter element:  3\n"
     ]
    },
    {
     "name": "stdout",
     "output_type": "stream",
     "text": [
      "['1', '2', '3']\n",
      "\n",
      "    1. Enqueue Elements [Insert]\n",
      "    2. Dequeue First Elements [Delete]\n",
      "    3. Front Element [First]\n",
      "    4. Rear Stack [last]\n",
      "    5. Display Queue\n",
      "    6. Exit\n",
      "    \n"
     ]
    },
    {
     "name": "stdin",
     "output_type": "stream",
     "text": [
      "choose one operation you want to perform:  2\n"
     ]
    },
    {
     "name": "stdout",
     "output_type": "stream",
     "text": [
      "1\n",
      "['2', '3']\n",
      "\n",
      "    1. Enqueue Elements [Insert]\n",
      "    2. Dequeue First Elements [Delete]\n",
      "    3. Front Element [First]\n",
      "    4. Rear Stack [last]\n",
      "    5. Display Queue\n",
      "    6. Exit\n",
      "    \n"
     ]
    },
    {
     "name": "stdin",
     "output_type": "stream",
     "text": [
      "choose one operation you want to perform:  3\n"
     ]
    },
    {
     "name": "stdout",
     "output_type": "stream",
     "text": [
      "2\n",
      "\n",
      "    1. Enqueue Elements [Insert]\n",
      "    2. Dequeue First Elements [Delete]\n",
      "    3. Front Element [First]\n",
      "    4. Rear Stack [last]\n",
      "    5. Display Queue\n",
      "    6. Exit\n",
      "    \n"
     ]
    },
    {
     "name": "stdin",
     "output_type": "stream",
     "text": [
      "choose one operation you want to perform:  4\n"
     ]
    },
    {
     "name": "stdout",
     "output_type": "stream",
     "text": [
      "3\n",
      "\n",
      "    1. Enqueue Elements [Insert]\n",
      "    2. Dequeue First Elements [Delete]\n",
      "    3. Front Element [First]\n",
      "    4. Rear Stack [last]\n",
      "    5. Display Queue\n",
      "    6. Exit\n",
      "    \n"
     ]
    },
    {
     "name": "stdin",
     "output_type": "stream",
     "text": [
      "choose one operation you want to perform:  5\n"
     ]
    },
    {
     "name": "stdout",
     "output_type": "stream",
     "text": [
      "['2', '3']\n",
      "\n",
      "    1. Enqueue Elements [Insert]\n",
      "    2. Dequeue First Elements [Delete]\n",
      "    3. Front Element [First]\n",
      "    4. Rear Stack [last]\n",
      "    5. Display Queue\n",
      "    6. Exit\n",
      "    \n"
     ]
    },
    {
     "name": "stdin",
     "output_type": "stream",
     "text": [
      "choose one operation you want to perform:  6\n"
     ]
    }
   ],
   "source": [
    "li = []\n",
    "\n",
    "while True:\n",
    "    print('''\n",
    "    1. Enqueue Elements [Insert]\n",
    "    2. Dequeue First Elements [Delete]\n",
    "    3. Front Element [First]\n",
    "    4. Rear Stack [last]\n",
    "    5. Display Queue\n",
    "    6. Exit\n",
    "    ''')\n",
    "    a = int(input(\"choose one operation you want to perform: \"))\n",
    "\n",
    "    if a == 1:\n",
    "        i = input(\"Enter element: \")\n",
    "        li.append(i)\n",
    "        print(li)\n",
    "    elif a == 2:\n",
    "        if len(li) == 0:\n",
    "            print(\"Empty Queue\")\n",
    "        else:\n",
    "            j = li.pop(0)\n",
    "            print(j)\n",
    "            print(li)\n",
    "    elif a == 3:\n",
    "        if len(li) == 0:\n",
    "            print(\"Empty Queue\")\n",
    "        else:\n",
    "            print(li[0])\n",
    "    elif a == 4:\n",
    "        if len(li) == 0:\n",
    "            print(\"Empty Queue\")\n",
    "        else:\n",
    "            print(li[-1])\n",
    "    elif a == 5:\n",
    "        if len(li) == 0:\n",
    "            print(\"Empty Queue\")\n",
    "        else:\n",
    "            print(li)\n",
    "    elif a == 6:\n",
    "        break\n",
    "    else:\n",
    "        print(\"Invalid\")\n",
    "        "
   ]
  },
  {
   "cell_type": "code",
   "execution_count": 8,
   "id": "a21ad374-13ec-4f3c-935a-ed2e13eec774",
   "metadata": {},
   "outputs": [],
   "source": [
    "from collections import deque\n",
    "q = deque()"
   ]
  },
  {
   "cell_type": "code",
   "execution_count": 10,
   "id": "265eef16-fdb0-4fb7-be23-ad161046f053",
   "metadata": {},
   "outputs": [],
   "source": [
    "q.append(1)\n",
    "q.append(2)\n",
    "q.append(3)"
   ]
  },
  {
   "cell_type": "code",
   "execution_count": 12,
   "id": "36e3677c-bb1c-4368-952c-72b960939aec",
   "metadata": {},
   "outputs": [
    {
     "data": {
      "text/plain": [
       "deque([1, 2, 3])"
      ]
     },
     "execution_count": 12,
     "metadata": {},
     "output_type": "execute_result"
    }
   ],
   "source": [
    "q"
   ]
  },
  {
   "cell_type": "code",
   "execution_count": 16,
   "id": "30fabbd6-6858-4b94-822d-9a33e40bb0f3",
   "metadata": {},
   "outputs": [
    {
     "data": {
      "text/plain": [
       "1"
      ]
     },
     "execution_count": 16,
     "metadata": {},
     "output_type": "execute_result"
    }
   ],
   "source": [
    "q.popleft()"
   ]
  },
  {
   "cell_type": "code",
   "execution_count": 18,
   "id": "7d7a2327-bd86-4831-8746-4149fa51027e",
   "metadata": {},
   "outputs": [
    {
     "data": {
      "text/plain": [
       "2"
      ]
     },
     "execution_count": 18,
     "metadata": {},
     "output_type": "execute_result"
    }
   ],
   "source": [
    "q.popleft()"
   ]
  },
  {
   "cell_type": "code",
   "execution_count": 20,
   "id": "d83ff710-4cea-4409-8b99-caa905b51dbf",
   "metadata": {},
   "outputs": [
    {
     "data": {
      "text/plain": [
       "deque([3])"
      ]
     },
     "execution_count": 20,
     "metadata": {},
     "output_type": "execute_result"
    }
   ],
   "source": [
    "q"
   ]
  },
  {
   "cell_type": "code",
   "execution_count": 22,
   "id": "b1ec4689-2e8b-430c-a5ed-bf7e5c5ea8c6",
   "metadata": {},
   "outputs": [
    {
     "data": {
      "text/plain": [
       "3"
      ]
     },
     "execution_count": 22,
     "metadata": {},
     "output_type": "execute_result"
    }
   ],
   "source": [
    "q.popleft()"
   ]
  },
  {
   "cell_type": "code",
   "execution_count": 26,
   "id": "cba0a5eb-64ca-482f-a34a-2d3c9ef5c228",
   "metadata": {},
   "outputs": [
    {
     "data": {
      "text/plain": [
       "deque([])"
      ]
     },
     "execution_count": 26,
     "metadata": {},
     "output_type": "execute_result"
    }
   ],
   "source": [
    "q"
   ]
  },
  {
   "cell_type": "code",
   "execution_count": 3,
   "id": "339e8a32-8aed-41bd-9035-219357e651fe",
   "metadata": {},
   "outputs": [],
   "source": [
    "from queue import Queue\n",
    "q = Queue(maxsize = 3)"
   ]
  },
  {
   "cell_type": "code",
   "execution_count": 5,
   "id": "3af41aee-8a72-4bca-b04f-9696bba1b281",
   "metadata": {},
   "outputs": [],
   "source": [
    "q.put(1)\n",
    "q.put(2)\n",
    "q.put(3)"
   ]
  },
  {
   "cell_type": "code",
   "execution_count": 7,
   "id": "49bd09a9-7b88-4802-8549-e482535844b9",
   "metadata": {},
   "outputs": [
    {
     "data": {
      "text/plain": [
       "True"
      ]
     },
     "execution_count": 7,
     "metadata": {},
     "output_type": "execute_result"
    }
   ],
   "source": [
    "q.full()"
   ]
  },
  {
   "cell_type": "code",
   "execution_count": 9,
   "id": "6adc34a6-2d79-4d1e-89fc-d8d6a1e37ced",
   "metadata": {},
   "outputs": [
    {
     "data": {
      "text/plain": [
       "1"
      ]
     },
     "execution_count": 9,
     "metadata": {},
     "output_type": "execute_result"
    }
   ],
   "source": [
    "q.get()"
   ]
  },
  {
   "cell_type": "code",
   "execution_count": 11,
   "id": "cb32e688-62e6-414d-a963-6771a16e1a54",
   "metadata": {},
   "outputs": [
    {
     "data": {
      "text/plain": [
       "2"
      ]
     },
     "execution_count": 11,
     "metadata": {},
     "output_type": "execute_result"
    }
   ],
   "source": [
    "q.get()"
   ]
  },
  {
   "cell_type": "code",
   "execution_count": 13,
   "id": "ebd5aa03-afe9-4a3e-9f65-b1114ab96469",
   "metadata": {},
   "outputs": [
    {
     "data": {
      "text/plain": [
       "3"
      ]
     },
     "execution_count": 13,
     "metadata": {},
     "output_type": "execute_result"
    }
   ],
   "source": [
    "q.get()"
   ]
  }
 ],
 "metadata": {
  "kernelspec": {
   "display_name": "Python [conda env:base] *",
   "language": "python",
   "name": "conda-base-py"
  },
  "language_info": {
   "codemirror_mode": {
    "name": "ipython",
    "version": 3
   },
   "file_extension": ".py",
   "mimetype": "text/x-python",
   "name": "python",
   "nbconvert_exporter": "python",
   "pygments_lexer": "ipython3",
   "version": "3.12.7"
  }
 },
 "nbformat": 4,
 "nbformat_minor": 5
}
