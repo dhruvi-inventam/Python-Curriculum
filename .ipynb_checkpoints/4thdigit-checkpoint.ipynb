{
 "cells": [
  {
   "cell_type": "code",
   "execution_count": 4,
   "id": "ce4d20d4-8796-49a9-8984-ff5e9897235b",
   "metadata": {},
   "outputs": [
    {
     "name": "stdin",
     "output_type": "stream",
     "text": [
      "Enter a number with at least 8 digits:  4356563434365\n"
     ]
    },
    {
     "name": "stdout",
     "output_type": "stream",
     "text": [
      "The 4th digit is: 6\n"
     ]
    }
   ],
   "source": [
    "number = int(input(\"Enter a number with at least 8 digits: \"))\n",
    "\n",
    "position = 4\n",
    "digit = 0\n",
    "temp = number\n",
    "\n",
    "while temp > 0:\n",
    "    temp //= 10\n",
    "    digit += 1\n",
    "        \n",
    "for i in range(digit - position):\n",
    "    number //= 10\n",
    "    n = number % 10\n",
    "\n",
    "if digit < 8:\n",
    "    print(\"Please enter a number with at least 8 digits.\")\n",
    "else:\n",
    "    print(\"The 4th digit is:\", n)    \n"
   ]
  },
  {
   "cell_type": "code",
   "execution_count": 6,
   "id": "af68d8c1-4ed3-4289-aec8-ec25e553932e",
   "metadata": {},
   "outputs": [
    {
     "name": "stdin",
     "output_type": "stream",
     "text": [
      "Enter the number:  1212414343\n"
     ]
    },
    {
     "name": "stdout",
     "output_type": "stream",
     "text": [
      "The 4th digit is: 2\n"
     ]
    }
   ],
   "source": [
    "def find_fourth_letter():\n",
    "    while True:\n",
    "        digits = input(\"Enter the number: \")\n",
    "        if digits.isdigit() and sum(1 for _ in digits) >= 8:\n",
    "            count = 0\n",
    "            for digit in digits:\n",
    "                count += 1\n",
    "                if count == 4:\n",
    "                    print(f\"The 4th digit is: {digit}\")\n",
    "                    return\n",
    "        else:\n",
    "            print(\"Please enter 8 digits or more than 8 digits.\")\n",
    "find_fourth_letter()"
   ]
  },
  {
   "cell_type": "code",
   "execution_count": null,
   "id": "4ce35066-7097-4ffe-b876-6ac8f57815ab",
   "metadata": {},
   "outputs": [],
   "source": []
  }
 ],
 "metadata": {
  "kernelspec": {
   "display_name": "Python [conda env:base] *",
   "language": "python",
   "name": "conda-base-py"
  },
  "language_info": {
   "codemirror_mode": {
    "name": "ipython",
    "version": 3
   },
   "file_extension": ".py",
   "mimetype": "text/x-python",
   "name": "python",
   "nbconvert_exporter": "python",
   "pygments_lexer": "ipython3",
   "version": "3.12.7"
  }
 },
 "nbformat": 4,
 "nbformat_minor": 5
}
