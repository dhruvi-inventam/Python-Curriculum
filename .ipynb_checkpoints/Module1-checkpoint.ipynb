{
 "cells": [
  {
   "cell_type": "code",
   "execution_count": 3,
   "id": "66c9a859-c1f8-427c-a881-126ddc0351d9",
   "metadata": {},
   "outputs": [
    {
     "name": "stdout",
     "output_type": "stream",
     "text": [
      "2\n"
     ]
    }
   ],
   "source": [
    "a = 2\n",
    "# this is comment\n",
    "print(a)"
   ]
  },
  {
   "cell_type": "code",
   "execution_count": 3,
   "id": "b1e2f651-1203-4f7d-b04a-5ca4ba22f6d9",
   "metadata": {},
   "outputs": [
    {
     "name": "stdout",
     "output_type": "stream",
     "text": [
      "Hello, world!\n",
      "The history saving thread hit an unexpected error (OperationalError('attempt to write a readonly database')).History will not be written to the database.\n"
     ]
    }
   ],
   "source": [
    "'''\n",
    "This is a multi-line comment\n",
    "'''\n",
    "print(\"Hello, world!\")"
   ]
  },
  {
   "cell_type": "code",
   "execution_count": 11,
   "id": "36b34a27-152b-473c-9df0-8c63d6d3f193",
   "metadata": {},
   "outputs": [
    {
     "name": "stdout",
     "output_type": "stream",
     "text": [
      "inventam\n",
      "inventam\n",
      " hiii\n",
      "            inventam \n"
     ]
    }
   ],
   "source": [
    "#Literals\n",
    "#String Literals\n",
    "\n",
    "# in single quotes\n",
    "a = 'inventam'\n",
    "\n",
    "# in double quotes\n",
    "b = \"inventam\"\n",
    "\n",
    "# multi-line string\n",
    "c = ''' hiii\n",
    "            inventam '''\n",
    "\n",
    "print(a)\n",
    "print(b)\n",
    "print(c)"
   ]
  },
  {
   "cell_type": "code",
   "execution_count": 5,
   "id": "47937d58-0d59-481f-8fee-7727b0ff0cca",
   "metadata": {},
   "outputs": [
    {
     "name": "stdout",
     "output_type": "stream",
     "text": [
      "a\n",
      "b\n"
     ]
    }
   ],
   "source": [
    "#character literals\n",
    "\n",
    "# in single quotes\n",
    "a = 'a'\n",
    "\n",
    "# in double quotes\n",
    "b = \"b\"\n",
    "\n",
    "print(a)\n",
    "print(b)"
   ]
  },
  {
   "cell_type": "code",
   "execution_count": 7,
   "id": "78b55452-1ee9-44cb-9909-92572bc62740",
   "metadata": {},
   "outputs": [
    {
     "name": "stdout",
     "output_type": "stream",
     "text": [
      "1001\n",
      "12.23\n",
      "4j\n"
     ]
    }
   ],
   "source": [
    "#numeric literals\n",
    "\n",
    "#integer literals\n",
    "a = 1001\n",
    "\n",
    "#float literals\n",
    "b = 12.23\n",
    "\n",
    "#complex literals\n",
    "c = 4j\n",
    "\n",
    "print(a)\n",
    "print(b)\n",
    "print(c)"
   ]
  },
  {
   "cell_type": "code",
   "execution_count": 11,
   "id": "cf402c91-5b27-48d3-9a02-4a2cb7b7f783",
   "metadata": {},
   "outputs": [
    {
     "name": "stdout",
     "output_type": "stream",
     "text": [
      "True\n"
     ]
    }
   ],
   "source": [
    "#boolean literals\n",
    "\n",
    "a = True\n",
    "\n",
    "print(a)"
   ]
  },
  {
   "cell_type": "code",
   "execution_count": 13,
   "id": "6a003e3e-f465-4fd1-be39-a30c3cab9c0b",
   "metadata": {},
   "outputs": [
    {
     "name": "stdout",
     "output_type": "stream",
     "text": [
      "[1, 2, 3, 4, 5]\n",
      "('dhruvi', 2, 3, True)\n",
      "{'a': 'apple', 'b': 'ball'}\n",
      "{1, 2, 3, 4}\n"
     ]
    }
   ],
   "source": [
    "#literal collection\n",
    "\n",
    "#list literals\n",
    "a = [1,2,3,4,5]\n",
    "\n",
    "#tuple literals\n",
    "b = (\"dhruvi\",2,3,True)\n",
    "\n",
    "#dictionary literals\n",
    "c = {\"a\" : \"apple\", \"b\" : \"ball\"}\n",
    "\n",
    "#set literals\n",
    "d = {1,2,3,4}\n",
    "\n",
    "print(a)\n",
    "print(b)\n",
    "print(c)\n",
    "print(d)"
   ]
  },
  {
   "cell_type": "code",
   "execution_count": 15,
   "id": "95606072-31fb-4b77-bbf0-29a1a6811637",
   "metadata": {},
   "outputs": [
    {
     "name": "stdout",
     "output_type": "stream",
     "text": [
      "None\n"
     ]
    }
   ],
   "source": [
    "#special literals\n",
    "\n",
    "a = None\n",
    "print(a)"
   ]
  },
  {
   "cell_type": "code",
   "execution_count": 43,
   "id": "c0904c4d-9f13-4404-b2d6-eab176321b8c",
   "metadata": {},
   "outputs": [
    {
     "name": "stdout",
     "output_type": "stream",
     "text": [
      "The string is super\n",
      "Im fantastic\n"
     ]
    }
   ],
   "source": [
    "#variables\n",
    "\n",
    "a = \"apple\"\n",
    "\n",
    "#local variable\n",
    "\n",
    "def myfunc():\n",
    "    x = \"super\"\n",
    "    print(\"The string is \" + x)\n",
    "    \n",
    "myfunc()\n",
    "\n",
    "#global variable\n",
    "\n",
    "def myfunc1():\n",
    "    global y\n",
    "    y = \"fantastic\"\n",
    "    \n",
    "myfunc1()\n",
    "\n",
    "print(\"Im \" + y)"
   ]
  },
  {
   "cell_type": "code",
   "execution_count": 3,
   "id": "ee54f57a-2be0-4cbd-b885-b73193624bce",
   "metadata": {},
   "outputs": [
    {
     "name": "stdout",
     "output_type": "stream",
     "text": [
      "(7+0j)\n"
     ]
    }
   ],
   "source": [
    "a = \"7\"\n",
    "print(complex(a))"
   ]
  },
  {
   "cell_type": "code",
   "execution_count": 5,
   "id": "412efd92-4286-4ded-bbb4-36f007d91804",
   "metadata": {},
   "outputs": [],
   "source": [
    "import random"
   ]
  },
  {
   "cell_type": "code",
   "execution_count": 7,
   "id": "5715460a-5dcd-4865-b236-e255335b381a",
   "metadata": {},
   "outputs": [
    {
     "name": "stdout",
     "output_type": "stream",
     "text": [
      "83\n"
     ]
    }
   ],
   "source": [
    "x = random.randint(0,100)\n",
    "print(x)"
   ]
  },
  {
   "cell_type": "code",
   "execution_count": 11,
   "id": "4d47e747-4f31-44dc-9018-e34b33e65aef",
   "metadata": {},
   "outputs": [
    {
     "name": "stdout",
     "output_type": "stream",
     "text": [
      "2.7649402901547178\n"
     ]
    }
   ],
   "source": [
    "y = random.uniform(1.1,3.3)\n",
    "print(y)"
   ]
  },
  {
   "cell_type": "code",
   "execution_count": 13,
   "id": "2c47d2fe-a73c-4d52-82e1-725c3b550582",
   "metadata": {},
   "outputs": [],
   "source": [
    "import math"
   ]
  },
  {
   "cell_type": "code",
   "execution_count": 17,
   "id": "84f27960-4da3-4203-bd79-e55f2e362578",
   "metadata": {},
   "outputs": [
    {
     "name": "stdout",
     "output_type": "stream",
     "text": [
      "nan\n"
     ]
    }
   ],
   "source": [
    "x = math.nan\n",
    "print(x)"
   ]
  },
  {
   "cell_type": "code",
   "execution_count": 21,
   "id": "7379297c-8626-4438-b68d-475b946b7f3e",
   "metadata": {},
   "outputs": [
    {
     "name": "stdout",
     "output_type": "stream",
     "text": [
      "inf\n",
      "-inf\n"
     ]
    }
   ],
   "source": [
    "x = float(\"inf\")\n",
    "y = float(\"-inf\")\n",
    "print(x)\n",
    "print(y)"
   ]
  },
  {
   "cell_type": "code",
   "execution_count": 23,
   "id": "9b569692-014f-4044-b75e-cf3e988ca3f1",
   "metadata": {},
   "outputs": [
    {
     "name": "stdout",
     "output_type": "stream",
     "text": [
      "False\n"
     ]
    }
   ],
   "source": [
    "x = None\n",
    "print(bool(x))"
   ]
  },
  {
   "cell_type": "code",
   "execution_count": 33,
   "id": "1ebcd010-ac1f-49f5-a496-6e3fa0c7b73a",
   "metadata": {},
   "outputs": [
    {
     "name": "stdout",
     "output_type": "stream",
     "text": [
      "False\n"
     ]
    }
   ],
   "source": [
    "x = ()\n",
    "print(bool(x))"
   ]
  },
  {
   "cell_type": "code",
   "execution_count": 37,
   "id": "d2667513-455d-468d-8542-d7f79c9ed61b",
   "metadata": {},
   "outputs": [
    {
     "name": "stdout",
     "output_type": "stream",
     "text": [
      "True\n"
     ]
    }
   ],
   "source": [
    "x = \"my name is dhruvi\"\n",
    "print(bool(x))"
   ]
  },
  {
   "cell_type": "code",
   "execution_count": 62,
   "id": "99bfc509-ca8d-4352-9431-bf29a191529a",
   "metadata": {},
   "outputs": [
    {
     "name": "stdout",
     "output_type": "stream",
     "text": [
      "Flase\n"
     ]
    }
   ],
   "source": [
    "a = [1,2,3,4]\n",
    "\n",
    "if 9 in a:\n",
    "    print(\"True\") \n",
    "else:\n",
    "    print(\"Flase\")"
   ]
  },
  {
   "cell_type": "code",
   "execution_count": 92,
   "id": "64fabe26-73e8-4b90-bc6a-08d2c2a94a13",
   "metadata": {},
   "outputs": [
    {
     "name": "stdout",
     "output_type": "stream",
     "text": [
      "My name is dhruvi\n",
      "My name is Dhruvi\n",
      "My name is dhruvi\n",
      "My name is dhruvi\n"
     ]
    }
   ],
   "source": [
    "a = \"my name is dhruvi\"\n",
    "\n",
    "a = \"M\" + a[1:]\n",
    "print(a)\n",
    "\n",
    "x = a.replace(\"dhruvi\",\"Dhruvi\")\n",
    "print(x)\n",
    "print(a.strip())\n",
    "\n",
    "print(a)"
   ]
  },
  {
   "cell_type": "code",
   "execution_count": 82,
   "id": "019cd237-460b-492e-9568-11b1c57d72a0",
   "metadata": {},
   "outputs": [
    {
     "name": "stdout",
     "output_type": "stream",
     "text": [
      "fhgj\n"
     ]
    }
   ],
   "source": [
    "g = \"   fhgj    \"\n",
    "print(g.strip())"
   ]
  },
  {
   "cell_type": "code",
   "execution_count": 86,
   "id": "e68b6b0c-a4a5-4218-a10f-6ebe475c5f87",
   "metadata": {},
   "outputs": [
    {
     "name": "stdout",
     "output_type": "stream",
     "text": [
      "Hello Dhruvi\n"
     ]
    }
   ],
   "source": [
    "s1 = \"Hello\"\n",
    "s2 = \"Dhruvi\"\n",
    "\n",
    "s3 = s1 + \" \" + s2\n",
    "print(s3)"
   ]
  },
  {
   "cell_type": "code",
   "execution_count": 90,
   "id": "1dd6ca4d-7b28-4897-af98-3d1c5988cfcd",
   "metadata": {},
   "outputs": [
    {
     "name": "stdout",
     "output_type": "stream",
     "text": [
      "dhruvi dhruvi dhruvi \n"
     ]
    }
   ],
   "source": [
    "d1 = \"dhruvi \"\n",
    "print(d1*3)"
   ]
  },
  {
   "cell_type": "code",
   "execution_count": 94,
   "id": "e0f6aae6-7719-4cdd-bb71-5b6d3a6332f9",
   "metadata": {},
   "outputs": [
    {
     "name": "stdout",
     "output_type": "stream",
     "text": [
      "name = dhruvi , surname = dobariya\n"
     ]
    }
   ],
   "source": [
    "s = \"dhruvi\"\n",
    "g = \"dobariya\"\n",
    "\n",
    "print(f\"name = {s} , surname = {g}\")"
   ]
  },
  {
   "cell_type": "code",
   "execution_count": 102,
   "id": "1edfb480-5115-4318-9941-d9589e5b8164",
   "metadata": {},
   "outputs": [
    {
     "name": "stdout",
     "output_type": "stream",
     "text": [
      "[2]\n",
      "[4, 2]\n",
      "[4, 2, 1, 2, 3, 4]\n"
     ]
    }
   ],
   "source": [
    "a = []\n",
    "a.append(2)\n",
    "print(a)\n",
    "\n",
    "a.insert(0,4)\n",
    "print(a)\n",
    "\n",
    "a.extend([1,2,3,4])\n",
    "print(a)"
   ]
  },
  {
   "cell_type": "code",
   "execution_count": 106,
   "id": "c4692588-89f7-4241-8bdb-b2485986e0ac",
   "metadata": {},
   "outputs": [
    {
     "name": "stdin",
     "output_type": "stream",
     "text": [
      "enter your name:  dhruvi\n"
     ]
    },
    {
     "name": "stdout",
     "output_type": "stream",
     "text": [
      "dhruvi\n"
     ]
    }
   ],
   "source": [
    "name = input(\"enter your name: \")\n",
    "print(name)"
   ]
  },
  {
   "cell_type": "code",
   "execution_count": 116,
   "id": "4c47b861-403d-40e3-a09d-f3cf2befecdb",
   "metadata": {},
   "outputs": [
    {
     "name": "stdout",
     "output_type": "stream",
     "text": [
      "((1, 1, 1, 1), ('dhruvi', 'ayush'))\n"
     ]
    }
   ],
   "source": [
    "tup1 = (1,) * 4\n",
    "tup2 = (\"dhruvi\",\"ayush\")\n",
    "tup3 = (tup1 , tup2)\n",
    "print(tup3)"
   ]
  },
  {
   "cell_type": "code",
   "execution_count": 118,
   "id": "d7d7b099-3284-413d-b20a-bc57a5f829d7",
   "metadata": {},
   "outputs": [
    {
     "name": "stdout",
     "output_type": "stream",
     "text": [
      "(1, 1, 1, 1)\n"
     ]
    }
   ],
   "source": [
    "print(tup1)"
   ]
  },
  {
   "cell_type": "code",
   "execution_count": 130,
   "id": "4f9d3c7a-3a23-43ba-8d44-d8b13ab15636",
   "metadata": {},
   "outputs": [
    {
     "name": "stdout",
     "output_type": "stream",
     "text": [
      "('geeks',)\n",
      "(('geeks',),)\n",
      "((('geeks',),),)\n",
      "(((('geeks',),),),)\n",
      "((((('geeks',),),),),)\n"
     ]
    }
   ],
   "source": [
    "tup = (\"geeks\")\n",
    "n = 5\n",
    "for i in range(n):\n",
    "    tup = (tup,)\n",
    "    print(tup)"
   ]
  },
  {
   "cell_type": "code",
   "execution_count": 132,
   "id": "c1eff0c1-4ec9-4e8e-9ef2-fcf6944dc000",
   "metadata": {},
   "outputs": [
    {
     "name": "stdout",
     "output_type": "stream",
     "text": [
      "my\n",
      "name\n",
      "dhruvi\n"
     ]
    }
   ],
   "source": [
    "tup = (\"my\",\"name\",\"dhruvi\")\n",
    "a,b,c = tup\n",
    "print(a)\n",
    "print(b)\n",
    "print(c)"
   ]
  },
  {
   "cell_type": "code",
   "execution_count": 138,
   "id": "1e17efe0-b408-4627-b8cd-bc899ac6bb33",
   "metadata": {},
   "outputs": [
    {
     "name": "stdout",
     "output_type": "stream",
     "text": [
      "index 1 : my\n",
      "index 2 : name\n",
      "index 3 : dhruvi\n"
     ]
    }
   ],
   "source": [
    "tup = (\"my\",\"name\",\"dhruvi\")\n",
    "for i,name in enumerate(tup,start=1):\n",
    "    print(f\"index {i} : {name}\")"
   ]
  },
  {
   "cell_type": "code",
   "execution_count": 144,
   "id": "6f9a3e3d-de1c-4836-9ce4-27b9339467e3",
   "metadata": {},
   "outputs": [
    {
     "name": "stdout",
     "output_type": "stream",
     "text": [
      "[(1, 'my'), (2, 'name'), (3, 'dhruvi')]\n"
     ]
    }
   ],
   "source": [
    "print(list(enumerate(tup,start=1)))"
   ]
  },
  {
   "cell_type": "code",
   "execution_count": 25,
   "id": "eda38bf4-6289-4b19-8182-0319d0940f0f",
   "metadata": {},
   "outputs": [
    {
     "name": "stdout",
     "output_type": "stream",
     "text": [
      "512\n"
     ]
    }
   ],
   "source": [
    "a = 4\n",
    "b = 7\n",
    "a <<= b\n",
    "print(a)"
   ]
  },
  {
   "cell_type": "code",
   "execution_count": 3,
   "id": "f02c07f6-1e2a-42d9-af1c-e6a88935e481",
   "metadata": {
    "scrolled": true
   },
   "outputs": [
    {
     "name": "stdout",
     "output_type": "stream",
     "text": [
      "With Python 3.8 Walrus Operator:\n",
      "Found name: \"rahul\"\n",
      "Found name: \"rohit\"\n",
      "Found name: \"ram\"\n",
      "Found name: \"ravan\"\n"
     ]
    }
   ],
   "source": [
    "sample_data = [\n",
    "    {\"userId\": 1, \"name\": \"rahul\", \"completed\": False},\n",
    "    {\"userId\": 1, \"name\": \"rohit\", \"completed\": False},\n",
    "    {\"userId\": 1, \"name\": \"ram\", \"completed\": False},\n",
    "    {\"userId\": 1, \"name\": \"ravan\", \"completed\": True}\n",
    "]\n",
    "\n",
    "print(\"With Python 3.8 Walrus Operator:\")\n",
    "for entry in sample_data:\n",
    "    if name := entry.get(\"name\"):\n",
    "        print(f'Found name: \"{name}\"')"
   ]
  },
  {
   "cell_type": "code",
   "execution_count": 15,
   "id": "e397d7a8-8bda-42d9-abe6-e23bb6b0bb00",
   "metadata": {},
   "outputs": [
    {
     "name": "stdout",
     "output_type": "stream",
     "text": [
      "either\n"
     ]
    }
   ],
   "source": [
    "a,b,c = True,False,True\n",
    "\n",
    "if a and b :\n",
    "    print(\"both are true\")\n",
    "else:\n",
    "    print(\"either\")"
   ]
  },
  {
   "cell_type": "code",
   "execution_count": 11,
   "id": "1446082d-a3a2-4530-afb9-2607da787b61",
   "metadata": {},
   "outputs": [
    {
     "name": "stdout",
     "output_type": "stream",
     "text": [
      "zero\n"
     ]
    }
   ],
   "source": [
    "n = 0\n",
    "res = \"positive\" if n>0 else \"negative\" if n<0 else \"zero\"\n",
    "print(res)"
   ]
  },
  {
   "cell_type": "code",
   "execution_count": 17,
   "id": "d34380c2-8f42-4448-ae98-bf23cc31ab75",
   "metadata": {},
   "outputs": [
    {
     "name": "stdout",
     "output_type": "stream",
     "text": [
      "odd\n"
     ]
    }
   ],
   "source": [
    "n = 5\n",
    "res = [\"odd\",\"even\"][n % 2 == 0]\n",
    "print(res)\n"
   ]
  },
  {
   "cell_type": "code",
   "execution_count": 19,
   "id": "fd1c38c1-4c18-4177-af49-be69ea82c7b4",
   "metadata": {},
   "outputs": [
    {
     "name": "stdout",
     "output_type": "stream",
     "text": [
      "5\n"
     ]
    }
   ],
   "source": [
    "a = 3\n",
    "b = 5\n",
    "res = {True : a,False : b}[a>b]\n",
    "print(res)"
   ]
  },
  {
   "cell_type": "code",
   "execution_count": 23,
   "id": "6a7387bf-fb94-4c41-a3d3-42d8687e57e3",
   "metadata": {},
   "outputs": [
    {
     "name": "stdout",
     "output_type": "stream",
     "text": [
      "6\n"
     ]
    }
   ],
   "source": [
    "a = 4\n",
    "b = 6\n",
    "res = (lambda x , y : x if x>y else y)(a,b)\n",
    "print(res)"
   ]
  },
  {
   "cell_type": "code",
   "execution_count": null,
   "id": "6dda030f-6766-4003-989f-27cf43d0663d",
   "metadata": {},
   "outputs": [],
   "source": [
    "for i in range(1,5):\n",
    "    for j in range(i):\n",
    "        print(i,end=\"\")\n",
    "    print()"
   ]
  },
  {
   "cell_type": "code",
   "execution_count": null,
   "id": "43b91ee1-da98-4937-8e3c-45448a48d524",
   "metadata": {},
   "outputs": [],
   "source": [
    "n = 0\n",
    "while (n < 3):\n",
    "    n += 1\n",
    "    print(\"hello\")"
   ]
  },
  {
   "cell_type": "code",
   "execution_count": null,
   "id": "bc9733c4-06e8-40a4-aa6e-18839b2fd072",
   "metadata": {},
   "outputs": [],
   "source": [
    "for l in \"imdhruvi\":\n",
    "    if l == \"d\" and l == \"v\":\n",
    "        conti"
   ]
  },
  {
   "cell_type": "code",
   "execution_count": 1,
   "id": "8aabb852-6df2-43f9-9374-8f6202027910",
   "metadata": {},
   "outputs": [
    {
     "name": "stdout",
     "output_type": "stream",
     "text": [
      "6\n"
     ]
    }
   ],
   "source": [
    "a = -6\n",
    "print(abs(a))"
   ]
  },
  {
   "cell_type": "code",
   "execution_count": null,
   "id": "1f8ceddf-0908-43bb-bdb8-1ebfefc69396",
   "metadata": {},
   "outputs": [],
   "source": [
    "def debugger(a, b):\n",
    "    import pdb; pdb.set_trace()\n",
    "    result = a / b\n",
    "    return result\n",
    " \n",
    "debugger(5, 0)"
   ]
  },
  {
   "cell_type": "code",
   "execution_count": null,
   "id": "2c3e1f48-1353-4b9f-aed2-61ced07f4f8c",
   "metadata": {},
   "outputs": [],
   "source": []
  }
 ],
 "metadata": {
  "kernelspec": {
   "display_name": "Python [conda env:base] *",
   "language": "python",
   "name": "conda-base-py"
  },
  "language_info": {
   "codemirror_mode": {
    "name": "ipython",
    "version": 3
   },
   "file_extension": ".py",
   "mimetype": "text/x-python",
   "name": "python",
   "nbconvert_exporter": "python",
   "pygments_lexer": "ipython3",
   "version": "3.12.7"
  }
 },
 "nbformat": 4,
 "nbformat_minor": 5
}
