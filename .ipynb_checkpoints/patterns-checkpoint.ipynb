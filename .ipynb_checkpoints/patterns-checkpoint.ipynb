{
 "cells": [
  {
   "cell_type": "code",
   "execution_count": 41,
   "id": "a827d76a-1412-44af-bd97-f379f3557b96",
   "metadata": {},
   "outputs": [
    {
     "name": "stdin",
     "output_type": "stream",
     "text": [
      "Enter the number:  5\n"
     ]
    },
    {
     "name": "stdout",
     "output_type": "stream",
     "text": [
      "*\n",
      "**\n",
      "***\n",
      "****\n",
      "*****\n"
     ]
    }
   ],
   "source": [
    "n = int(input(\"Enter the number: \"))\n",
    "\n",
    "for i in range(n):\n",
    "    for j in range(i+1):\n",
    "        print(\"*\",end=\"\")\n",
    "    print(\"\")"
   ]
  },
  {
   "cell_type": "code",
   "execution_count": null,
   "id": "7eac589b-efdc-4a0a-9df4-58fa76064dbe",
   "metadata": {},
   "outputs": [],
   "source": [
    "n = int(input(\"Enter the number: \"))\n",
    "pattern = []\n",
    "\n",
    "for i in range(1, rows + 1):\n",
    "    \n",
    "    row = [\"*\"] * i \n",
    "    pattern.append(row)  \n",
    "\n",
    "# Print the pattern\n",
    "for row in pattern:\n",
    "    print(\" \".join(row)) "
   ]
  },
  {
   "cell_type": "code",
   "execution_count": null,
   "id": "719f530b-07e5-48ad-b1b7-1a0b648e100d",
   "metadata": {},
   "outputs": [],
   "source": [
    "# Number of rows\n",
    "rows = 5\n",
    "\n",
    "# Create a list to store each row\n",
    "pattern = []\n",
    "\n",
    "# Outer loop for the number of rows\n",
    "for i in range(1, rows + 1):\n",
    "    row = []  # Create an empty list for the current row\n",
    "    for j in range(i):  # Inner loop to add stars to the row\n",
    "        row.append(\"*\")\n",
    "    pattern.append(row)  # Add the row to the pattern\n",
    "\n",
    "# Print the pattern\n",
    "for row in pattern:\n",
    "    line = \"\"  # Initialize an empty string for the current line\n",
    "    for star in row:\n",
    "        line += star + \" \"  # Manually add each star and a space\n",
    "    print(line)  # Print the line"
   ]
  },
  {
   "cell_type": "code",
   "execution_count": 161,
   "id": "c1fedb60-7bb0-4d08-a25e-37b8121c7cdc",
   "metadata": {},
   "outputs": [
    {
     "name": "stdin",
     "output_type": "stream",
     "text": [
      "Enter the number:  6\n"
     ]
    },
    {
     "name": "stdout",
     "output_type": "stream",
     "text": [
      "            \n",
      "     *      \n",
      "    * *     \n",
      "   * * *    \n",
      "  * * * *   \n",
      " * * * * *  \n",
      "* * * * * * \n"
     ]
    }
   ],
   "source": [
    "n = int(input(\"Enter the number: \"))\n",
    "k = 0\n",
    "for i in range(n+1):\n",
    "    for j in range(n-i):\n",
    "        print(\" \",end=\"\")\n",
    "\n",
    "    for k in range(i):\n",
    "        print(\"* \",end=\"\")\n",
    "\n",
    "    for j in range(n-i):\n",
    "        print(\" \",end=\"\")\n",
    "    print(\"\")"
   ]
  },
  {
   "cell_type": "code",
   "execution_count": 3,
   "id": "86653b6a-bcfa-4079-9a62-74b6b153a657",
   "metadata": {},
   "outputs": [
    {
     "name": "stdin",
     "output_type": "stream",
     "text": [
      "Enter the number:  5\n"
     ]
    },
    {
     "name": "stdout",
     "output_type": "stream",
     "text": [
      "1 \n",
      "1 2 \n",
      "1 2 3 \n",
      "1 2 3 4 \n",
      "1 2 3 4 5 \n"
     ]
    }
   ],
   "source": [
    "n = int(input(\"Enter the number: \"))\n",
    "\n",
    "num = 1\n",
    "\n",
    "for i in range(1,n+1):\n",
    "    num = 1\n",
    "    for j in range(1,i+1):\n",
    "        print(num,end=\" \")\n",
    "        num += 1\n",
    "    print(\"\")"
   ]
  },
  {
   "cell_type": "code",
   "execution_count": 5,
   "id": "9810ee5d-4007-448b-8717-b8333d5db55a",
   "metadata": {},
   "outputs": [
    {
     "name": "stdin",
     "output_type": "stream",
     "text": [
      "Enter the number:  5\n"
     ]
    },
    {
     "name": "stdout",
     "output_type": "stream",
     "text": [
      "1 \n",
      "2 3 \n",
      "4 5 6 \n",
      "7 8 9 10 \n",
      "11 12 13 14 15 \n"
     ]
    }
   ],
   "source": [
    "n = int(input(\"Enter the number: \"))\n",
    "\n",
    "num = 1\n",
    "\n",
    "for i in range(1,n+1):\n",
    "    \n",
    "    for j in range(1,i+1):\n",
    "        print(num,end=\" \")\n",
    "        num += 1\n",
    "    print(\"\")"
   ]
  },
  {
   "cell_type": "code",
   "execution_count": 12,
   "id": "565b18ea-cfb5-4fec-9aca-3767f2948202",
   "metadata": {},
   "outputs": [
    {
     "name": "stdin",
     "output_type": "stream",
     "text": [
      "Enter the number:  4\n"
     ]
    },
    {
     "name": "stdout",
     "output_type": "stream",
     "text": [
      "A \n",
      "B B \n",
      "C C C \n",
      "D D D D \n"
     ]
    }
   ],
   "source": [
    "n = int(input(\"Enter the number: \"))\n",
    "\n",
    "num = 65\n",
    "\n",
    "for i in range(1,n+1):\n",
    "    for j in range(1,i+1):\n",
    "        ch = chr(num)\n",
    "        print(ch,end=\" \")\n",
    "    num += 1\n",
    "    print(\"\")"
   ]
  },
  {
   "cell_type": "code",
   "execution_count": 14,
   "id": "1c1db4f0-5e0e-48a0-a789-b685713c6fa0",
   "metadata": {},
   "outputs": [
    {
     "name": "stdin",
     "output_type": "stream",
     "text": [
      "Enter the number:  5\n"
     ]
    },
    {
     "name": "stdout",
     "output_type": "stream",
     "text": [
      "A \n",
      "B C \n",
      "D E F \n",
      "G H I J \n",
      "K L M N O \n"
     ]
    }
   ],
   "source": [
    "n = int(input(\"Enter the number: \"))\n",
    "\n",
    "num = 65\n",
    "\n",
    "for i in range(1,n+1):\n",
    "    for j in range(1,i+1):\n",
    "        ch = chr(num)\n",
    "        print(ch,end=\" \")\n",
    "        num += 1\n",
    "    print(\"\")"
   ]
  },
  {
   "cell_type": "code",
   "execution_count": 37,
   "id": "3e5f1ec6-a953-477e-a47f-f16bbc8765a6",
   "metadata": {},
   "outputs": [
    {
     "name": "stdin",
     "output_type": "stream",
     "text": [
      "Enter the number:  5\n"
     ]
    }
   ],
   "source": [
    "n = int(input(\"Enter the number: \"))\n",
    "\n",
    "for i in range(n,1):\n",
    "    print(\"* \"*n,end=\"\")\n",
    "    print(\"\")"
   ]
  },
  {
   "cell_type": "code",
   "execution_count": 45,
   "id": "76efc4a5-4344-4cee-a69a-af2d689d1467",
   "metadata": {},
   "outputs": [
    {
     "name": "stdin",
     "output_type": "stream",
     "text": [
      "Enter the number:  5\n"
     ]
    },
    {
     "name": "stdout",
     "output_type": "stream",
     "text": [
      "*****\n",
      "****\n",
      "***\n",
      "**\n",
      "*\n"
     ]
    }
   ],
   "source": [
    "n = int(input(\"Enter the number: \"))\n",
    "\n",
    "for i in range(n,0,-1):\n",
    "    for j in range(i):\n",
    "        print(\"*\",end=\"\")\n",
    "    print(\"\")"
   ]
  },
  {
   "cell_type": "code",
   "execution_count": 21,
   "id": "0a34b73f-3152-4aec-9e56-683a36b7fdb8",
   "metadata": {},
   "outputs": [
    {
     "name": "stdin",
     "output_type": "stream",
     "text": [
      "Enter the number:  5\n"
     ]
    },
    {
     "name": "stdout",
     "output_type": "stream",
     "text": [
      "* * * * * \n",
      " * * * * \n",
      "  * * * \n",
      "   * * \n",
      "    * \n"
     ]
    }
   ],
   "source": [
    "n = int(input(\"Enter the number: \"))\n",
    "k = 0\n",
    "\n",
    "for i in range(n,0,-1):\n",
    "    for j in range(n-i):\n",
    "        print(\" \",end=\"\")\n",
    "\n",
    "    for k in range(i):\n",
    "        print(\"* \",end=\"\")\n",
    "    print(\"\")"
   ]
  },
  {
   "cell_type": "code",
   "execution_count": 131,
   "id": "b88dcce1-d128-47a1-923c-6cfb1ebe56f9",
   "metadata": {},
   "outputs": [
    {
     "name": "stdin",
     "output_type": "stream",
     "text": [
      "Enter the number:  5\n"
     ]
    },
    {
     "name": "stdout",
     "output_type": "stream",
     "text": [
      "*****\n",
      "*  * \n",
      "* *  \n",
      "**   \n",
      "*    \n"
     ]
    }
   ],
   "source": [
    "n = int(input(\"Enter the number: \"))\n",
    "n = int(input(\"Enter Number : \"))\n",
    "k = 1\n",
    "for i in range(1,n+1):\n",
    "    for j in range(1,i+1):\n",
    "        print(k , end=\" \")\n",
    "    k+=1\n",
    "\n",
    "    for l in range(k,n+1):\n",
    "        print(l , end=\" \")\n",
    "    print()\n",
    "for i in range(n,0,-1):\n",
    "    for j in range(1,n+1):\n",
    "        if i == n or j == 1 or j == i:\n",
    "            print(\"*\",end=\"\")\n",
    "        else:\n",
    "            print(\" \",end=\"\")\n",
    "    print(\"\")"
   ]
  },
  {
   "cell_type": "code",
   "execution_count": 133,
   "id": "88364fc8-c266-45bd-89ee-d2952bd484e0",
   "metadata": {},
   "outputs": [],
   "source": [
    "# n = 7 # Height of the pyramid\n",
    "# stars = \"*\" * n  # First row with all stars\n",
    "# spaces = \" \" * (n - 2)  # Space pattern for middle rows\n",
    "\n",
    "# print(stars)  # Print first row\n",
    "\n",
    "# for i in range(1, n - 1):  \n",
    "#     print(\"*\" + spaces[: n - i - 2] + \"*\")  # Construct hollow pattern\n",
    "\n",
    "# print(\"*\")  # Print last row"
   ]
  },
  {
   "cell_type": "code",
   "execution_count": 83,
   "id": "b554b651-860d-4692-ac8f-5543749c750c",
   "metadata": {},
   "outputs": [
    {
     "name": "stdin",
     "output_type": "stream",
     "text": [
      "Enter the number:  5\n"
     ]
    },
    {
     "name": "stdout",
     "output_type": "stream",
     "text": [
      "    *    \n",
      "   * *   \n",
      "  *   *  \n",
      " *     * \n",
      "*********\n"
     ]
    }
   ],
   "source": [
    "n = int(input(\"Enter the number: \"))n = int(input(\"Enter the number: \"))\n",
    "k = 0\n",
    "for i in range(1, n + 1):n = int(input(\"Enter Number : \"))\n",
    "k = 1\n",
    "for i in range(1,n+1):\n",
    "    for j in range(1,i+1):\n",
    "        print(k , end=\" \")\n",
    "    k+=1\n",
    "\n",
    "    for l in range(k,n+1):\n",
    "        print(l , end=\" \")\n",
    "    print()\n",
    "        for j in range(1, 2 * n):\n",
    "            if j == n - i + 1 or j == n + i - 1 or i == n:\n",
    "                print(\"*\", end=\"\")\n",
    "            else:\n",
    "                print(\" \", end=\"\")\n",
    "        print(\"\")"
   ]
  },
  {
   "cell_type": "code",
   "execution_count": 79,
   "id": "f70bee72-1369-47b3-a174-26838f077872",
   "metadata": {},
   "outputs": [
    {
     "name": "stdin",
     "output_type": "stream",
     "text": [
      "Enter the number:  7\n"
     ]
    },
    {
     "name": "stdout",
     "output_type": "stream",
     "text": [
      "* * * * * * * \n",
      "*           * \n",
      "*           * \n",
      "*           * \n",
      "*           * \n",
      "*           * \n",
      "* * * * * * * \n"
     ]
    }
   ],
   "source": [
    "n = int(input(\"Enter the number: \"))\n",
    "for i in range(1,n+1):\n",
    "    for j in range(1,n+1):\n",
    "        if i == n or j == 1 or j == n or i == 1:\n",
    "            print(\"* \",end=\"\")\n",
    "        else:\n",
    "            print(\" \",end=\" \")\n",
    "    print(\"\")"
   ]
  },
  {
   "cell_type": "markdown",
   "id": "c2d64e45-6dd5-4700-9b17-b3a0f9e73c5d",
   "metadata": {},
   "source": [
    "# NEW METHOD"
   ]
  },
  {
   "cell_type": "code",
   "execution_count": 40,
   "id": "ed3cd8f6-3b9d-4243-b686-64d8dd3541d9",
   "metadata": {},
   "outputs": [
    {
     "name": "stdin",
     "output_type": "stream",
     "text": [
      "Enter the number:  5\n"
     ]
    },
    {
     "name": "stdout",
     "output_type": "stream",
     "text": [
      "*    \n",
      "**   \n",
      "***  \n",
      "**** \n",
      "*****\n"
     ]
    }
   ],
   "source": [
    "n = int(input(\"Enter the number: \"))\n",
    "for i in range(1,n+1):\n",
    "    for j in range(1,i+1):\n",
    "        print(\"*\",end=\"\")\n",
    "    \n",
    "    for k in range(n-i):\n",
    "        print(\" \",end=\"\")\n",
    "    print(\"\")"
   ]
  },
  {
   "cell_type": "code",
   "execution_count": 86,
   "id": "ead4c7b4-07b5-4297-8b00-063e06e13637",
   "metadata": {},
   "outputs": [
    {
     "name": "stdin",
     "output_type": "stream",
     "text": [
      "Enter the number:  5\n"
     ]
    },
    {
     "name": "stdout",
     "output_type": "stream",
     "text": [
      "***** \n",
      "****  \n",
      "***   \n",
      "**    \n",
      "*     \n"
     ]
    }
   ],
   "source": [
    "n = int(input(\"Enter the number: \"))\n",
    "k = 0\n",
    "for i in range(1,n+1):\n",
    "    for j in range(n-i+1):\n",
    "        print(\"*\",end=\"\")\n",
    "    for k in range(i):\n",
    "        print(\" \",end=\"\")\n",
    "\n",
    "    print(\"\")"
   ]
  },
  {
   "cell_type": "code",
   "execution_count": 7,
   "id": "17af8697-fa39-4805-ba17-6f7bbfe25eb6",
   "metadata": {},
   "outputs": [
    {
     "name": "stdin",
     "output_type": "stream",
     "text": [
      "Enter the number:  5\n"
     ]
    },
    {
     "name": "stdout",
     "output_type": "stream",
     "text": [
      "*****\n",
      "*  * \n",
      "* *  \n",
      "**   \n",
      "*    \n"
     ]
    }
   ],
   "source": [
    "n = int(input(\"Enter the number: \"))\n",
    "for i in range(1,n+1):\n",
    "    for j in range(1,n+1):\n",
    "\n",
    "        if i == 1 or j == 1:\n",
    "            print(\"*\",end=\"\")\n",
    "            continue\n",
    "\n",
    "        if j == n - i + 1:  #second logic  =  i + j == n + 1\n",
    "            print(\"*\",end=\"\")\n",
    "            continue\n",
    "        \n",
    "        print(\" \",end=\"\")\n",
    "    print(\"\")"
   ]
  },
  {
   "cell_type": "code",
   "execution_count": 11,
   "id": "764f646c-4a2d-43f3-931e-385c2e55eb71",
   "metadata": {},
   "outputs": [
    {
     "name": "stdin",
     "output_type": "stream",
     "text": [
      "Enter the number:  5\n"
     ]
    },
    {
     "name": "stdout",
     "output_type": "stream",
     "text": [
      "          \n",
      "    *     \n",
      "   * *    \n",
      "  * * *   \n",
      " * * * *  \n",
      "* * * * * \n"
     ]
    }
   ],
   "source": [
    "n = int(input(\"Enter the number: \"))\n",
    "k = 0\n",
    "for i in range(n+1):\n",
    "    for j in range(n-i):\n",
    "        print(\" \",end=\"\")\n",
    "\n",
    "    for k in range(i):\n",
    "        print(\"* \",end=\"\")\n",
    "\n",
    "    for j in range(n-i):\n",
    "        print(\" \",end=\"\")\n",
    "    print(\"\") "
   ]
  },
  {
   "cell_type": "code",
   "execution_count": 46,
   "id": "571fd55e-8aa7-404e-b796-b7f4c383bd60",
   "metadata": {},
   "outputs": [
    {
     "name": "stdin",
     "output_type": "stream",
     "text": [
      "Enter the number:  6\n"
     ]
    },
    {
     "name": "stdout",
     "output_type": "stream",
     "text": [
      "* * * * * * \n",
      " * * * * *  \n",
      "  * * * *   \n",
      "   * * *    \n",
      "    * *     \n",
      "     *      \n"
     ]
    }
   ],
   "source": [
    "n = int(input(\"Enter the number: \"))\n",
    "k = 0\n",
    "for i in range(n):\n",
    "    for j in range(i):\n",
    "          print(\" \",end=\"\")\n",
    "    \n",
    "    for k in range(i,n):\n",
    "        print(\"* \",end=\"\")\n",
    "\n",
    "    for j in range(i):\n",
    "        print(\" \",end=\"\")\n",
    "    print(\"\")"
   ]
  },
  {
   "cell_type": "code",
   "execution_count": 117,
   "id": "0ee85923-6478-4f6a-b9d7-9e10bbc30622",
   "metadata": {},
   "outputs": [
    {
     "name": "stdin",
     "output_type": "stream",
     "text": [
      "Enter the number:  5\n"
     ]
    },
    {
     "name": "stdout",
     "output_type": "stream",
     "text": [
      "    *    \n",
      "   * *   \n",
      "  *   *  \n",
      " *     * \n",
      "* * * * *\n"
     ]
    }
   ],
   "source": [
    "n = int(input(\"Enter the number: \"))\n",
    "for i in range(1,n+1):\n",
    "    for j in range(1,2*n):\n",
    "        if (i == n and j % 2 != 0) or i + j == n + 1 or j - i == n - 1:\n",
    "            print(\"*\",end=\"\")\n",
    "            continue\n",
    "        if i != n or i + j != n + 1 or j - i != n - 1:\n",
    "            print(\" \",end=\"\")\n",
    "            continue\n",
    "    print(\"\")"
   ]
  },
  {
   "cell_type": "code",
   "execution_count": 153,
   "id": "e6a38674-9364-4993-8933-9f3c882cd7c1",
   "metadata": {},
   "outputs": [
    {
     "name": "stdin",
     "output_type": "stream",
     "text": [
      "Enter the number:  7\n"
     ]
    },
    {
     "name": "stdout",
     "output_type": "stream",
     "text": [
      "* * * * * * *\n",
      " *         * \n",
      "  *       *  \n",
      "   *     *   \n",
      "    *   *    \n",
      "     * *     \n",
      "      *      \n"
     ]
    }
   ],
   "source": [
    "n = int(input(\"Enter the number: \"))\n",
    "for i in range(1,n+1):\n",
    "    for j in range(1,2*n):\n",
    "        if (i == 1 and j % 2 != 0) or i == j or i + j == n * 2 :\n",
    "            print(\"*\",end=\"\")\n",
    "            continue\n",
    "\n",
    "        if i != n or i != j  or i + j != n * 2 :\n",
    "            print(\" \",end=\"\")\n",
    "            continue\n",
    "    print(\"\")"
   ]
  },
  {
   "cell_type": "code",
   "execution_count": 119,
   "id": "d5dfbae5-5fa0-4aff-a286-af50ca8aa15c",
   "metadata": {},
   "outputs": [
    {
     "name": "stdin",
     "output_type": "stream",
     "text": [
      "Enter the number:  5\n"
     ]
    },
    {
     "name": "stdout",
     "output_type": "stream",
     "text": [
      "          \n",
      "    *     \n",
      "   * *    \n",
      "  * * *   \n",
      " * * * *  \n",
      "* * * * * \n",
      "* * * * * \n",
      " * * * *  \n",
      "  * * *   \n",
      "   * *    \n",
      "    *     \n"
     ]
    }
   ],
   "source": [
    "n = int(input(\"Enter the number: \"))\n",
    "k = 0\n",
    "for i in range(n+1):\n",
    "    for j in range(n-i):\n",
    "        print(\" \",end=\"\")\n",
    "\n",
    "    for k in range(i):\n",
    "        print(\"* \",end=\"\")\n",
    "\n",
    "    for j in range(n-i):\n",
    "        print(\" \",end=\"\")\n",
    "    print(\"\") \n",
    "for i in range(n):\n",
    "    for j in range(i):\n",
    "          print(\" \",end=\"\")\n",
    "    \n",
    "    for k in range(i,n):\n",
    "        print(\"* \",end=\"\")\n",
    "\n",
    "    for j in range(i):\n",
    "        print(\" \",end=\"\")\n",
    "    print(\"\")"
   ]
  },
  {
   "cell_type": "code",
   "execution_count": 80,
   "id": "8aca9378-b552-424b-967e-b01bfbd7768c",
   "metadata": {},
   "outputs": [
    {
     "name": "stdin",
     "output_type": "stream",
     "text": [
      "Enter the number:  5\n"
     ]
    },
    {
     "name": "stdout",
     "output_type": "stream",
     "text": [
      "    *    \n",
      "   * *   \n",
      "  *   *  \n",
      " *     * \n",
      "*       *\n",
      "*       *\n",
      " *     * \n",
      "  *   *  \n",
      "   * *   \n",
      "    *    \n"
     ]
    }
   ],
   "source": [
    "n = int(input(\"Enter the number: \"))\n",
    "\n",
    "for i in range(1,n+1):\n",
    "    for j in range(1,2*n):\n",
    "        if  i + j == n + 1 or j - i == n - 1:\n",
    "            print(\"*\",end=\"\")\n",
    "            continue\n",
    "        if i + j != n + 1 or j - i != n - 1:\n",
    "            print(\" \",end=\"\")\n",
    "            continue\n",
    "    print(\"\")\n",
    "\n",
    "for i in range(1,n+1):\n",
    "    for j in range(1,2*n):\n",
    "        if  i == j or i + j == n * 2 :\n",
    "            print(\"*\",end=\"\")\n",
    "            continue\n",
    "\n",
    "        if  i != j  or i + j != n * 2 :\n",
    "            print(\" \",end=\"\")\n",
    "            continue\n",
    "    print(\"\")"
   ]
  },
  {
   "cell_type": "code",
   "execution_count": 165,
   "id": "ae13461f-5965-4245-b8cc-22647d2175da",
   "metadata": {},
   "outputs": [
    {
     "name": "stdin",
     "output_type": "stream",
     "text": [
      "Enter the number:  6\n"
     ]
    },
    {
     "name": "stdout",
     "output_type": "stream",
     "text": [
      "*     \n",
      "**    \n",
      "***   \n",
      "****  \n",
      "***** \n",
      "******\n",
      "***** \n",
      "****  \n",
      "***   \n",
      "**    \n",
      "*     \n"
     ]
    }
   ],
   "source": [
    "n = int(input(\"Enter the number: \"))\n",
    "k = 0\n",
    "for i in range(1,n+1):\n",
    "    for j in range(1,i+1):\n",
    "        print(\"*\",end=\"\")\n",
    "    \n",
    "    for k in range(n-i):\n",
    "        print(\" \",end=\"\")\n",
    "    print(\"\")\n",
    "\n",
    "\n",
    "for i in range(1,n):\n",
    "    for j in range(n-i):\n",
    "        print(\"*\",end=\"\")\n",
    "    for k in range(i):\n",
    "        print(\" \",end=\"\")\n",
    "\n",
    "    print(\"\")"
   ]
  },
  {
   "cell_type": "code",
   "execution_count": 5,
   "id": "6a9d5b0c-850a-4070-af6e-c29b5b60c972",
   "metadata": {},
   "outputs": [
    {
     "name": "stdin",
     "output_type": "stream",
     "text": [
      "Enter Number :  5\n"
     ]
    },
    {
     "name": "stdout",
     "output_type": "stream",
     "text": [
      "1 2 3 4 5 \n",
      "2 2 3 4 5 \n",
      "3 3 3 4 5 \n",
      "4 4 4 4 5 \n",
      "5 5 5 5 5 \n"
     ]
    }
   ],
   "source": [
    "n = int(input(\"Enter Number : \"))\n",
    "k = 1\n",
    "for i in range(1,n+1):\n",
    "    for j in range(1,i+1):\n",
    "        print(k , end=\" \")\n",
    "    k+=1\n",
    "\n",
    "    for l in range(k,n+1):\n",
    "        print(l , end=\" \")\n",
    "    print()"
   ]
  },
  {
   "cell_type": "code",
   "execution_count": 19,
   "id": "10f3b56c-45c1-4643-b83d-d07e82d5a605",
   "metadata": {},
   "outputs": [
    {
     "name": "stdin",
     "output_type": "stream",
     "text": [
      "Enter the number:  5\n"
     ]
    },
    {
     "name": "stdout",
     "output_type": "stream",
     "text": [
      "*      \n",
      "* *     \n",
      "* * *    \n",
      "* * * *   \n",
      "* * * * *  \n"
     ]
    }
   ],
   "source": [
    "n = int(input(\"Enter the number: \"))\n",
    "for i in range(1,n+1):\n",
    "    for j in range(1,i+1):\n",
    "        print(\"* \",end=\"\")\n",
    "    \n",
    "    for k in range(n-i):\n",
    "        print(\" \",end=\"\")\n",
    "    print(\"\")"
   ]
  },
  {
   "cell_type": "code",
   "execution_count": 36,
   "id": "55df3a44-3273-4dac-ac9b-1738e8b44608",
   "metadata": {},
   "outputs": [
    {
     "name": "stdin",
     "output_type": "stream",
     "text": [
      "Enter the number:  5\n"
     ]
    },
    {
     "name": "stdout",
     "output_type": "stream",
     "text": [
      "1         \n",
      "2 3       \n",
      "4 5 6     \n",
      "7 8 9 10   \n",
      "11 12 13 14 15 \n"
     ]
    }
   ],
   "source": [
    "n = int(input(\"Enter the number: \"))\n",
    "\n",
    "num = 1\n",
    "\n",
    "for i in range(1,n+1):\n",
    "    \n",
    "    for j in range(1,i+1):\n",
    "        print(num,end=\" \")\n",
    "        num += 1\n",
    "\n",
    "    for j in range(n-i):\n",
    "        print(\" \",end=\" \")\n",
    "    print(\"\") "
   ]
  },
  {
   "cell_type": "code",
   "execution_count": 348,
   "id": "b102aedd-99e8-47be-bae1-5e24f0f1b5e4",
   "metadata": {},
   "outputs": [
    {
     "name": "stdin",
     "output_type": "stream",
     "text": [
      "Enter the number:  6\n"
     ]
    },
    {
     "name": "stdout",
     "output_type": "stream",
     "text": [
      "1 \n",
      "7\n",
      "2 \n",
      "12\n",
      "3 \n",
      "16\n",
      "4 \n",
      "19\n",
      "5 \n",
      "21\n",
      "6 \n"
     ]
    }
   ],
   "source": [
    "n = int(input(\"Enter the number: \"))\n",
    "\n",
    "num = 1\n",
    "count = 1\n",
    "flag = n\n",
    "\n",
    "for i in range(1,n+1):\n",
    "    for j in range(1,i+1):\n",
    "        if i == j:\n",
    "            print(num,end=\"\")\n",
    "            num += 1\n",
    "            continue\n",
    "            \n",
    "        # if i != j:\n",
    "        #     print(\" \",end=\"\")\n",
    "        #     continue\n",
    "\n",
    "        if i - j == 1:\n",
    "            count += flag\n",
    "            flag -= 1\n",
    "            print(count)\n",
    "            continue   \n",
    "            \n",
    "            \n",
    "        if j - i == 2:\n",
    "            count = 2\n",
    "            count += flag\n",
    "            flag -= 1\n",
    "            print(count)\n",
    "            continue   \n",
    "                        \n",
    "        \n",
    "    print(\" \")"
   ]
  },
  {
   "cell_type": "code",
   "execution_count": 404,
   "id": "7a9be8e2-4eac-4302-bfa8-4f2f84d5cc17",
   "metadata": {},
   "outputs": [
    {
     "name": "stdin",
     "output_type": "stream",
     "text": [
      "Enter the number:  6\n"
     ]
    },
    {
     "name": "stdout",
     "output_type": "stream",
     "text": [
      "1 \n",
      "7\n",
      "2 \n",
      "12\n",
      "3 \n",
      "16\n",
      "4 \n",
      "19\n",
      "5 \n",
      "21\n",
      "6 \n"
     ]
    }
   ],
   "source": [
    "n = int(input(\"Enter the number: \"))\n",
    "\n",
    "num = 1\n",
    "count = 1\n",
    "flag = n\n",
    "\n",
    "for i in range(1,n+1):\n",
    "    for j in range(1,i+1):\n",
    "        if i == j:\n",
    "            print(num,end=\"\")\n",
    "            num += 1\n",
    "            continue\n",
    "            \n",
    "        # if i != j:\n",
    "        #     print(\" \",end=\"\")\n",
    "        #     continue\n",
    "        \n",
    "        if i - j == 1:\n",
    "            count += flag\n",
    "            flag -= 1\n",
    "            print(count)\n",
    "            continue \n",
    "        \n",
    "        if j - i == 2:\n",
    "            count == 2\n",
    "            count += flag\n",
    "            flag -= 1\n",
    "            print(count)\n",
    "            \n",
    "\n",
    "    \n",
    "    print(\" \")    \n",
    "            "
   ]
  },
  {
   "cell_type": "code",
   "execution_count": 374,
   "id": "527461f8-4d89-4bbf-93a4-774219c6e31a",
   "metadata": {},
   "outputs": [
    {
     "name": "stdin",
     "output_type": "stream",
     "text": [
      "Enter the number:  6\n"
     ]
    },
    {
     "name": "stdout",
     "output_type": "stream",
     "text": [
      "1 \n",
      "7 2\n",
      "12 8\n",
      "16 13\n",
      "19 17\n",
      "21 20\n",
      "2 \n",
      "22 17\n",
      "22 18\n",
      "21 18\n",
      "19 17\n",
      "16 15\n",
      "3 \n",
      "12 7\n",
      "7 3\n",
      "1 -2\n",
      "-6 -8\n",
      "-14 -15\n",
      "4 \n",
      "-23 -28\n",
      "-33 -37\n",
      "-44 -47\n",
      "-56 -58\n",
      "-69 -70\n",
      "5 \n",
      "-83 -88\n",
      "-98 -102\n",
      "-114 -117\n",
      "-131 -133\n",
      "-149 -150\n",
      "6 \n"
     ]
    }
   ],
   "source": [
    "n = int(input(\"Enter the number: \"))\n",
    "\n",
    "num = 1\n",
    "count = 1\n",
    "flag = n\n",
    "for i in range(1,n+1):\n",
    "    for j in range(1,i+1):\n",
    "        if i == j:\n",
    "            print(num,end=\"\")\n",
    "            num += 1\n",
    "            continue\n",
    "        # if i != j:\n",
    "        #     print(\" \",end=\"\")\n",
    "        #     continue\n",
    "\n",
    "        if i - j == 1:\n",
    "            for k in range(5 , 0, -1):\n",
    "                count += flag\n",
    "                flag -= 1\n",
    "                print(count , (count - k))\n",
    "                continue   \n",
    "            \n",
    "    \n",
    "                    \n",
    "        \n",
    "    print(\" \")   "
   ]
  },
  {
   "cell_type": "code",
   "execution_count": null,
   "id": "0163f1af-47ae-47e1-9a1f-137db764b561",
   "metadata": {},
   "outputs": [],
   "source": []
  }
 ],
 "metadata": {
  "kernelspec": {
   "display_name": "Python [conda env:base] *",
   "language": "python",
   "name": "conda-base-py"
  },
  "language_info": {
   "codemirror_mode": {
    "name": "ipython",
    "version": 3
   },
   "file_extension": ".py",
   "mimetype": "text/x-python",
   "name": "python",
   "nbconvert_exporter": "python",
   "pygments_lexer": "ipython3",
   "version": "3.12.7"
  }
 },
 "nbformat": 4,
 "nbformat_minor": 5
}
