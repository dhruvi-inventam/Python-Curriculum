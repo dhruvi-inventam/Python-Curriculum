{
 "cells": [
  {
   "cell_type": "code",
   "execution_count": 4,
   "id": "96234dfe-7748-41b9-a54b-3c17715c53d7",
   "metadata": {},
   "outputs": [
    {
     "name": "stdout",
     "output_type": "stream",
     "text": [
      "\n",
      "    1.Push element\n",
      "    2.Pop element\n",
      "    3.Top/peak element\n",
      "    4.Display stack\n",
      "    5.Size of stack\n",
      "    6.Exit\n",
      "    \n"
     ]
    },
    {
     "name": "stdin",
     "output_type": "stream",
     "text": [
      "choose one operator you want to perform:  1\n",
      "enter element:  1\n"
     ]
    },
    {
     "name": "stdout",
     "output_type": "stream",
     "text": [
      "['1']\n",
      "\n",
      "    1.Push element\n",
      "    2.Pop element\n",
      "    3.Top/peak element\n",
      "    4.Display stack\n",
      "    5.Size of stack\n",
      "    6.Exit\n",
      "    \n"
     ]
    },
    {
     "name": "stdin",
     "output_type": "stream",
     "text": [
      "choose one operator you want to perform:  1\n",
      "enter element:  2\n"
     ]
    },
    {
     "name": "stdout",
     "output_type": "stream",
     "text": [
      "['1', '2']\n",
      "\n",
      "    1.Push element\n",
      "    2.Pop element\n",
      "    3.Top/peak element\n",
      "    4.Display stack\n",
      "    5.Size of stack\n",
      "    6.Exit\n",
      "    \n"
     ]
    },
    {
     "name": "stdin",
     "output_type": "stream",
     "text": [
      "choose one operator you want to perform:  1\n",
      "enter element:  3\n"
     ]
    },
    {
     "name": "stdout",
     "output_type": "stream",
     "text": [
      "['1', '2', '3']\n",
      "\n",
      "    1.Push element\n",
      "    2.Pop element\n",
      "    3.Top/peak element\n",
      "    4.Display stack\n",
      "    5.Size of stack\n",
      "    6.Exit\n",
      "    \n"
     ]
    },
    {
     "name": "stdin",
     "output_type": "stream",
     "text": [
      "choose one operator you want to perform:  1\n",
      "enter element:  4\n"
     ]
    },
    {
     "name": "stdout",
     "output_type": "stream",
     "text": [
      "['1', '2', '3', '4']\n",
      "\n",
      "    1.Push element\n",
      "    2.Pop element\n",
      "    3.Top/peak element\n",
      "    4.Display stack\n",
      "    5.Size of stack\n",
      "    6.Exit\n",
      "    \n"
     ]
    },
    {
     "name": "stdin",
     "output_type": "stream",
     "text": [
      "choose one operator you want to perform:  2\n"
     ]
    },
    {
     "name": "stdout",
     "output_type": "stream",
     "text": [
      "4\n",
      "['1', '2', '3']\n",
      "\n",
      "    1.Push element\n",
      "    2.Pop element\n",
      "    3.Top/peak element\n",
      "    4.Display stack\n",
      "    5.Size of stack\n",
      "    6.Exit\n",
      "    \n"
     ]
    },
    {
     "name": "stdin",
     "output_type": "stream",
     "text": [
      "choose one operator you want to perform:  3\n"
     ]
    },
    {
     "name": "stdout",
     "output_type": "stream",
     "text": [
      "Top/peak element:  3\n",
      "\n",
      "    1.Push element\n",
      "    2.Pop element\n",
      "    3.Top/peak element\n",
      "    4.Display stack\n",
      "    5.Size of stack\n",
      "    6.Exit\n",
      "    \n"
     ]
    },
    {
     "name": "stdin",
     "output_type": "stream",
     "text": [
      "choose one operator you want to perform:  54\n"
     ]
    },
    {
     "name": "stdout",
     "output_type": "stream",
     "text": [
      "Invalid\n",
      "\n",
      "    1.Push element\n",
      "    2.Pop element\n",
      "    3.Top/peak element\n",
      "    4.Display stack\n",
      "    5.Size of stack\n",
      "    6.Exit\n",
      "    \n"
     ]
    },
    {
     "name": "stdin",
     "output_type": "stream",
     "text": [
      "choose one operator you want to perform:  4\n"
     ]
    },
    {
     "name": "stdout",
     "output_type": "stream",
     "text": [
      "stack:  ['1', '2', '3']\n",
      "\n",
      "    1.Push element\n",
      "    2.Pop element\n",
      "    3.Top/peak element\n",
      "    4.Display stack\n",
      "    5.Size of stack\n",
      "    6.Exit\n",
      "    \n"
     ]
    },
    {
     "name": "stdin",
     "output_type": "stream",
     "text": [
      "choose one operator you want to perform:  5\n"
     ]
    },
    {
     "name": "stdout",
     "output_type": "stream",
     "text": [
      "size of stack:  3\n",
      "\n",
      "    1.Push element\n",
      "    2.Pop element\n",
      "    3.Top/peak element\n",
      "    4.Display stack\n",
      "    5.Size of stack\n",
      "    6.Exit\n",
      "    \n"
     ]
    },
    {
     "name": "stdin",
     "output_type": "stream",
     "text": [
      "choose one operator you want to perform:  6\n"
     ]
    }
   ],
   "source": [
    "li = []\n",
    "\n",
    "while True:\n",
    "    print('''\n",
    "    1.Push element\n",
    "    2.Pop element\n",
    "    3.Top/peak element\n",
    "    4.Display stack\n",
    "    5.Size of stack\n",
    "    6.Exit\n",
    "    ''')\n",
    "    a = int(input(\"choose one operator you want to perform: \"))\n",
    "\n",
    "    if a == 1:\n",
    "        i = input(\"enter element: \")\n",
    "        li.append(i)\n",
    "        print(li)\n",
    "    elif a == 2:\n",
    "        if len(li) == 0:\n",
    "            print(\"Empty stack\")\n",
    "        else:\n",
    "            j = li.pop()\n",
    "            print(j)\n",
    "            print(li)\n",
    "    elif a == 3:\n",
    "        if len(li) == 0:\n",
    "            print(\"Empty stack\")\n",
    "        else:\n",
    "            print(\"Top/peak element: \",li[-1])\n",
    "    elif a == 4:\n",
    "        if len(li) == 0:\n",
    "            print(\"Empty stack\")\n",
    "        else:\n",
    "            print(\"stack: \",li)\n",
    "    elif a == 5:\n",
    "        if len(li) == 0:\n",
    "            print(\"Empty stack\")\n",
    "        else:\n",
    "            print(\"size of stack: \",len(li))\n",
    "    elif a == 6:\n",
    "        break\n",
    "    else:\n",
    "        print(\"Invalid\")"
   ]
  },
  {
   "cell_type": "code",
   "execution_count": 10,
   "id": "6bc072fd-4691-479c-aa3e-0e96a28abcab",
   "metadata": {},
   "outputs": [
    {
     "data": {
      "text/plain": [
       "[1]"
      ]
     },
     "execution_count": 10,
     "metadata": {},
     "output_type": "execute_result"
    }
   ],
   "source": [
    "s = []\n",
    "s.append(1)\n",
    "s"
   ]
  },
  {
   "cell_type": "code",
   "execution_count": 12,
   "id": "7441a31a-0353-4846-b6da-3201a42d43ce",
   "metadata": {},
   "outputs": [
    {
     "data": {
      "text/plain": [
       "[1, 2]"
      ]
     },
     "execution_count": 12,
     "metadata": {},
     "output_type": "execute_result"
    }
   ],
   "source": [
    "s.append(2)\n",
    "s\n"
   ]
  },
  {
   "cell_type": "code",
   "execution_count": 14,
   "id": "98f5d519-a1f8-45fd-aa2b-49e6a8c8a24f",
   "metadata": {},
   "outputs": [
    {
     "data": {
      "text/plain": [
       "[1, 2, 3]"
      ]
     },
     "execution_count": 14,
     "metadata": {},
     "output_type": "execute_result"
    }
   ],
   "source": [
    "s.append(3)\n",
    "s"
   ]
  },
  {
   "cell_type": "code",
   "execution_count": 16,
   "id": "6c01fda7-9ae9-4368-b12b-02c7e9c39aa9",
   "metadata": {},
   "outputs": [
    {
     "data": {
      "text/plain": [
       "3"
      ]
     },
     "execution_count": 16,
     "metadata": {},
     "output_type": "execute_result"
    }
   ],
   "source": [
    "s.pop()"
   ]
  },
  {
   "cell_type": "code",
   "execution_count": 18,
   "id": "279f80ab-825a-46e0-b092-71a3549bbd1c",
   "metadata": {},
   "outputs": [
    {
     "data": {
      "text/plain": [
       "[1, 2]"
      ]
     },
     "execution_count": 18,
     "metadata": {},
     "output_type": "execute_result"
    }
   ],
   "source": [
    "s"
   ]
  },
  {
   "cell_type": "code",
   "execution_count": 23,
   "id": "52e2ff66-4b85-498b-836f-d06fe9e157c9",
   "metadata": {},
   "outputs": [],
   "source": [
    "from collections import deque\n",
    "s = deque()"
   ]
  },
  {
   "cell_type": "code",
   "execution_count": 25,
   "id": "6792a601-32bf-4bcd-971f-b73a3b1ba523",
   "metadata": {},
   "outputs": [
    {
     "data": {
      "text/plain": [
       "['__add__',\n",
       " '__class__',\n",
       " '__class_getitem__',\n",
       " '__contains__',\n",
       " '__copy__',\n",
       " '__delattr__',\n",
       " '__delitem__',\n",
       " '__dir__',\n",
       " '__doc__',\n",
       " '__eq__',\n",
       " '__format__',\n",
       " '__ge__',\n",
       " '__getattribute__',\n",
       " '__getitem__',\n",
       " '__getstate__',\n",
       " '__gt__',\n",
       " '__hash__',\n",
       " '__iadd__',\n",
       " '__imul__',\n",
       " '__init__',\n",
       " '__init_subclass__',\n",
       " '__iter__',\n",
       " '__le__',\n",
       " '__len__',\n",
       " '__lt__',\n",
       " '__module__',\n",
       " '__mul__',\n",
       " '__ne__',\n",
       " '__new__',\n",
       " '__reduce__',\n",
       " '__reduce_ex__',\n",
       " '__repr__',\n",
       " '__reversed__',\n",
       " '__rmul__',\n",
       " '__setattr__',\n",
       " '__setitem__',\n",
       " '__sizeof__',\n",
       " '__str__',\n",
       " '__subclasshook__',\n",
       " 'append',\n",
       " 'appendleft',\n",
       " 'clear',\n",
       " 'copy',\n",
       " 'count',\n",
       " 'extend',\n",
       " 'extendleft',\n",
       " 'index',\n",
       " 'insert',\n",
       " 'maxlen',\n",
       " 'pop',\n",
       " 'popleft',\n",
       " 'remove',\n",
       " 'reverse',\n",
       " 'rotate']"
      ]
     },
     "execution_count": 25,
     "metadata": {},
     "output_type": "execute_result"
    }
   ],
   "source": [
    "dir(s)"
   ]
  },
  {
   "cell_type": "code",
   "execution_count": 27,
   "id": "45017655-49d7-4c03-8eb7-fe9e9bbab22f",
   "metadata": {},
   "outputs": [],
   "source": [
    "s.append(1)"
   ]
  },
  {
   "cell_type": "code",
   "execution_count": 29,
   "id": "1f178ade-ec77-4243-84ee-1c72cc5962fc",
   "metadata": {},
   "outputs": [
    {
     "data": {
      "text/plain": [
       "deque([1, 2, 3, 4])"
      ]
     },
     "execution_count": 29,
     "metadata": {},
     "output_type": "execute_result"
    }
   ],
   "source": [
    "s.append(2)\n",
    "s.append(3)\n",
    "s.append(4)\n",
    "s"
   ]
  },
  {
   "cell_type": "code",
   "execution_count": 31,
   "id": "e6fc454d-c6fd-41a6-8068-5f9db80bf766",
   "metadata": {},
   "outputs": [
    {
     "data": {
      "text/plain": [
       "deque([1, 2, 3])"
      ]
     },
     "execution_count": 31,
     "metadata": {},
     "output_type": "execute_result"
    }
   ],
   "source": [
    "s.pop()\n",
    "s"
   ]
  },
  {
   "cell_type": "code",
   "execution_count": 33,
   "id": "c62e23d1-4772-4607-948c-a1c679e41488",
   "metadata": {},
   "outputs": [],
   "source": [
    "s.reverse()"
   ]
  },
  {
   "cell_type": "code",
   "execution_count": 35,
   "id": "6a2d7918-0e72-4a65-854d-425897536637",
   "metadata": {},
   "outputs": [
    {
     "data": {
      "text/plain": [
       "deque([3, 2, 1])"
      ]
     },
     "execution_count": 35,
     "metadata": {},
     "output_type": "execute_result"
    }
   ],
   "source": [
    "s"
   ]
  },
  {
   "cell_type": "code",
   "execution_count": 42,
   "id": "b30641dd-a0e7-45b9-9e1a-c487556d8e0d",
   "metadata": {},
   "outputs": [
    {
     "name": "stdout",
     "output_type": "stream",
     "text": [
      "0\n"
     ]
    }
   ],
   "source": [
    "from queue import LifoQueue\n",
    "s = LifoQueue(maxsize = 3)\n",
    "\n",
    "print(s.qsize())"
   ]
  },
  {
   "cell_type": "code",
   "execution_count": 44,
   "id": "7f1d434d-8a08-4b2a-b1eb-f7d1976ec1e4",
   "metadata": {},
   "outputs": [],
   "source": [
    "s.put(1)\n",
    "s.put(2)\n",
    "s.put(3)"
   ]
  },
  {
   "cell_type": "code",
   "execution_count": 51,
   "id": "10d569da-81f6-4147-8cd4-34a7fdb4e42d",
   "metadata": {},
   "outputs": [
    {
     "name": "stdout",
     "output_type": "stream",
     "text": [
      "True\n"
     ]
    }
   ],
   "source": [
    "print(s.full())"
   ]
  },
  {
   "cell_type": "code",
   "execution_count": 55,
   "id": "6f0eb6e6-1e7d-45c7-82a5-cfe64c1d0f5f",
   "metadata": {},
   "outputs": [
    {
     "name": "stdout",
     "output_type": "stream",
     "text": [
      "3\n"
     ]
    }
   ],
   "source": [
    "print(s.qsize())"
   ]
  },
  {
   "cell_type": "code",
   "execution_count": 57,
   "id": "d6bf9927-2812-407b-8e68-576abe6202b8",
   "metadata": {},
   "outputs": [
    {
     "name": "stdout",
     "output_type": "stream",
     "text": [
      "3\n"
     ]
    }
   ],
   "source": [
    "print(s.get())"
   ]
  },
  {
   "cell_type": "code",
   "execution_count": 59,
   "id": "b0513afe-7bd1-4fb6-a0d8-cafab30712de",
   "metadata": {},
   "outputs": [
    {
     "name": "stdout",
     "output_type": "stream",
     "text": [
      "2\n"
     ]
    }
   ],
   "source": [
    "print(s.get())"
   ]
  },
  {
   "cell_type": "code",
   "execution_count": 63,
   "id": "78e3c986-57ad-494a-983f-284aa5f6e99b",
   "metadata": {},
   "outputs": [
    {
     "name": "stdout",
     "output_type": "stream",
     "text": [
      "False\n"
     ]
    }
   ],
   "source": [
    "print(s.empty())"
   ]
  },
  {
   "cell_type": "code",
   "execution_count": 67,
   "id": "2e42536a-9a02-40af-b2f3-0858497a87f7",
   "metadata": {},
   "outputs": [
    {
     "name": "stdout",
     "output_type": "stream",
     "text": [
      "1\n"
     ]
    }
   ],
   "source": [
    "print(s.get())"
   ]
  },
  {
   "cell_type": "code",
   "execution_count": 69,
   "id": "5cc3969a-c4c0-4d4f-9762-d57304dace0a",
   "metadata": {},
   "outputs": [
    {
     "name": "stdout",
     "output_type": "stream",
     "text": [
      "True\n"
     ]
    }
   ],
   "source": [
    "print(s.empty())"
   ]
  },
  {
   "cell_type": "code",
   "execution_count": null,
   "id": "5a51ef25-53fb-4d81-b207-ffaf0cbd485b",
   "metadata": {},
   "outputs": [],
   "source": []
  }
 ],
 "metadata": {
  "kernelspec": {
   "display_name": "Python [conda env:base] *",
   "language": "python",
   "name": "conda-base-py"
  },
  "language_info": {
   "codemirror_mode": {
    "name": "ipython",
    "version": 3
   },
   "file_extension": ".py",
   "mimetype": "text/x-python",
   "name": "python",
   "nbconvert_exporter": "python",
   "pygments_lexer": "ipython3",
   "version": "3.12.7"
  }
 },
 "nbformat": 4,
 "nbformat_minor": 5
}
