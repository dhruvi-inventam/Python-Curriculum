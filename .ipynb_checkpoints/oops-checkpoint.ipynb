{
 "cells": [
  {
   "cell_type": "code",
   "execution_count": 1,
   "id": "1837b062-dab3-4277-8d6b-6add5be3845f",
   "metadata": {},
   "outputs": [
    {
     "name": "stdout",
     "output_type": "stream",
     "text": [
      "bark\n"
     ]
    }
   ],
   "source": [
    "class dog:\n",
    "    sound = \"bark\"\n",
    "\n",
    "dog1 = dog()\n",
    "\n",
    "print(dog1.sound)"
   ]
  },
  {
   "cell_type": "code",
   "execution_count": 33,
   "id": "ebfd0ab0-fd2b-4280-a494-57ea43e9cf30",
   "metadata": {},
   "outputs": [
    {
     "name": "stdout",
     "output_type": "stream",
     "text": [
      "kuki is 4 years old and he has 5 legs.\n"
     ]
    }
   ],
   "source": [
    "class dog:\n",
    "    legs = 4\n",
    "\n",
    "    def __init__(self,name,age):\n",
    "        self.name = name\n",
    "        self.age = age\n",
    "        \n",
    "    # def bark(self):\n",
    "    #     print(f\"{self.name} is barking!\")\n",
    "\n",
    "    def __str__(self):\n",
    "        return f\"{self.name} is {self.age} years old and he has {self.legs} legs.\"\n",
    "\n",
    "dog1 = dog(\"puppy\",4)\n",
    "dog2 = dog(\"doggy\",5)\n",
    "\n",
    "dog1.name = \"kuki\"\n",
    "\n",
    "dog1.legs = 5\n",
    "\n",
    "\n",
    "\n",
    "print(dog1)\n",
    "\n",
    "# print(dog1)\n",
    "# print(dog2)"
   ]
  },
  {
   "cell_type": "code",
   "execution_count": 37,
   "id": "53569f3a-398a-4a27-9a79-9a62e9afb7b4",
   "metadata": {},
   "outputs": [
    {
     "name": "stdout",
     "output_type": "stream",
     "text": [
      "5\n"
     ]
    }
   ],
   "source": [
    "class myclass:\n",
    "    x = 5\n",
    "\n",
    "p1 = myclass()\n",
    "print(p1.x)"
   ]
  },
  {
   "cell_type": "code",
   "execution_count": 45,
   "id": "42973e71-b9ec-438f-a871-4cda496b88ce",
   "metadata": {},
   "outputs": [
    {
     "name": "stdout",
     "output_type": "stream",
     "text": [
      "my name is dhruvi and im 21 years old\n"
     ]
    }
   ],
   "source": [
    "class person:\n",
    "    def __init__(self,name,age):\n",
    "        self.name = name\n",
    "        self.age = age\n",
    "\n",
    "    def __str__(self):\n",
    "        return f\"my name is {self.name} and im {self.age} years old\"\n",
    "\n",
    "p = person(\"dhruvi\",21)\n",
    "print(p)"
   ]
  },
  {
   "cell_type": "code",
   "execution_count": 49,
   "id": "c5e43f1a-6193-4c42-9594-287b1d1815db",
   "metadata": {},
   "outputs": [
    {
     "name": "stdout",
     "output_type": "stream",
     "text": [
      "my name is dhruvi\n"
     ]
    }
   ],
   "source": [
    "class person:\n",
    "    def __init__(self,name,age):\n",
    "        self.name = name\n",
    "        self.age = age\n",
    "\n",
    "    def myfunc(self):\n",
    "        print(\"my name is \" + self.name)\n",
    "\n",
    "p = person(\"dhruvi\",21)\n",
    "p.myfunc()"
   ]
  },
  {
   "cell_type": "code",
   "execution_count": 59,
   "id": "0171293a-0ef4-4557-b974-04b17e10bae4",
   "metadata": {},
   "outputs": [
    {
     "name": "stdout",
     "output_type": "stream",
     "text": [
      "Buddy barks!\n"
     ]
    }
   ],
   "source": [
    "class animal:\n",
    "    def __init__(self,name):\n",
    "        self.name = name\n",
    "\n",
    "    def speak(self):\n",
    "        pass\n",
    "\n",
    "class Dog(animal):\n",
    "    def speak(self):\n",
    "        return f\"{self.name} barks!\"\n",
    "\n",
    "deg = Dog(\"Doggy\")\n",
    "print(dog.speak())"
   ]
  },
  {
   "cell_type": "code",
   "execution_count": 1,
   "id": "c73b68e0-b40c-4dfe-8637-73ddfb400ba9",
   "metadata": {},
   "outputs": [
    {
     "name": "stdout",
     "output_type": "stream",
     "text": [
      "dhruvi emp class called\n"
     ]
    }
   ],
   "source": [
    "class person:\n",
    "    def __init__(self,name,id):\n",
    "        self.name = name\n",
    "        self.id = id\n",
    "\n",
    "    def display(self):\n",
    "        print(self.name,self.id)\n",
    "\n",
    "class emp(person):\n",
    "    def print(self):\n",
    "        print(f\"{self.name} emp class called\")\n",
    "\n",
    "emp_details = emp(\"dhruvi\",202)\n",
    "emp_details.print()\n",
    "\n",
    "# emp = person(\"Dhruvi\",201)\n",
    "# emp.display()"
   ]
  },
  {
   "cell_type": "code",
   "execution_count": 5,
   "id": "774f9572-ca55-486c-9133-fc2e086ed942",
   "metadata": {},
   "outputs": [],
   "source": [
    "class person:\n",
    "    def __init__(self,name,id):\n",
    "        self.name = name\n",
    "        self.id = id\n",
    "\n",
    "class emp(person):\n",
    "    def __init__(self,name,id,salary,post):\n",
    "        super().__init__(name,id)\n",
    "        self.salary = salary\n",
    "        self.post = post"
   ]
  },
  {
   "cell_type": "code",
   "execution_count": 15,
   "id": "8d77fbec-0bd3-4fb0-bc2c-780e67ce0ab4",
   "metadata": {},
   "outputs": [
    {
     "name": "stdout",
     "output_type": "stream",
     "text": [
      "Dhruvi 606\n",
      "Emp class called\n",
      "Ayush 201\n"
     ]
    }
   ],
   "source": [
    "class person:\n",
    "    def __init__(self,name,id):\n",
    "        self.name = name\n",
    "        self.id = id\n",
    "\n",
    "    def display(self):\n",
    "        print(self.name,self.id)\n",
    "\n",
    "class Emp(person):\n",
    "    def Print(self):\n",
    "        print(\"Emp class called\")\n",
    "\n",
    "emp_d = Emp(\"Dhruvi\",606)\n",
    "emp_d.display()\n",
    "emp_d.Print()\n",
    "\n",
    "emp = person(\"Dhruvi\",202)\n",
    "emp = person(\"Ayush\",201)\n",
    "\n",
    "emp.display()"
   ]
  },
  {
   "cell_type": "code",
   "execution_count": 61,
   "id": "45b1a052-d174-43fc-9ea8-ffcf99feb2a4",
   "metadata": {},
   "outputs": [
    {
     "name": "stdout",
     "output_type": "stream",
     "text": [
      "Dhruvi\n",
      "101\n",
      "Ayush\n",
      "102\n",
      "python\n",
      "Het\n",
      "103\n"
     ]
    }
   ],
   "source": [
    "class Person:\n",
    "    def __init__(self, name, idnumber):\n",
    "        self.name = name\n",
    "        self.idnumber = idnumber\n",
    "\n",
    "    def display(self):\n",
    "        print(self.name)\n",
    "        print(self.idnumber)\n",
    "\n",
    "# Child Class: Employee\n",
    "class Employee(Person):\n",
    "    # def __init__(self, name, idnumber, salary, post):\n",
    "    #     super().__init__(name, idnumber)  # Using super() to call Person's __init__()\n",
    "    #     self.salary = salary\n",
    "    #     self.post = post\n",
    "\n",
    "    def show(self):\n",
    "        print(\"python\")\n",
    "\n",
    "e1 = Person(\"Dhruvi\",101)\n",
    "e1.display()\n",
    "\n",
    "e2 = Employee(\"Ayush\",102)\n",
    "e2.display()\n",
    "e2.show()\n",
    "\n",
    "e1 = Person(\"Het\",103)\n",
    "e1.display()"
   ]
  },
  {
   "cell_type": "markdown",
   "id": "060df080-f6fc-4cf4-86eb-b3568c3ce7c9",
   "metadata": {},
   "source": [
    "# single inheritance"
   ]
  },
  {
   "cell_type": "code",
   "execution_count": 69,
   "id": "66ef376d-a651-4992-ab66-f40418e6087a",
   "metadata": {},
   "outputs": [
    {
     "name": "stdout",
     "output_type": "stream",
     "text": [
      "Dog makes loud sound\n",
      "cat makes light sound\n"
     ]
    }
   ],
   "source": [
    "class animal:\n",
    "    def __init__(self,name):\n",
    "        self.name = name\n",
    "\n",
    "    def sound(self):\n",
    "        print(f\"{self.name} makes loud sound\")\n",
    "\n",
    "class cat(animal):\n",
    "    def __init__(self,name):\n",
    "        self.name = name\n",
    "\n",
    "    def sound1(self):\n",
    "        print(f\"{self.name} makes light sound\")\n",
    "\n",
    "a = animal(\"Dog\")\n",
    "a.sound()\n",
    "\n",
    "c = cat(\"cat\")\n",
    "c.sound1()"
   ]
  },
  {
   "cell_type": "markdown",
   "id": "d7019dab-91a2-4cb0-ab37-8c424a9b179e",
   "metadata": {},
   "source": [
    "# multiple inheritance"
   ]
  },
  {
   "cell_type": "code",
   "execution_count": 77,
   "id": "8d3693c2-20f7-42f7-8ac0-bd21f825e84f",
   "metadata": {},
   "outputs": [
    {
     "name": "stdout",
     "output_type": "stream",
     "text": [
      "name of father is chetanbhai and his age is 40 and name of mother is geetaben and her age is 42 and their child name is dhruvi and her age is 21\n"
     ]
    }
   ],
   "source": [
    "class father:\n",
    "    def __init__(self,name,age):\n",
    "        self.name = name\n",
    "        self.age = age\n",
    "\n",
    "    def show(show):\n",
    "        print(f\"The name of the father is {self.name} and age is {self.age}.\")\n",
    "\n",
    "class mother:\n",
    "    def __init__(self,name,age):\n",
    "        self.name = name\n",
    "        self.age = age\n",
    "\n",
    "    def show(self):\n",
    "        print(f\"The name of the mother is {self.name} and age is {self.age}.\")\n",
    "\n",
    "class child(father,mother):\n",
    "    def __init__(self,name,age):\n",
    "        self.name = name\n",
    "        self.age = age\n",
    "\n",
    "f = father(\"chetanbhai\",40)\n",
    "m = mother(\"geetaben\",42)\n",
    "c = child(\"dhruvi\",21)\n",
    "print(f\"name of father is {f.name} and his age is {f.age} and name of mother is {m.name} and her age is {m.age} and their child name is {c.name} and her age is {c.age}\")"
   ]
  },
  {
   "cell_type": "markdown",
   "id": "a78ac203-bc38-4860-b4cf-e884c9a1793d",
   "metadata": {},
   "source": [
    "# multilevel inheritance"
   ]
  },
  {
   "cell_type": "code",
   "execution_count": 99,
   "id": "73c79324-d249-4ec7-bd02-dfb96bc2166a",
   "metadata": {},
   "outputs": [
    {
     "name": "stdout",
     "output_type": "stream",
     "text": [
      "father name is : Chetanbhai\n",
      "mother name is : Geetaben\n",
      "child name is : dhruvi\n",
      "father name is : Chetanbhai\n",
      "mother name is : Geetaben\n"
     ]
    }
   ],
   "source": [
    "class father:\n",
    "    def __init__(self,fname):\n",
    "        self.fname = fname\n",
    "\n",
    "    def show(self):\n",
    "        print(f\"father name is : {self.fname}\")\n",
    "\n",
    "class mother(father):\n",
    "    def __init__(self,mname):\n",
    "        father.__init__(self,fname = \"Chetanbhai\")\n",
    "        self.mname = mname\n",
    "\n",
    "    def show(self):\n",
    "        father.show(self)\n",
    "        print(f\"mother name is : {self.mname}\")\n",
    "\n",
    "\n",
    "class child(mother):\n",
    "    def __init__(self,cname):\n",
    "        mother.__init__(self,mname = \"Geetaben\")\n",
    "        self.cname = cname\n",
    "        \n",
    "    def show(self):\n",
    "        mother.show(self)\n",
    "        print(f\"child name is : {self.cname}\")\n",
    "        \n",
    "c = child(\"dhruvi\")\n",
    "c.show()\n",
    "m = mother(\"Geetaben\")\n",
    "m.show()\n"
   ]
  },
  {
   "cell_type": "markdown",
   "id": "2a7a4d48-4e78-40b8-8b2a-f80601cef7bc",
   "metadata": {},
   "source": [
    "# multilevel inhetitance"
   ]
  },
  {
   "cell_type": "code",
   "execution_count": 105,
   "id": "63f15d99-e6a0-40bb-ae9a-de035a30fcc5",
   "metadata": {},
   "outputs": [
    {
     "name": "stdout",
     "output_type": "stream",
     "text": [
      "fname is: Cetanbhai\n",
      "age is  : 21\n",
      "name is : dhruvi\n",
      "roll is : 211\n",
      "role is : Engineer\n"
     ]
    }
   ],
   "source": [
    "class base:\n",
    "    def __init__(self,name,roll,role):\n",
    "        self.name = name\n",
    "        self.roll = roll\n",
    "        self.role = role\n",
    "\n",
    "class inter(base):\n",
    "    def __init__(self,age,name,roll,role):\n",
    "        super().__init__(name,roll,role)\n",
    "        self.age = age\n",
    "\n",
    "class derived(inter):\n",
    "    def __init__(self,fname,age,name,roll,role):\n",
    "        super().__init__(age,name,roll,role)\n",
    "        self.fname = fname\n",
    "\n",
    "    def show(self):\n",
    "        print(f\"fname is: {self.fname}\")\n",
    "        print(f\"age is  : {self.age}\")\n",
    "        print(f\"name is : {self.name}\")\n",
    "        print(f\"roll is : {self.roll}\")\n",
    "        print(f\"role is : {self.role}\")\n",
    "\n",
    "d = derived(\"Cetanbhai\",21,\"dhruvi\",211,\"Engineer\")\n",
    "d.show()"
   ]
  },
  {
   "cell_type": "markdown",
   "id": "d35ee3cd-46e9-4eac-a9cd-8c879efc5b60",
   "metadata": {},
   "source": [
    "# Hierarchical Inheritance"
   ]
  },
  {
   "cell_type": "code",
   "execution_count": 125,
   "id": "8e305107-ca6b-4f58-954a-e41021cc6d67",
   "metadata": {},
   "outputs": [],
   "source": [
    "class animal:\n",
    "    def __init__(self,name):\n",
    "        self.name = name\n",
    "\n",
    "    def speak(self):\n",
    "        pass\n",
    "\n",
    "class dog(animal):\n",
    "    def speak(self):\n",
    "        print(f\"{self.name} speaks wohoo!\")\n",
    "\n",
    "class cat(animal):\n",
    "    def speak(self):\n",
    "        print(f\"{self.name} speaks meoww!\")\n",
    "\n",
    "d = animal(\"puppy\")\n",
    "d.speak()"
   ]
  },
  {
   "cell_type": "code",
   "execution_count": 135,
   "id": "ebe0a53f-a346-453e-a925-7df5b72e36e2",
   "metadata": {},
   "outputs": [
    {
     "name": "stdout",
     "output_type": "stream",
     "text": [
      "name: dhruvi\n",
      "None,salary: 20000\n"
     ]
    }
   ],
   "source": [
    "class ceo:\n",
    "    def __init__(self,name):\n",
    "        self.name = name\n",
    "\n",
    "    def show(self):\n",
    "        print(f\"name: {self.name}\")\n",
    "\n",
    "class emp1(ceo):\n",
    "    def __init__(self,name,salary):\n",
    "        super().__init__(name)\n",
    "        self.salary = salary\n",
    "\n",
    "    def show(self):\n",
    "        print(f\"{super().show()},salary: {self.salary}\")\n",
    "\n",
    "class emp2(ceo):\n",
    "    def __init__(self,name,leave):\n",
    "        super().__init__(name)\n",
    "        self.leave = leave\n",
    "\n",
    "    def show(self):\n",
    "        print(f\"{super().show()},leave: {self.leave}\")\n",
    "\n",
    "e2 = emp1(\"dhruvi\",20000)\n",
    "e2.show()"
   ]
  },
  {
   "cell_type": "markdown",
   "id": "a1080395-06c6-44e3-8a0f-e604ff1c464a",
   "metadata": {},
   "source": [
    "# hybride inheritance"
   ]
  },
  {
   "cell_type": "code",
   "execution_count": 141,
   "id": "4ca91205-5d1e-480c-88be-85377ab83fdb",
   "metadata": {},
   "outputs": [
    {
     "name": "stdout",
     "output_type": "stream",
     "text": [
      "animal speaks\n",
      "birds lay eggs\n",
      "mammal gives birth\n"
     ]
    }
   ],
   "source": [
    "class animal:\n",
    "    def speak(self):\n",
    "        print(\"animal speaks\")\n",
    "\n",
    "class birds(animal):\n",
    "    def give_birth(self):\n",
    "        print(\"birds lay eggs\")\n",
    "\n",
    "class mammal(animal):\n",
    "    def lay_eggs(self):\n",
    "        print(\"mammal gives birth\")\n",
    "\n",
    "class platypus(birds,mammal):\n",
    "    pass\n",
    "\n",
    "p = platypus()\n",
    "p.speak()\n",
    "p.give_birth()\n",
    "p.lay_eggs()"
   ]
  },
  {
   "cell_type": "markdown",
   "id": "34294e28-91ff-445d-834a-e9ec0dd06786",
   "metadata": {},
   "source": [
    "# polymorphism"
   ]
  },
  {
   "cell_type": "code",
   "execution_count": 2,
   "id": "575f617b-c99d-4e0a-870f-daf8e0ef5260",
   "metadata": {},
   "outputs": [
    {
     "name": "stdout",
     "output_type": "stream",
     "text": [
      "Area: 6\n",
      "Area: 78.5\n"
     ]
    }
   ],
   "source": [
    "class Shape:\n",
    "    def area(self):\n",
    "        return \"Undefined\"\n",
    "\n",
    "class Rectangle(Shape):\n",
    "    def __init__(self, length, width):\n",
    "        self.length = length\n",
    "        self.width = width\n",
    "\n",
    "    def area(self):\n",
    "        return self.length * self.width\n",
    "\n",
    "class Circle(Shape):\n",
    "    def __init__(self, radius):\n",
    "        self.radius = radius\n",
    "\n",
    "    def area(self):\n",
    "        return 3.14 * self.radius ** 2\n",
    "\n",
    "shapes = [Rectangle(2, 3), Circle(5)]\n",
    "for shape in shapes:\n",
    "    print(f\"Area: {shape.area()}\")\n"
   ]
  },
  {
   "cell_type": "markdown",
   "id": "4fef46c2-8546-4623-9ad8-ca7426cb20f1",
   "metadata": {},
   "source": [
    "### overloading"
   ]
  },
  {
   "cell_type": "code",
   "execution_count": 9,
   "id": "cafbea3d-8569-4416-92b2-f8e21b4498d2",
   "metadata": {},
   "outputs": [
    {
     "name": "stdout",
     "output_type": "stream",
     "text": [
      "Welcome, Dhruvi\n"
     ]
    }
   ],
   "source": [
    "class ws:\n",
    "    def show(self,name):\n",
    "        print(\"Welcome, \" + name)\n",
    "\n",
    "w = ws()\n",
    "w.show(\"Dhruvi\")"
   ]
  },
  {
   "cell_type": "markdown",
   "id": "d06a5cbe-fc68-4c0a-bde2-78be0b86b64a",
   "metadata": {},
   "source": [
    "### overriding"
   ]
  },
  {
   "cell_type": "code",
   "execution_count": 16,
   "id": "8aba7800-36f8-40d6-9fda-b954f3f106e0",
   "metadata": {},
   "outputs": [
    {
     "name": "stdout",
     "output_type": "stream",
     "text": [
      "Welcome Dhruvi\n",
      "Welcome Dobariya\n"
     ]
    }
   ],
   "source": [
    "class ws:\n",
    "    def show(self):\n",
    "        print(\"Welcome Dhruvi\")\n",
    "class we(ws):\n",
    "    def show(self):\n",
    "        super().show()\n",
    "        print(\"Welcome Dobariya\")\n",
    "\n",
    "w = we()\n",
    "w.show()"
   ]
  },
  {
   "cell_type": "markdown",
   "id": "fbf91eee-0ef0-4a33-af43-8a8c5974a92f",
   "metadata": {},
   "source": [
    "# Encapsulation"
   ]
  },
  {
   "cell_type": "markdown",
   "id": "3ff31b1a-8ffc-438c-bcfd-4b399c049360",
   "metadata": {},
   "source": [
    "### public "
   ]
  },
  {
   "cell_type": "code",
   "execution_count": 20,
   "id": "60cf79b6-92c6-460b-aa13-ced853a7809b",
   "metadata": {},
   "outputs": [
    {
     "name": "stdout",
     "output_type": "stream",
     "text": [
      "Dhruvi\n"
     ]
    }
   ],
   "source": [
    "class Public:\n",
    "    def __init__(self,name):\n",
    "        self.name = name\n",
    "\n",
    "    def show(self):\n",
    "        print(self.name)\n",
    "\n",
    "p = Public(\"Dhruvi\")\n",
    "p.show()"
   ]
  },
  {
   "cell_type": "markdown",
   "id": "1615117b-2bbb-470f-af13-8434909c5fdc",
   "metadata": {},
   "source": [
    "### protected"
   ]
  },
  {
   "cell_type": "markdown",
   "id": "9c35f89f-b593-4192-a08e-3ca5262c0418",
   "metadata": {},
   "source": [
    "##### only use in derived class"
   ]
  },
  {
   "cell_type": "code",
   "execution_count": 25,
   "id": "d404c621-1255-4ff8-adb1-589e25b16f6e",
   "metadata": {},
   "outputs": [
    {
     "name": "stdout",
     "output_type": "stream",
     "text": [
      "Dhruvi\n"
     ]
    }
   ],
   "source": [
    "class Protected:\n",
    "    def __init__(self,name):\n",
    "        self._name = name\n",
    "\n",
    "class derived(Protected):\n",
    "    def show(self):\n",
    "        print(self._name)\n",
    "\n",
    "d = derived(\"Dhruvi\")\n",
    "d.show()"
   ]
  },
  {
   "cell_type": "markdown",
   "id": "d5178a7f-169e-4664-85c4-17e203b64015",
   "metadata": {},
   "source": [
    "### private"
   ]
  },
  {
   "cell_type": "markdown",
   "id": "840d6a48-2031-400d-9610-7c5f84e33fd6",
   "metadata": {},
   "source": [
    "##### only use in that class, cannot use outside of the class"
   ]
  },
  {
   "cell_type": "code",
   "execution_count": 28,
   "id": "9ca69b1a-2128-4533-9c35-3b4ae8d8fd69",
   "metadata": {},
   "outputs": [
    {
     "name": "stdout",
     "output_type": "stream",
     "text": [
      "Dhruvi\n"
     ]
    }
   ],
   "source": [
    "class Private:\n",
    "    def __init__(self,name):\n",
    "        self.__name = name\n",
    "\n",
    "    def show(self):\n",
    "        print(self.__name)\n",
    "\n",
    "p = Private(\"Dhruvi\")\n",
    "p.show()"
   ]
  },
  {
   "cell_type": "code",
   "execution_count": null,
   "id": "a94a24fd-5e58-4a6b-ae3e-1376787c4bdf",
   "metadata": {},
   "outputs": [],
   "source": []
  }
 ],
 "metadata": {
  "kernelspec": {
   "display_name": "Python [conda env:base] *",
   "language": "python",
   "name": "conda-base-py"
  },
  "language_info": {
   "codemirror_mode": {
    "name": "ipython",
    "version": 3
   },
   "file_extension": ".py",
   "mimetype": "text/x-python",
   "name": "python",
   "nbconvert_exporter": "python",
   "pygments_lexer": "ipython3",
   "version": "3.12.7"
  }
 },
 "nbformat": 4,
 "nbformat_minor": 5
}
