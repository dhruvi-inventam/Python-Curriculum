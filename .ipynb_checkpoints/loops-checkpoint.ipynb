{
 "cells": [
  {
   "cell_type": "markdown",
   "id": "e8cf33ef-4c12-4e1f-98a7-fa61c4add39a",
   "metadata": {},
   "source": [
    "# 1) Condition statements"
   ]
  },
  {
   "cell_type": "markdown",
   "id": "cb8f9cd7-c3fe-4c96-b048-f62c670d769c",
   "metadata": {},
   "source": [
    "Q1. Write a program to accept percentage from the user and display the grade according to the following criteria:\n",
    "\n",
    "         Marks                                    Grade \n",
    "         > 90                                        A\n",
    "         > 80 and <= 90                              B\n",
    "         >= 60 and <= 80                             C\n",
    "         below 60                                    D                                  D"
   ]
  },
  {
   "cell_type": "code",
   "execution_count": 9,
   "id": "04c809cc-d37f-4aa1-b9bf-2180475f1653",
   "metadata": {},
   "outputs": [
    {
     "name": "stdin",
     "output_type": "stream",
     "text": [
      "Enter your marks:  56\n"
     ]
    },
    {
     "name": "stdout",
     "output_type": "stream",
     "text": [
      "D\n"
     ]
    }
   ],
   "source": [
    "percentage = int(input(\"Enter your marks: \"))\n",
    "\n",
    "if percentage > 90:\n",
    "    print(\"A\")\n",
    "elif percentage > 80 and percentage <= 90:\n",
    "    print(\"B\")\n",
    "elif percentage >= 60 and percentage <= 80:\n",
    "    print(\"C\")\n",
    "elif percentage < 60:\n",
    "    print(\"D\")\n",
    "else:\n",
    "    print(\"Fail\")"
   ]
  },
  {
   "cell_type": "markdown",
   "id": "b354d1e2-f72a-4ea5-ab94-36fd9ac34ab5",
   "metadata": {},
   "source": [
    "Q2. Write a program to accept the cost price of a bike and display the road tax to be paid according to the following criteria :\n",
    "    \n",
    "        Cost  price (in Rs)                                       Tax\n",
    "        > 100000                                                  15 %\n",
    "        > 50000 and <= 100000                                     10%\n",
    "        <= 50000                                                  5%"
   ]
  },
  {
   "cell_type": "code",
   "execution_count": 16,
   "id": "8b39c5d7-b209-443e-91f6-25060df4f961",
   "metadata": {},
   "outputs": [
    {
     "name": "stdin",
     "output_type": "stream",
     "text": [
      "Enter the price of bike:  30000\n"
     ]
    },
    {
     "name": "stdout",
     "output_type": "stream",
     "text": [
      "road tax to be paid according to the cost price of a bike is : 1500.0\n"
     ]
    }
   ],
   "source": [
    "price = int(input(\"Enter the price of bike: \"))\n",
    "\n",
    "if price > 100000:\n",
    "    tax = price * 0.15\n",
    "elif price > 50000 and price <= 100000:\n",
    "    tax = price * 0.10\n",
    "elif price <= 50000:\n",
    "    tax = price * 0.05\n",
    "else:\n",
    "    print(\"you dont have to pay the tax according to your bike low cost.\")\n",
    "print(f\"road tax to be paid according to the cost price of a bike is : {tax}\")"
   ]
  },
  {
   "cell_type": "markdown",
   "id": "4af0dba9-0502-48fb-91bf-0e053915f134",
   "metadata": {},
   "source": [
    "Q3. Write a program to check whether an years is leap year or not."
   ]
  },
  {
   "cell_type": "code",
   "execution_count": 21,
   "id": "051ff566-940b-4982-95a2-2266abd2ca81",
   "metadata": {},
   "outputs": [
    {
     "name": "stdin",
     "output_type": "stream",
     "text": [
      "Enter the year:  2003\n"
     ]
    },
    {
     "name": "stdout",
     "output_type": "stream",
     "text": [
      "This year is not leap year\n"
     ]
    }
   ],
   "source": [
    "year = int(input(\"Enter the year: \"))\n",
    "\n",
    "if year % 4 == 0:\n",
    "    print(\"This year is leap year\")\n",
    "else:\n",
    "    print(\"This year is not leap year\")"
   ]
  },
  {
   "cell_type": "markdown",
   "id": "0505020e-836a-466b-ab34-812777826939",
   "metadata": {},
   "source": [
    "Q4. Write a program to accept a number from 1 to 7 and display the name of the day like 1 for Sunday , 2 for Monday and so on."
   ]
  },
  {
   "cell_type": "code",
   "execution_count": 24,
   "id": "23d5a451-f560-4611-ba53-ab2b7f9936cb",
   "metadata": {},
   "outputs": [
    {
     "name": "stdin",
     "output_type": "stream",
     "text": [
      "Enter a number from 1 to 7:  5\n"
     ]
    },
    {
     "name": "stdout",
     "output_type": "stream",
     "text": [
      "Thursday\n"
     ]
    }
   ],
   "source": [
    "num = int(input(\"Enter a number from 1 to 7: \"))\n",
    "\n",
    "if num == 1:\n",
    "    print(\"Sunday\")\n",
    "elif num == 2:\n",
    "    print(\"Monday\")\n",
    "elif num == 3:\n",
    "    print(\"Tuesday\")\n",
    "elif num == 4:\n",
    "    print(\"Wednesday\")\n",
    "elif num == 5:\n",
    "    print(\"Thursday\")\n",
    "elif num == 6:\n",
    "    print(\"Friday\")\n",
    "elif num == 7:\n",
    "    print(\"Saturday\")\n",
    "else:\n",
    "    print(\"Enter the valid number\")"
   ]
  },
  {
   "cell_type": "markdown",
   "id": "29429e7c-c0d9-400d-b3d8-b9ac049e63ae",
   "metadata": {},
   "source": [
    "Q5. Write a program to accept a number from 1 to 12 and display name of the month and days in that month like 1 for January and number of days 31 and so on\n"
   ]
  },
  {
   "cell_type": "code",
   "execution_count": 29,
   "id": "ed1f3cac-c24a-42a6-aed4-41d53498ea3b",
   "metadata": {},
   "outputs": [
    {
     "name": "stdin",
     "output_type": "stream",
     "text": [
      "Enter a number from 1 to 12:  4\n"
     ]
    },
    {
     "name": "stdout",
     "output_type": "stream",
     "text": [
      "April-30 Days\n"
     ]
    }
   ],
   "source": [
    "num = int(input(\"Enter a number from 1 to 12: \"))\n",
    "\n",
    "if num == 1:\n",
    "    print(\"January-31 Days\")\n",
    "elif num == 2:\n",
    "    print(\"Fabruary-28 Days\")\n",
    "elif num == 3:\n",
    "    print(\"March-31 Days\")\n",
    "elif num == 4:\n",
    "    print(\"April-30 Days\")\n",
    "elif num == 5:\n",
    "    print(\"May-31 Days\")\n",
    "elif num == 6:\n",
    "    print(\"June-30 Days\")\n",
    "elif num == 7:\n",
    "    print(\"July-31 Days\")\n",
    "elif num == 8:\n",
    "    print(\"August-31 Days\")\n",
    "elif num == 9:\n",
    "    print(\"September-30 Days\")\n",
    "elif num == 10:\n",
    "    print(\"October-31 Days\")\n",
    "elif num == 11:\n",
    "    print(\"Nuvember-30 Days\")\n",
    "elif num == 12:\n",
    "    print(\"December-31 Days\")\n",
    "else:\n",
    "    print(\"Enter the valid number\")"
   ]
  },
  {
   "cell_type": "markdown",
   "id": "b1b25bec-3410-4cd7-9c5e-bfad47edd961",
   "metadata": {},
   "source": [
    "Q6. Accept any city from the user and display monument of that city.\n",
    "\n",
    "                  City                                 Monument\n",
    "                  \n",
    "                  Delhi                               Red Fort\n",
    "                  \n",
    "                  Agra                                Taj Mahal\n",
    "                  \n",
    "                  Jaipur                              Jal Mahal\n",
    "                  "
   ]
  },
  {
   "cell_type": "code",
   "execution_count": 39,
   "id": "4ae022c4-a3d4-47bc-b7bf-7f0ad6d9081b",
   "metadata": {},
   "outputs": [
    {
     "name": "stdin",
     "output_type": "stream",
     "text": [
      "Enter the city:  Delhi\n"
     ]
    },
    {
     "name": "stdout",
     "output_type": "stream",
     "text": [
      "The Monument of Delhi is Red Fort\n"
     ]
    }
   ],
   "source": [
    "city = input(\"Enter the city: \")\n",
    "\n",
    "if city == \"Delhi\":\n",
    "    print(\"The Monument of Delhi is Red Fort\")\n",
    "elif city == \"Agra\":\n",
    "    print(\"The Monument of Agra is Taj Mahal\")\n",
    "elif city == \"Jaipur\":\n",
    "    print(\"The Monument of Jaipur is Jal Mahal\")\n",
    "else:\n",
    "    print(\"This city name is not Acceptable.\")"
   ]
  },
  {
   "cell_type": "markdown",
   "id": "2017b277-42aa-451b-833c-16995f03f56b",
   "metadata": {},
   "source": [
    "7) A company decided to give bonus of 5% to employee if his/her year of service is more than 5 years.\n",
    "Ask user for their salary and year of service and print the net bonus amount.\n"
   ]
  },
  {
   "cell_type": "code",
   "execution_count": 56,
   "id": "607bc851-9be7-4381-a76c-ea9b4f2b6dcd",
   "metadata": {},
   "outputs": [
    {
     "name": "stdin",
     "output_type": "stream",
     "text": [
      "Enter your salary:  20000\n",
      "Enter your Year of service 6\n"
     ]
    },
    {
     "name": "stdout",
     "output_type": "stream",
     "text": [
      "Your bonus is : 1000.0\n"
     ]
    }
   ],
   "source": [
    "salary = int(input(\"Enter your salary: \"))\n",
    "Year_of_service = int(input(\"Enter your Year of service\"))\n",
    "\n",
    "if Year_of_service > 5:\n",
    "    bonus = salary * 0.05\n",
    "    print(f\"Your bonus is : {bonus}\")\n",
    "else:\n",
    "    print(\"You are not eligible for bonus.\")\n",
    "    \n"
   ]
  },
  {
   "cell_type": "markdown",
   "id": "4eef8c35-9fd2-42e6-b294-35e1fcad2a41",
   "metadata": {},
   "source": [
    "8) Take input of age of 3 people by user and determine oldest and youngest among them."
   ]
  },
  {
   "cell_type": "code",
   "execution_count": 61,
   "id": "33642b78-d939-4256-a529-e58d2e08e854",
   "metadata": {},
   "outputs": [
    {
     "name": "stdin",
     "output_type": "stream",
     "text": [
      "Enter your age:  23\n",
      "Enter your age:  12\n",
      "Enter your age:  45\n"
     ]
    },
    {
     "name": "stdout",
     "output_type": "stream",
     "text": [
      "The oldest of 3 people is 45\n",
      "The youngest of 3 people is 12\n"
     ]
    }
   ],
   "source": [
    "p1 = int(input(\"Enter your age: \"))\n",
    "p2 = int(input(\"Enter your age: \"))\n",
    "p3 = int(input(\"Enter your age: \"))\n",
    "\n",
    "oldest = max(p1,p2,p3)\n",
    "youngest = min(p1,p2,p3)\n",
    "\n",
    "print(f\"The oldest of 3 people is {oldest}\")\n",
    "print(f\"The youngest of 3 people is {youngest}\")"
   ]
  },
  {
   "cell_type": "markdown",
   "id": "95be7c28-2726-4e6f-b9f3-00ef13dbcdcb",
   "metadata": {},
   "source": [
    "9) Write a program to display the last digit of a number.\n"
   ]
  },
  {
   "cell_type": "code",
   "execution_count": 66,
   "id": "c72276a0-3090-4a3e-9e09-9ea3e7c982f5",
   "metadata": {},
   "outputs": [
    {
     "name": "stdin",
     "output_type": "stream",
     "text": [
      "Enter the number:  23\n"
     ]
    },
    {
     "name": "stdout",
     "output_type": "stream",
     "text": [
      "The last digit is 3\n"
     ]
    }
   ],
   "source": [
    "num = int(input(\"Enter the number: \"))\n",
    "\n",
    "last_digit = num % 10\n",
    "\n",
    "print(f\"The last digit is {last_digit}\")"
   ]
  },
  {
   "cell_type": "markdown",
   "id": "309fe43f-5f8f-43be-9573-2ec376d4082b",
   "metadata": {},
   "source": [
    "10) Write a program to check whether the last digit of a number( entered by user ) is divisible by 3 or not."
   ]
  },
  {
   "cell_type": "code",
   "execution_count": 75,
   "id": "5bf5905d-b59f-49d0-aa36-611c60d68920",
   "metadata": {},
   "outputs": [
    {
     "name": "stdin",
     "output_type": "stream",
     "text": [
      "Enter the number:  45\n"
     ]
    },
    {
     "name": "stdout",
     "output_type": "stream",
     "text": [
      "Digit is not divisible by 3\n"
     ]
    }
   ],
   "source": [
    "num = int(input(\"Enter the number: \"))\n",
    "\n",
    "last_digit = num % 10\n",
    "\n",
    "if last_digit % 3 == 0:\n",
    "    print(\"Digit is divisible by 3\")\n",
    "else:\n",
    "    print(\"Digit is not divisible by 3\")"
   ]
  },
  {
   "cell_type": "markdown",
   "id": "fe44290c-f40b-463e-a347-a5f0788be097",
   "metadata": {},
   "source": [
    "11) Check the enter number is odd or even ?"
   ]
  },
  {
   "cell_type": "code",
   "execution_count": 78,
   "id": "fc65d444-1e1b-4e1f-9d22-a533b6ae8a56",
   "metadata": {},
   "outputs": [
    {
     "name": "stdin",
     "output_type": "stream",
     "text": [
      "Enter the number:  4\n"
     ]
    },
    {
     "name": "stdout",
     "output_type": "stream",
     "text": [
      "The number is Even\n"
     ]
    }
   ],
   "source": [
    "num = int(input(\"Enter the number: \"))\n",
    "\n",
    "if num % 2 == 0:\n",
    "    print(\"The number is Even\")\n",
    "else:\n",
    "    print(\"The number is Odd\")"
   ]
  },
  {
   "cell_type": "markdown",
   "id": "fc3df21e-30cc-4953-a6dc-0e2f80610e36",
   "metadata": {},
   "source": [
    "12) Write a program to check whether a person is eligible for voting or not.(voting age >=18)"
   ]
  },
  {
   "cell_type": "code",
   "execution_count": 84,
   "id": "bb87554f-57fe-47af-b5a8-206375f4e03f",
   "metadata": {},
   "outputs": [
    {
     "name": "stdin",
     "output_type": "stream",
     "text": [
      "Enter your age:  12\n"
     ]
    },
    {
     "name": "stdout",
     "output_type": "stream",
     "text": [
      "You are not eligible for voting\n"
     ]
    }
   ],
   "source": [
    "age = int(input(\"Enter your age: \"))\n",
    "\n",
    "if age >= 18:\n",
    "    print(\"You are eligible for voting\")\n",
    "else:\n",
    "    print(\"You are not eligible for voting\")"
   ]
  },
  {
   "cell_type": "markdown",
   "id": "da284636-e43b-4396-97a8-57787a554142",
   "metadata": {},
   "source": [
    "13) Write a program to whether a number (accepted from user) is divisible by 2 and 3 both.\n"
   ]
  },
  {
   "cell_type": "code",
   "execution_count": 89,
   "id": "5b670ac3-a393-431f-87aa-5edc607b385e",
   "metadata": {},
   "outputs": [
    {
     "name": "stdin",
     "output_type": "stream",
     "text": [
      "Enter the number:  12\n"
     ]
    },
    {
     "name": "stdout",
     "output_type": "stream",
     "text": [
      "A number is divisible by 2 and 3 both\n"
     ]
    }
   ],
   "source": [
    "num = int(input(\"Enter the number: \"))\n",
    "\n",
    "if num % 2 == 0 and num % 3 == 0:\n",
    "    print(\"A number is divisible by 2 and 3 both\")\n",
    "else:\n",
    "    print(\"A number is not divisible by 2 and 3 both\")"
   ]
  },
  {
   "cell_type": "markdown",
   "id": "894004a0-e75d-4bea-94b8-b5e4dfe5c3d7",
   "metadata": {},
   "source": [
    "14) Write a program to find the largest number out of three numbers excepted from user"
   ]
  },
  {
   "cell_type": "code",
   "execution_count": 96,
   "id": "46b24ccf-2217-4173-a2da-925df1d57d2f",
   "metadata": {},
   "outputs": [
    {
     "name": "stdin",
     "output_type": "stream",
     "text": [
      "Enter the number:  34\n",
      "Enter the number:  12\n",
      "Enter the number:  76\n"
     ]
    },
    {
     "name": "stdout",
     "output_type": "stream",
     "text": [
      "The largest number is 76\n"
     ]
    }
   ],
   "source": [
    "num1 = int(input(\"Enter the number: \"))\n",
    "num2 = int(input(\"Enter the number: \"))\n",
    "num3 = int(input(\"Enter the number: \"))\n",
    "\n",
    "largest = max(num1,num2,num3)\n",
    "\n",
    "print(f\"The largest number is {largest}\")"
   ]
  },
  {
   "cell_type": "markdown",
   "id": "45007a19-333e-4900-a36f-7f28726ac4c4",
   "metadata": {},
   "source": [
    "15)  Accept the following from the user and calculate the percentage of class attended:\n",
    "16)  \n",
    "a.     Total number of working days\n",
    "\n",
    "b.     Total number of days for absent\n",
    "\n",
    "    After calculating percentage show that, If the percentage is less than 75, than student will not be able to sit in exam."
   ]
  },
  {
   "cell_type": "code",
   "execution_count": 105,
   "id": "19842488-ca6a-4015-96f1-228085671df8",
   "metadata": {},
   "outputs": [
    {
     "name": "stdin",
     "output_type": "stream",
     "text": [
      "Enter total number of working days:  100\n",
      "Enter total number of days for absent:  99\n"
     ]
    },
    {
     "name": "stdout",
     "output_type": "stream",
     "text": [
      "student will not be able to sit in exam.\n"
     ]
    }
   ],
   "source": [
    "total_work = int(input(\"Enter total number of working days: \"))\n",
    "total_abs = int(input(\"Enter total number of days for absent: \"))\n",
    "\n",
    "working_days = total_work - total_abs\n",
    "percentage = (working_days/total_work)* 100\n",
    "\n",
    "if percentage > 75:\n",
    "    print(\"student will able to sit in exam.\")\n",
    "else:\n",
    "    print(\"student will not be able to sit in exam.\")"
   ]
  },
  {
   "cell_type": "markdown",
   "id": "2fdf5d66-f7bb-4203-8ca9-f526ebb79934",
   "metadata": {},
   "source": [
    "16) Accept the percentage from the user and display the  grade according to the following criteria:\n",
    "\n",
    "Below 25 —- D\n",
    "\n",
    "25 to 45 —- C\n",
    "\n",
    "45 to 50 —- B\n",
    "\n",
    "50 to 60 –– B+\n",
    "\n",
    "60 to 80 — A\n",
    "\n",
    "Above 80 –- A+"
   ]
  },
  {
   "cell_type": "code",
   "execution_count": null,
   "id": "d06b45f7-2aea-4a62-8956-ac12b781e99e",
   "metadata": {},
   "outputs": [],
   "source": [
    "percentage  = int(input(\"Enter your marks: \"))\n",
    "\n",
    "if percentage < 25:\n",
    "    print(\"D\")\n",
    "elif percentage >= 25 and percentage < 45:\n",
    "    print(\"C\")\n",
    "elif percentage >= 45 and percentage < 50:\n",
    "    print(\"B\")\n",
    "elif percentage >= 50 and percentage < 60:\n",
    "    print(\"B+\")\n",
    "elif percentage >= 60 and percentage < 80:\n",
    "    print(\"A\")\n",
    "elif percentage >= 80:\n",
    "    print(\"A+\")\n",
    "else:\n",
    "    print(\"Enter valid marks\")"
   ]
  },
  {
   "cell_type": "markdown",
   "id": "ca97660f-0123-4411-9468-c7bfb34b2568",
   "metadata": {},
   "source": [
    "17) Accept three numbers from the user and display the second largest number."
   ]
  },
  {
   "cell_type": "code",
   "execution_count": 127,
   "id": "de241996-7e2a-42ab-bb6d-c9e5e6bfaba7",
   "metadata": {},
   "outputs": [
    {
     "name": "stdin",
     "output_type": "stream",
     "text": [
      "Enter the number:  12\n",
      "Enter the number:  23\n",
      "Enter the number:  4\n"
     ]
    },
    {
     "name": "stdout",
     "output_type": "stream",
     "text": [
      "the second largest number is 12\n"
     ]
    }
   ],
   "source": [
    "num1 = int(input(\"Enter the number: \"))\n",
    "num2 = int(input(\"Enter the number: \"))\n",
    "num3 = int(input(\"Enter the number: \"))\n",
    "\n",
    "l = [num1,num2,num3]\n",
    "l.sort()\n",
    "second_large = l[1]\n",
    "\n",
    "print(f\"the second largest number is {second_large}\")\n",
    "\n"
   ]
  },
  {
   "cell_type": "markdown",
   "id": "7f5c0b68-0016-46c0-aa42-e6d73f186b29",
   "metadata": {},
   "source": [
    "18) Accept three sides of triangle and check whether the triangle is possible or not.\n",
    "(triangle is possible only when sum of any two sides is greater than 3rd side)"
   ]
  },
  {
   "cell_type": "code",
   "execution_count": 152,
   "id": "cfbf13d7-1138-47a3-89ba-37cfff44bd76",
   "metadata": {},
   "outputs": [
    {
     "name": "stdin",
     "output_type": "stream",
     "text": [
      "Enter the side1:  2\n",
      "Enter the side2:  3\n",
      "Enter the side3:  4\n"
     ]
    },
    {
     "name": "stdout",
     "output_type": "stream",
     "text": [
      "triangle is possible\n"
     ]
    }
   ],
   "source": [
    "side1 = int(input(\"Enter the side1: \"))\n",
    "side2 = int(input(\"Enter the side2: \"))\n",
    "side3 = int(input(\"Enter the side3: \"))\n",
    "\n",
    "if side1 + side2 > side3 or side2 + side3 > side1 or side3 + side1 > side2:\n",
    "    print(\"triangle is possible\")\n",
    "else:\n",
    "    print(\"triangle is not possible\")"
   ]
  },
  {
   "cell_type": "markdown",
   "id": "88257075-0418-433b-af75-a025c4e4d882",
   "metadata": {},
   "source": [
    "19) Accept the marks of English, Math and Science, Social Studies Subject and display the stream allotted according to following\n",
    "    \n",
    "    All Subjects more than 80 marks —       Science Stream\n",
    "   \n",
    "    English >80 and Math, Science above 50 –Commerce Stream\n",
    "   \n",
    "    English > 80 and Social studies > 80    —   Humanities"
   ]
  },
  {
   "cell_type": "code",
   "execution_count": 160,
   "id": "d944c70f-c80e-421a-9ee1-24de6c5b3edb",
   "metadata": {},
   "outputs": [
    {
     "name": "stdin",
     "output_type": "stream",
     "text": [
      "Enter the marks:  90\n",
      "Enter the marks:  45\n",
      "Enter the marks:  98\n",
      "Enter the marks:  96\n"
     ]
    },
    {
     "name": "stdout",
     "output_type": "stream",
     "text": [
      "Humanities\n"
     ]
    }
   ],
   "source": [
    "English = int(input(\"Enter the marks: \"))\n",
    "Math = int(input(\"Enter the marks: \"))\n",
    "Science = int(input(\"Enter the marks: \"))\n",
    "Social_Studies = int(input(\"Enter the marks: \"))\n",
    "\n",
    "if English > 80 and Math > 80 and Science > 80:\n",
    "    print(\"Science Stream\")\n",
    "elif English > 80 and Math > 50 and Science > 50:\n",
    "    print(\"Commerce Stream\")\n",
    "elif English > 80 and Social_Studies > 80:\n",
    "    print(\"Humanities\")\n",
    "else:\n",
    "    print(\"You are not eligible for any stream.\")"
   ]
  },
  {
   "cell_type": "markdown",
   "id": "693d83b8-7571-43dd-a3e8-edb8b8133b7c",
   "metadata": {},
   "source": [
    "20) Whether the triangle will be an obtuse-angle, or a right-angle or an acute-angle triangle."
   ]
  },
  {
   "cell_type": "code",
   "execution_count": 200,
   "id": "f1fa9a8a-bbbd-487c-88c6-1bb19eead126",
   "metadata": {},
   "outputs": [
    {
     "name": "stdin",
     "output_type": "stream",
     "text": [
      "Enter the side1:  34\n",
      "Enter the side2:  34\n",
      "Enter the side3:  34\n"
     ]
    },
    {
     "name": "stdout",
     "output_type": "stream",
     "text": [
      "Actute Angle\n"
     ]
    }
   ],
   "source": [
    "side1 = int(input(\"Enter the side1: \"))\n",
    "side2 = int(input(\"Enter the side2: \"))\n",
    "side3 = int(input(\"Enter the side3: \"))\n",
    "\n",
    "\n",
    "\n",
    "if  side1 < 90 and side2 < 90 and side3 < 90:\n",
    "    print(\"Actute Angle\")\n",
    "elif (side1 > 90 and side2 < 90 and side3 < 90) or (side1 < 90 and side2 > 90 and side3 < 90) or (side1 < 90 and side2 < 90 and side3 > 90):\n",
    "    print(\"Obtuse Angle\")\n",
    "elif (side1 == 90 and side2 < 90 and side3 < 90) or (side1 < 90 and side2 == 90 and side3 < 90) or (side1 < 90 and side2 < 90 and side3 == 90):\n",
    "    print(\"Right Angle\")\n",
    "else:\n",
    "    print(\"Enter valid angles\")"
   ]
  },
  {
   "cell_type": "markdown",
   "id": "f7ec4554-270c-4eda-bce2-d496c6717bbf",
   "metadata": {},
   "source": [
    "21) In this program, we input a number check if the number is positive or negative or zero and display an appropriate message.\n"
   ]
  },
  {
   "cell_type": "code",
   "execution_count": 176,
   "id": "224c1aef-4e19-40d6-9008-220b228022ae",
   "metadata": {},
   "outputs": [
    {
     "name": "stdin",
     "output_type": "stream",
     "text": [
      "Enter the number:  0\n"
     ]
    },
    {
     "name": "stdout",
     "output_type": "stream",
     "text": [
      "Number is 0\n"
     ]
    }
   ],
   "source": [
    "num = int(input(\"Enter the number: \"))\n",
    "\n",
    "if num > 0:\n",
    "    print(\"Number is positive\")\n",
    "elif num < 0:\n",
    "    print(\"Number is negative\")\n",
    "else:\n",
    "    print(\"Number is 0\")"
   ]
  },
  {
   "cell_type": "markdown",
   "id": "41d86049-902e-4e4f-86df-6b5526131adc",
   "metadata": {},
   "source": [
    "# Basic Loop Programs"
   ]
  },
  {
   "cell_type": "markdown",
   "id": "b8771c9d-90e5-47a9-95e0-2d9776c38f97",
   "metadata": {},
   "source": [
    "1. Write a Python program to print all natural numbers from 1 to n. - using while loop"
   ]
  },
  {
   "cell_type": "code",
   "execution_count": 5,
   "id": "773512b9-64d0-4b57-a67c-1175b3ff4ad8",
   "metadata": {},
   "outputs": [
    {
     "name": "stdin",
     "output_type": "stream",
     "text": [
      "Enter number 10\n"
     ]
    },
    {
     "name": "stdout",
     "output_type": "stream",
     "text": [
      "1\n",
      "2\n",
      "3\n",
      "4\n",
      "5\n",
      "6\n",
      "7\n",
      "8\n",
      "9\n",
      "10\n"
     ]
    }
   ],
   "source": [
    "n = int(input(\"Enter number\"))\n",
    "i = 1\n",
    "\n",
    "while i <= n:\n",
    "    print(i)\n",
    "    i += 1"
   ]
  },
  {
   "cell_type": "markdown",
   "id": "bea6fdc4-5c15-4fd2-9e5a-d205213b2ddc",
   "metadata": {},
   "source": [
    "2. Write a Python program to print all natural numbers in reverse (from n to 1). - using while loop"
   ]
  },
  {
   "cell_type": "code",
   "execution_count": 1,
   "id": "b29023f9-c20b-4f42-b34f-92eb03545369",
   "metadata": {},
   "outputs": [
    {
     "name": "stdin",
     "output_type": "stream",
     "text": [
      "Enter number 10\n"
     ]
    },
    {
     "name": "stdout",
     "output_type": "stream",
     "text": [
      "10\n",
      "9\n",
      "8\n",
      "7\n",
      "6\n",
      "5\n",
      "4\n",
      "3\n",
      "2\n",
      "1\n"
     ]
    }
   ],
   "source": [
    "n = int(input(\"Enter number\"))\n",
    "i = n\n",
    "\n",
    "while i >= 1:\n",
    "    print(i)\n",
    "    i -= 1"
   ]
  },
  {
   "cell_type": "markdown",
   "id": "e9e05fd8-0d5a-45fd-a859-0b0d6c8bf1d3",
   "metadata": {},
   "source": [
    "3. Write a Python program to print all alphabets from a to z. - using while "
   ]
  },
  {
   "cell_type": "code",
   "execution_count": 10,
   "id": "326e5768-15b5-446b-9b01-789bdbc998e6",
   "metadata": {},
   "outputs": [
    {
     "name": "stdout",
     "output_type": "stream",
     "text": [
      "A B C D E F G H I J K L M N O P Q R S T U V W X Y "
     ]
    }
   ],
   "source": [
    "i = \"A\"\n",
    "\n",
    "while True:\n",
    "    print(i,end=\" \")\n",
    "    i = chr(ord(i)+1)\n",
    "    if i >= \"Z\":\n",
    "        break"
   ]
  },
  {
   "cell_type": "markdown",
   "id": "a7b85b04-4e03-4997-a673-fdd3816e79e5",
   "metadata": {},
   "source": [
    "4. Write a Python program to print all odd number between 1 to 100."
   ]
  },
  {
   "cell_type": "code",
   "execution_count": 17,
   "id": "a053cc18-343f-4b68-9a0f-0ce3317b4a4a",
   "metadata": {},
   "outputs": [
    {
     "name": "stdout",
     "output_type": "stream",
     "text": [
      "1\n",
      "3\n",
      "5\n",
      "7\n",
      "9\n",
      "11\n",
      "13\n",
      "15\n",
      "17\n",
      "19\n",
      "21\n",
      "23\n",
      "25\n",
      "27\n",
      "29\n",
      "31\n",
      "33\n",
      "35\n",
      "37\n",
      "39\n",
      "41\n",
      "43\n",
      "45\n",
      "47\n",
      "49\n",
      "51\n",
      "53\n",
      "55\n",
      "57\n",
      "59\n",
      "61\n",
      "63\n",
      "65\n",
      "67\n",
      "69\n",
      "71\n",
      "73\n",
      "75\n",
      "77\n",
      "79\n",
      "81\n",
      "83\n",
      "85\n",
      "87\n",
      "89\n",
      "91\n",
      "93\n",
      "95\n",
      "97\n",
      "99\n"
     ]
    }
   ],
   "source": [
    "for i in range(1,101):\n",
    "    if i % 2 != 0:\n",
    "        print(i)\n",
    "    "
   ]
  },
  {
   "cell_type": "markdown",
   "id": "5ef752a4-85b5-4527-968b-36f775589f12",
   "metadata": {},
   "source": [
    "5. Write a Python program to find sum of all natural numbers between 1 to n."
   ]
  },
  {
   "cell_type": "code",
   "execution_count": 38,
   "id": "ae174987-52ce-4b08-8ccb-c3c8cc6919d0",
   "metadata": {},
   "outputs": [
    {
     "name": "stdin",
     "output_type": "stream",
     "text": [
      "Enter the number:  5\n"
     ]
    },
    {
     "name": "stdout",
     "output_type": "stream",
     "text": [
      "The sum of the numbers is : 1\n",
      "The sum of the numbers is : 3\n",
      "The sum of the numbers is : 6\n",
      "The sum of the numbers is : 10\n",
      "The sum of the numbers is : 15\n"
     ]
    }
   ],
   "source": [
    "n = int(input(\"Enter the number: \"))\n",
    "i = 1\n",
    "sum = 0\n",
    "\n",
    "for i in range(1,n+1):\n",
    "    sum = sum + i\n",
    "    i += 1\n",
    "    print(f\"The sum of the numbers is : {sum}\")"
   ]
  },
  {
   "cell_type": "markdown",
   "id": "09bf7ad3-e0aa-47a9-a346-28b68e3417da",
   "metadata": {},
   "source": [
    "6. Write a Python program to find sum of all even numbers between 1 to n."
   ]
  },
  {
   "cell_type": "code",
   "execution_count": 59,
   "id": "05417d48-ca70-451c-906b-9a93192dcb36",
   "metadata": {},
   "outputs": [
    {
     "name": "stdin",
     "output_type": "stream",
     "text": [
      "Enter the number:  7\n"
     ]
    },
    {
     "name": "stdout",
     "output_type": "stream",
     "text": [
      "The sum of the numbers is : 12\n"
     ]
    }
   ],
   "source": [
    "n = int(input(\"Enter the number: \"))\n",
    "i = 1\n",
    "sum = 0\n",
    "for i in range(1,n+1):\n",
    "    if i % 2 == 0:\n",
    "        sum = sum + i\n",
    "        i += 1\n",
    "print(f\"The sum of the numbers is : {sum}\")"
   ]
  },
  {
   "cell_type": "markdown",
   "id": "e3371fb6-f7b8-4abb-944d-a5a7300ca609",
   "metadata": {},
   "source": [
    "7. Write a Python program to find sum of all odd numbers between 1 to n."
   ]
  },
  {
   "cell_type": "code",
   "execution_count": 62,
   "id": "9cda976a-1a5c-471e-b38b-6f91dcb76643",
   "metadata": {},
   "outputs": [
    {
     "name": "stdin",
     "output_type": "stream",
     "text": [
      "Enter the number:  6\n"
     ]
    },
    {
     "name": "stdout",
     "output_type": "stream",
     "text": [
      "The sum of the numbers is : 9\n"
     ]
    }
   ],
   "source": [
    "n = int(input(\"Enter the number: \"))\n",
    "i = 1\n",
    "sum = 0\n",
    "for i in range(1,n+1):\n",
    "    if i % 2 != 0:\n",
    "        sum = sum + i\n",
    "        i += 1\n",
    "print(f\"The sum of the numbers is : {sum}\")"
   ]
  },
  {
   "cell_type": "markdown",
   "id": "2adcf812-1926-4762-829a-1eb2ddfc4cda",
   "metadata": {},
   "source": [
    "8. Write a Python program to print multiplication table of any number."
   ]
  },
  {
   "cell_type": "code",
   "execution_count": 64,
   "id": "b6647255-185e-4758-ac05-951b2e4357e1",
   "metadata": {},
   "outputs": [
    {
     "name": "stdin",
     "output_type": "stream",
     "text": [
      "Enter the number:  3\n"
     ]
    },
    {
     "name": "stdout",
     "output_type": "stream",
     "text": [
      "3 * 1 = 3\n",
      "3 * 1 = 6\n",
      "3 * 1 = 9\n",
      "3 * 1 = 12\n",
      "3 * 1 = 15\n",
      "3 * 1 = 18\n",
      "3 * 1 = 21\n",
      "3 * 1 = 24\n",
      "3 * 1 = 27\n",
      "3 * 1 = 30\n"
     ]
    }
   ],
   "source": [
    "n = int(input(\"Enter the number: \"))\n",
    "for i in range(1,11):\n",
    "    print(f\"{n} * {1} = {n*i}\")"
   ]
  },
  {
   "cell_type": "markdown",
   "id": "80053e9a-a4c4-475f-ac76-5e10e6025908",
   "metadata": {},
   "source": [
    "9. Write a Python program to count number of digits in a number."
   ]
  },
  {
   "cell_type": "code",
   "execution_count": 78,
   "id": "bbe6b9d2-d3d0-459a-8289-d24e2b9846bd",
   "metadata": {},
   "outputs": [
    {
     "name": "stdin",
     "output_type": "stream",
     "text": [
      "Enter the number:  12345678\n"
     ]
    },
    {
     "name": "stdout",
     "output_type": "stream",
     "text": [
      "8\n"
     ]
    }
   ],
   "source": [
    "n = input(\"Enter the number: \")\n",
    "print(len(n))"
   ]
  },
  {
   "cell_type": "markdown",
   "id": "00dd609d-6035-42f1-a199-ef144d4a265c",
   "metadata": {},
   "source": [
    "10. Write a Python program to find first and last digit of a number."
   ]
  },
  {
   "cell_type": "code",
   "execution_count": 9,
   "id": "f8713f48-5339-44de-9f80-2017523c83d0",
   "metadata": {},
   "outputs": [
    {
     "name": "stdin",
     "output_type": "stream",
     "text": [
      "Enter the number:  12345\n"
     ]
    },
    {
     "name": "stdout",
     "output_type": "stream",
     "text": [
      "First number is: 1\n",
      "Last number is: 5\n"
     ]
    }
   ],
   "source": [
    "n = int(input(\"Enter the number: \"))\n",
    "\n",
    "f_n = n\n",
    "l_n = n % 10\n",
    "\n",
    "for i in range(n):\n",
    "   if f_n > 9:\n",
    "    f_n = f_n // 10\n",
    "    \n",
    "    \n",
    "print(f\"First number is: {f_n}\")\n",
    "print(f\"Last number is: {l_n}\")"
   ]
  },
  {
   "cell_type": "markdown",
   "id": "570d05c2-0d25-4a46-b83b-f1da9b283280",
   "metadata": {},
   "source": [
    "with while loop"
   ]
  },
  {
   "cell_type": "code",
   "execution_count": 11,
   "id": "6dd62fb8-75c5-40ce-9937-ad1e7683e96a",
   "metadata": {},
   "outputs": [
    {
     "name": "stdin",
     "output_type": "stream",
     "text": [
      "Enter the number:  123456\n"
     ]
    },
    {
     "name": "stdout",
     "output_type": "stream",
     "text": [
      "First number is: 1\n",
      "Last number is: 6\n"
     ]
    }
   ],
   "source": [
    "n = int(input(\"Enter the number: \"))\n",
    "\n",
    "f_n = n\n",
    "l_n = n % 10\n",
    "\n",
    "while f_n > 9:\n",
    "    f_n = f_n // 10\n",
    "\n",
    "print(f\"First number is: {f_n}\")\n",
    "print(f\"Last number is: {l_n}\")"
   ]
  },
  {
   "cell_type": "markdown",
   "id": "45558eec-c459-4c2f-8385-58adf349351b",
   "metadata": {},
   "source": [
    "11. Write a Python program to find sum of first and last digit of a number."
   ]
  },
  {
   "cell_type": "code",
   "execution_count": 17,
   "id": "fa4f87bb-284b-4019-a84c-978ffd18dd42",
   "metadata": {},
   "outputs": [
    {
     "name": "stdin",
     "output_type": "stream",
     "text": [
      "Enter the number:  65432\n"
     ]
    },
    {
     "name": "stdout",
     "output_type": "stream",
     "text": [
      "sum of first and last letter is: 8\n"
     ]
    }
   ],
   "source": [
    "n = int(input(\"Enter the number: \"))\n",
    "\n",
    "f_n = n\n",
    "l_n = n % 10\n",
    "sum = 0\n",
    "\n",
    "while f_n > 9:\n",
    "    f_n = f_n // 10\n",
    "sum = f_n + l_n\n",
    "\n",
    "print(f\"sum of first and last letter is: {sum}\")"
   ]
  },
  {
   "cell_type": "markdown",
   "id": "bddb5605-c30d-4c05-9415-74e546761a73",
   "metadata": {},
   "source": [
    "12. Write a Python program to swap first and last digits of a number."
   ]
  },
  {
   "cell_type": "code",
   "execution_count": 26,
   "id": "f9e0ea24-2433-4528-9fc3-86e8d50243e4",
   "metadata": {},
   "outputs": [
    {
     "name": "stdout",
     "output_type": "stream",
     "text": [
      "List after swapping first and last elements: [5, 2, 3, 4, 1]\n"
     ]
    }
   ],
   "source": [
    "my_list = [1, 2, 3, 4, 5]\n",
    "\n",
    "# Interchange first and last elements\n",
    "my_list[0], my_list[-1] = my_list[-1], my_list[0]\n",
    "\n",
    "# Print the modified list\n",
    "print(\"List after swapping first and last elements:\", my_list)"
   ]
  },
  {
   "cell_type": "code",
   "execution_count": 36,
   "id": "cfd7a99b-9bce-4392-b4b0-7524c878e062",
   "metadata": {},
   "outputs": [
    {
     "name": "stdin",
     "output_type": "stream",
     "text": [
      "enter any num :  54331276\n"
     ]
    },
    {
     "name": "stdout",
     "output_type": "stream",
     "text": [
      "64331275\n"
     ]
    }
   ],
   "source": [
    "x = input('enter any num : ')  \n",
    "print(x[-1] + x[1:-1] +x[0])"
   ]
  },
  {
   "cell_type": "markdown",
   "id": "9c507492-9dba-4c0c-8f65-02068a5736b0",
   "metadata": {},
   "source": [
    "13. Write a Python program to calculate sum of digits of a number."
   ]
  },
  {
   "cell_type": "code",
   "execution_count": 66,
   "id": "d99c5272-f33a-492a-a9be-6188cdceb169",
   "metadata": {},
   "outputs": [
    {
     "name": "stdin",
     "output_type": "stream",
     "text": [
      "Enter the number:  123\n"
     ]
    },
    {
     "name": "stdout",
     "output_type": "stream",
     "text": [
      "sum of digits of a number is: 6\n"
     ]
    }
   ],
   "source": [
    "n = input(\"Enter the number: \")\n",
    "sum = 0\n",
    "\n",
    "for i in n:\n",
    "    sum = sum + int(i)\n",
    "print(f\"sum of digits of a number is: {sum}\")"
   ]
  },
  {
   "cell_type": "markdown",
   "id": "4678cf1c-e4b8-4280-9c8c-321ce77da9ac",
   "metadata": {},
   "source": [
    "14. Write a Python program to calculate product of digits of a number."
   ]
  },
  {
   "cell_type": "code",
   "execution_count": 73,
   "id": "c5caff4f-6068-4ae6-8817-8684b5a06f46",
   "metadata": {},
   "outputs": [
    {
     "name": "stdin",
     "output_type": "stream",
     "text": [
      "Enter the number:  1234\n"
     ]
    },
    {
     "name": "stdout",
     "output_type": "stream",
     "text": [
      "sum of digits of a number is: 24\n"
     ]
    }
   ],
   "source": [
    "n = input(\"Enter the number: \")\n",
    "product = 1\n",
    "\n",
    "for i in n:\n",
    "    product = product * int(i)\n",
    "print(f\"sum of digits of a number is: {product}\")"
   ]
  },
  {
   "cell_type": "markdown",
   "id": "c559b03d-b2cc-4016-821f-f74a28f9a5aa",
   "metadata": {},
   "source": [
    "15. Write a Python program to enter a number and print its reverse."
   ]
  },
  {
   "cell_type": "code",
   "execution_count": 88,
   "id": "093be44c-bed3-494b-a663-98370e48f1b0",
   "metadata": {},
   "outputs": [
    {
     "name": "stdin",
     "output_type": "stream",
     "text": [
      "Enter the number:  1234\n"
     ]
    },
    {
     "name": "stdout",
     "output_type": "stream",
     "text": [
      "reversed number is: 4321\n"
     ]
    }
   ],
   "source": [
    "n = int(input(\"Enter the number: \"))\n",
    "\n",
    "reverse = 0\n",
    "\n",
    "while n > 0:\n",
    "    reminder = n % 10\n",
    "    reverse = (reverse*10) + reminder\n",
    "    n = n // 10\n",
    "\n",
    "print(f\"reversed number is: {reverse}\")\n"
   ]
  },
  {
   "cell_type": "markdown",
   "id": "9f73a417-5fe4-4032-b9b0-d257d391e032",
   "metadata": {},
   "source": [
    "16. Write a Python program to check whether a number is palindrome or not."
   ]
  },
  {
   "cell_type": "code",
   "execution_count": 101,
   "id": "fbc9a596-ae60-4a4d-90a9-d5da71de3447",
   "metadata": {},
   "outputs": [
    {
     "name": "stdin",
     "output_type": "stream",
     "text": [
      "Enter a number 343\n"
     ]
    },
    {
     "name": "stdout",
     "output_type": "stream",
     "text": [
      "Yes, its a palindrome\n"
     ]
    }
   ],
   "source": [
    "num = input(\"Enter a number\")\n",
    "if num == num[::-1]:\n",
    "\tprint(\"Yes, its a palindrome\")\n",
    "else:\n",
    "\tprint(\"No, its not a palindrome\")"
   ]
  },
  {
   "cell_type": "markdown",
   "id": "56cc3cd9-e389-4b8b-9098-ece9c405102c",
   "metadata": {},
   "source": [
    "17. Write a Python program to find frequency of each digit in a given integer."
   ]
  },
  {
   "cell_type": "code",
   "execution_count": 117,
   "id": "9e40601f-a4d7-4c09-8b0d-c45e85d4c52b",
   "metadata": {},
   "outputs": [
    {
     "name": "stdin",
     "output_type": "stream",
     "text": [
      "Enter a number:  12232\n"
     ]
    },
    {
     "name": "stdout",
     "output_type": "stream",
     "text": [
      "Digit 2 occurs 3 times\n",
      "Digit 3 occurs 1 times\n",
      "Digit 1 occurs 1 times\n"
     ]
    }
   ],
   "source": [
    "num = int(input(\"Enter a number: \"))\n",
    "temp = num\n",
    "\n",
    "my_list = []\n",
    "while temp != 0:\n",
    "    my_list.append(temp % 10)\n",
    "    temp = temp // 10\n",
    "\n",
    "freq = {}\n",
    "for items in my_list:\n",
    "    if items in freq:\n",
    "        freq[items] += 1\n",
    "    else:\n",
    "        freq[items] = 1\n",
    "\n",
    "for key,value in freq.items():\n",
    "    print(f\"Digit {key} occurs {value} times\")"
   ]
  },
  {
   "cell_type": "markdown",
   "id": "394d77e3-64aa-466f-9e71-4566dabc385e",
   "metadata": {},
   "source": [
    "18. Write a Python program to enter a number and print it in words."
   ]
  },
  {
   "cell_type": "code",
   "execution_count": 9,
   "id": "5363944e-d191-4932-b375-2ed3ac5dc373",
   "metadata": {},
   "outputs": [
    {
     "name": "stdin",
     "output_type": "stream",
     "text": [
      "Enter the digit:  123\n"
     ]
    },
    {
     "name": "stdout",
     "output_type": "stream",
     "text": [
      "One Two Three "
     ]
    }
   ],
   "source": [
    "n = input(\"Enter the digit: \")\n",
    "\n",
    "digits = {'1':'One','2':'Two','3':'Three','4':'Four','5':'Five','6':'Six','7':'Seven','8':'Eight','9':'Nine','0':'Zero'}\n",
    "for number in n:\n",
    "    print(digits[number] , end = ' ')"
   ]
  },
  {
   "cell_type": "markdown",
   "id": "d5637076-c591-4849-817b-2acb83c7a558",
   "metadata": {},
   "source": [
    "19. Write a Python program to print all AScII character with their values."
   ]
  },
  {
   "cell_type": "code",
   "execution_count": 93,
   "id": "c1fbd77a-53ed-46dc-81d9-a07d87b3a94d",
   "metadata": {},
   "outputs": [
    {
     "name": "stdin",
     "output_type": "stream",
     "text": [
      "Enter the string:  kinal\n"
     ]
    },
    {
     "name": "stdout",
     "output_type": "stream",
     "text": [
      "k \t 107\n",
      "i \t 105\n",
      "n \t 110\n",
      "a \t 97\n",
      "l \t 108\n"
     ]
    }
   ],
   "source": [
    "text = input(\"Enter the string: \")\n",
    "\n",
    "for char in text:\n",
    "    ascii = ord(char)\n",
    "    print(char,\"\\t\",ascii)"
   ]
  },
  {
   "cell_type": "markdown",
   "id": "9eb0fd9f-64af-4c00-a444-362223a41b22",
   "metadata": {},
   "source": [
    "20. Write a Python program to find power of a number using for loop."
   ]
  },
  {
   "cell_type": "code",
   "execution_count": 102,
   "id": "5b901def-a915-4f84-9cf0-44b56252c5b6",
   "metadata": {},
   "outputs": [
    {
     "name": "stdin",
     "output_type": "stream",
     "text": [
      "Enter the number:  3\n"
     ]
    },
    {
     "name": "stdout",
     "output_type": "stream",
     "text": [
      "power of 3 is 27\n"
     ]
    }
   ],
   "source": [
    "n = int(input(\"Enter the number: \"))\n",
    "\n",
    "for i in range(1):\n",
    "    power = n * n * n\n",
    "    print(f\"power of {n} is {power}\")\n",
    "    "
   ]
  },
  {
   "cell_type": "markdown",
   "id": "476929b4-72b0-410f-83d4-84ba68ff8f9d",
   "metadata": {},
   "source": [
    "21. Write a Python program to find all factors of a number."
   ]
  },
  {
   "cell_type": "code",
   "execution_count": 113,
   "id": "6085e786-0231-437f-88b7-47971378aa6c",
   "metadata": {},
   "outputs": [
    {
     "name": "stdin",
     "output_type": "stream",
     "text": [
      "Enter the number:  6\n"
     ]
    },
    {
     "name": "stdout",
     "output_type": "stream",
     "text": [
      "1 2 3 6 "
     ]
    }
   ],
   "source": [
    "n = int(input(\"Enter the number: \"))\n",
    "for i in range(1,n+1):\n",
    "    if n % i == 0:\n",
    "        print(i,end=\" \")"
   ]
  },
  {
   "cell_type": "markdown",
   "id": "3ffc85a7-b2db-4c40-a43a-8f6e41fe3d32",
   "metadata": {},
   "source": [
    "22. Write a Python program to calculate factorial of a number."
   ]
  },
  {
   "cell_type": "code",
   "execution_count": 126,
   "id": "8844e408-de2b-481d-91c8-5ed48bad07ba",
   "metadata": {},
   "outputs": [
    {
     "name": "stdin",
     "output_type": "stream",
     "text": [
      "Enter the number:  6\n"
     ]
    },
    {
     "name": "stdout",
     "output_type": "stream",
     "text": [
      "The factorial of 6 is 720\n"
     ]
    }
   ],
   "source": [
    "n = int(input(\"Enter the number: \"))\n",
    "factorial = 1\n",
    "for i in range(1,n+1):\n",
    "    factorial *= i\n",
    "\n",
    "print(f\"The factorial of {n} is {factorial}\")\n",
    "    "
   ]
  },
  {
   "cell_type": "markdown",
   "id": "42f7cf95-dc66-410c-84a3-b5986994ba0c",
   "metadata": {},
   "source": [
    "23. Write a Python program to find HcF (GcD) of two numbers."
   ]
  },
  {
   "cell_type": "code",
   "execution_count": 9,
   "id": "c9ea1b17-ca4a-42c4-81b3-f4536b44bc02",
   "metadata": {},
   "outputs": [
    {
     "name": "stdin",
     "output_type": "stream",
     "text": [
      "Enter the number:  12\n",
      "Enter the number:  18\n"
     ]
    },
    {
     "name": "stdout",
     "output_type": "stream",
     "text": [
      "6\n"
     ]
    }
   ],
   "source": [
    "n1 = int(input(\"Enter the number: \"))\n",
    "n2 = int(input(\"Enter the number: \"))\n",
    "smaller = min(n1,n2)\n",
    "gcd = 1\n",
    "for i in range(1,smaller+1):\n",
    "    if n1 % i == 0 and n2 % i == 0:\n",
    "        gcd = i\n",
    "print(gcd)"
   ]
  },
  {
   "cell_type": "markdown",
   "id": "203c24d8-185b-4048-b7fa-bab1b13472e5",
   "metadata": {},
   "source": [
    "24. Write a Python program to find LcM of two numbers."
   ]
  },
  {
   "cell_type": "code",
   "execution_count": null,
   "id": "88ff5fe0-37b1-4b31-93fd-0dcab41b96a9",
   "metadata": {},
   "outputs": [],
   "source": []
  },
  {
   "cell_type": "markdown",
   "id": "716ad733-4340-4077-b6fd-3a5684f2e7da",
   "metadata": {},
   "source": [
    "25. Write a Python program to check whether a number is Prime number or not."
   ]
  },
  {
   "cell_type": "code",
   "execution_count": 15,
   "id": "76175457-565f-4d04-a89d-bea516ab4522",
   "metadata": {},
   "outputs": [
    {
     "name": "stdin",
     "output_type": "stream",
     "text": [
      "Enter the number:  6\n"
     ]
    },
    {
     "name": "stdout",
     "output_type": "stream",
     "text": [
      "number is not prime\n"
     ]
    }
   ],
   "source": [
    "n = int(input(\"Enter the number: \"))\n",
    "for i in range(2,n):\n",
    "    if n % i == 0:\n",
    "        print(\"number is not prime\")\n",
    "        break\n",
    "    else:\n",
    "        print(\"number is prime\")\n",
    "        break"
   ]
  },
  {
   "cell_type": "markdown",
   "id": "b060457c-28b2-40f1-a76a-5148c7d86c76",
   "metadata": {},
   "source": [
    "26. Write a Python program to print all Prime numbers between 1 to n."
   ]
  },
  {
   "cell_type": "code",
   "execution_count": null,
   "id": "1ca99a39-2fb6-41be-8435-b0dbf7baf72d",
   "metadata": {},
   "outputs": [],
   "source": [
    "n = int(input(\"Enter the number: \"))\n",
    "for i in range(1,n+1):\n",
    "    for j in range(2,i):\n",
    "        if i % j == 0:\n",
    "            break\n",
    "    else:\n",
    "        print(i)"
   ]
  },
  {
   "cell_type": "markdown",
   "id": "c0756eae-63e6-4ceb-8339-1984dba58a6f",
   "metadata": {},
   "source": [
    "27. Write a Python program to find sum of all prime numbers between 1 to n.  "
   ]
  },
  {
   "cell_type": "code",
   "execution_count": 43,
   "id": "e4436fa3-ed41-4be4-bf4d-5cb4617f9a03",
   "metadata": {},
   "outputs": [
    {
     "name": "stdin",
     "output_type": "stream",
     "text": [
      "Enter a number n:  5\n"
     ]
    },
    {
     "name": "stdout",
     "output_type": "stream",
     "text": [
      "10\n"
     ]
    }
   ],
   "source": [
    "n = int(input(\"Enter a number n: \"))\n",
    "\n",
    "total = 0\n",
    "\n",
    "for num in range(2, n + 1):  \n",
    "    is_prime = True\n",
    "    for i in range(2, num): \n",
    "        if num % i == 0:\n",
    "            is_prime = False\n",
    "            break\n",
    "    if is_prime:\n",
    "        total += num\n",
    "print(total)"
   ]
  },
  {
   "cell_type": "markdown",
   "id": "653ca329-34c5-4c33-bb51-43c16b628072",
   "metadata": {},
   "source": [
    "28. Write a Python program to find all prime factors of a number."
   ]
  },
  {
   "cell_type": "code",
   "execution_count": 45,
   "id": "e5aa2283-8be7-45d0-a74e-2fd2aa52dca6",
   "metadata": {},
   "outputs": [
    {
     "name": "stdin",
     "output_type": "stream",
     "text": [
      "Enter the number:  80\n"
     ]
    },
    {
     "name": "stdout",
     "output_type": "stream",
     "text": [
      "[2, 5]\n"
     ]
    }
   ],
   "source": [
    "n = int(input(\"Enter the number: \"))\n",
    "prime_factors = []\n",
    "for i in range(1,n+1):\n",
    "    if i == 1:\n",
    "        continue\n",
    "    if n%i == 0:\n",
    "        temp = 0\n",
    "        for j in range(2,i):\n",
    "            if i%j == 0:\n",
    "                temp=1\n",
    "                break\n",
    "        if temp == 0:\n",
    "            prime_factors.append(i)\n",
    "\n",
    "print(prime_factors)"
   ]
  },
  {
   "cell_type": "markdown",
   "id": "74cc8f9c-8c26-462a-bb13-ab0e91044ba2",
   "metadata": {},
   "source": [
    "29. Write a Python program to check whether a number is Armstrong number or not."
   ]
  },
  {
   "cell_type": "code",
   "execution_count": 92,
   "id": "dc5044bb-df32-48e0-8ee9-bec69e19a4a2",
   "metadata": {},
   "outputs": [
    {
     "name": "stdin",
     "output_type": "stream",
     "text": [
      "Enter the number:  4\n"
     ]
    },
    {
     "name": "stdout",
     "output_type": "stream",
     "text": [
      "Number is not Armstrong\n"
     ]
    }
   ],
   "source": [
    "n = input(\"Enter the number: \")\n",
    "sum = 0\n",
    "for i in n:\n",
    "    sum += int(i)**3\n",
    "if sum == int(n):\n",
    "    print(\"Number is Armstrong\")\n",
    "else:\n",
    "    print(\"Number is not Armstrong\")"
   ]
  },
  {
   "cell_type": "markdown",
   "id": "20109cb3-91b8-45a0-89ef-77478a5179e6",
   "metadata": {},
   "source": [
    "30. Write a Python program to print all Armstrong numbers between 1 to n."
   ]
  },
  {
   "cell_type": "code",
   "execution_count": 48,
   "id": "61271c17-0209-479f-ab64-370291a22657",
   "metadata": {},
   "outputs": [
    {
     "name": "stdin",
     "output_type": "stream",
     "text": [
      "Enter the number:  6\n"
     ]
    },
    {
     "ename": "TypeError",
     "evalue": "'int' object is not callable",
     "output_type": "error",
     "traceback": [
      "\u001b[0;31m---------------------------------------------------------------------------\u001b[0m",
      "\u001b[0;31mTypeError\u001b[0m                                 Traceback (most recent call last)",
      "Cell \u001b[0;32mIn[48], line 5\u001b[0m\n\u001b[1;32m      3\u001b[0m \u001b[38;5;28;01mfor\u001b[39;00m i \u001b[38;5;129;01min\u001b[39;00m \u001b[38;5;28mrange\u001b[39m(\u001b[38;5;241m1\u001b[39m,n\u001b[38;5;241m+\u001b[39m\u001b[38;5;241m1\u001b[39m):\n\u001b[1;32m      4\u001b[0m     order \u001b[38;5;241m=\u001b[39m \u001b[38;5;28mlen\u001b[39m(\u001b[38;5;28mstr\u001b[39m(num))\n\u001b[0;32m----> 5\u001b[0m     sum_of_power \u001b[38;5;241m=\u001b[39m \u001b[38;5;28msum\u001b[39m(\u001b[38;5;28mint\u001b[39m(digit) \u001b[38;5;241m*\u001b[39m\u001b[38;5;241m*\u001b[39m order \u001b[38;5;28;01mfor\u001b[39;00m digit \u001b[38;5;129;01min\u001b[39;00m \u001b[38;5;28mstr\u001b[39m(num))\n\u001b[1;32m      6\u001b[0m     \u001b[38;5;28;01mif\u001b[39;00m num \u001b[38;5;241m==\u001b[39m sum_of_power:\n\u001b[1;32m      7\u001b[0m         \u001b[38;5;28mprint\u001b[39m(num)\n",
      "\u001b[0;31mTypeError\u001b[0m: 'int' object is not callable"
     ]
    }
   ],
   "source": [
    "n = int(input(\"Enter the number: \"))\n",
    "\n",
    "for i in range(1,n+1):\n",
    "    order = len(str(num))\n",
    "    sum_of_power = sum(int(digit) ** order for digit in str(num))\n",
    "    if num == sum_of_power:\n",
    "        print(num)"
   ]
  },
  {
   "cell_type": "markdown",
   "id": "a53f0981-575b-4bac-b0d4-92095052e13d",
   "metadata": {},
   "source": [
    "31. Write a Python program to check whether a number is Perfect number or not."
   ]
  },
  {
   "cell_type": "code",
   "execution_count": 114,
   "id": "0bc4cbb9-9fb0-4012-b2bc-a6fc4dddd489",
   "metadata": {},
   "outputs": [
    {
     "name": "stdin",
     "output_type": "stream",
     "text": [
      "Enter the number:  28\n"
     ]
    },
    {
     "name": "stdout",
     "output_type": "stream",
     "text": [
      "number is perfect\n"
     ]
    }
   ],
   "source": [
    "n = int(input(\"Enter the number: \"))\n",
    "sum = 0\n",
    "for i in range(1,n):\n",
    "    if n%i == 0:\n",
    "        sum += i\n",
    "if n == sum:\n",
    "    print(\"number is perfect\")\n",
    "else:\n",
    "    print(\"number is not perfect\")\n",
    "for i in range(1,n+1):\n",
    "    \n",
    "    "
   ]
  },
  {
   "cell_type": "markdown",
   "id": "a5797be4-be44-4a0b-b35a-ac4f97673728",
   "metadata": {},
   "source": [
    "32. Write a Python program to print all Perfect numbers between 1 to n."
   ]
  },
  {
   "cell_type": "code",
   "execution_count": 89,
   "id": "14ec0051-97ad-40d0-9828-3ba666ea110e",
   "metadata": {},
   "outputs": [
    {
     "name": "stdin",
     "output_type": "stream",
     "text": [
      "Enter a number n:  50\n"
     ]
    },
    {
     "name": "stdout",
     "output_type": "stream",
     "text": [
      "Perfect numbers between 1 and 50 :\n",
      "6 28 "
     ]
    }
   ],
   "source": [
    "n = int(input(\"Enter a number n: \"))\n",
    "\n",
    "print(\"Perfect numbers between 1 and\", n, \":\")\n",
    "for num in range(1, n + 1):\n",
    "    div = 0\n",
    "    for i in range(1, num):\n",
    "        if num % i == 0:\n",
    "            div += i\n",
    "    if num == div:\n",
    "        print(num, end=' ')\n",
    "\n"
   ]
  },
  {
   "cell_type": "markdown",
   "id": "ac2e1e48-e8af-43e0-a159-8f58aa1adbff",
   "metadata": {},
   "source": [
    "33. Write a Python program to check whether a number is Strong number or not."
   ]
  },
  {
   "cell_type": "code",
   "execution_count": 103,
   "id": "68d84b57-0cd4-41dd-883c-83d951b840fc",
   "metadata": {},
   "outputs": [
    {
     "name": "stdin",
     "output_type": "stream",
     "text": [
      "Enter a number:  145\n"
     ]
    },
    {
     "name": "stdout",
     "output_type": "stream",
     "text": [
      "145 is a Strong number.\n"
     ]
    }
   ],
   "source": [
    "num = int(input(\"Enter a number: \"))\n",
    "sum_of_factorials = 0\n",
    "\n",
    "for digit in str(num):\n",
    "    factorial = 1\n",
    "    for i in range(1, int(digit) + 1):\n",
    "        factorial *= i\n",
    "    sum_of_factorials += factorial\n",
    "\n",
    "if num == sum_of_factorials:\n",
    "    print(num, \"is a Strong number.\")\n",
    "else:\n",
    "    print(num, \"is not a Strong number.\")"
   ]
  },
  {
   "cell_type": "markdown",
   "id": "9f0b0645-9a3a-4326-b023-39606b4fbe83",
   "metadata": {},
   "source": [
    "34. Write a Python program to print all Strong numbers between 1 to n."
   ]
  },
  {
   "cell_type": "code",
   "execution_count": 109,
   "id": "e4ee6079-92a8-4ed9-9f25-073de4ea6a70",
   "metadata": {},
   "outputs": [
    {
     "name": "stdin",
     "output_type": "stream",
     "text": [
      "Enter a number n:  60\n"
     ]
    },
    {
     "name": "stdout",
     "output_type": "stream",
     "text": [
      "Strong numbers between 1 and 60 :\n",
      "1 2 \n"
     ]
    }
   ],
   "source": [
    "n = int(input(\"Enter a number n: \"))\n",
    "\n",
    "print(\"Strong numbers between 1 and\", n, \":\")\n",
    "for num in range(1, n + 1):\n",
    "    sum1 = 0\n",
    "    for digit in str(num):\n",
    "        fact = 1\n",
    "        for i in range(1, int(digit) + 1):\n",
    "            fact *= i\n",
    "        sum1 += fact\n",
    "    if num == sum1:\n",
    "        print(num, end=' ')\n",
    "\n",
    "print() "
   ]
  },
  {
   "cell_type": "markdown",
   "id": "5ded64b6-6a71-4604-84ad-269b994a8460",
   "metadata": {},
   "source": [
    "35. Write a Python program to print Fibonacci series up to n terms."
   ]
  },
  {
   "cell_type": "code",
   "execution_count": 59,
   "id": "dcd3ced4-cab0-42b8-b708-2ffcc83d9c60",
   "metadata": {},
   "outputs": [
    {
     "name": "stdin",
     "output_type": "stream",
     "text": [
      "Enter the number of terms in Fibonacci series:  6\n"
     ]
    },
    {
     "name": "stdout",
     "output_type": "stream",
     "text": [
      "Fibonacci series up to 6 terms:\n",
      "0 1 1 2 3 5 \n"
     ]
    }
   ],
   "source": [
    "n = int(input(\"Enter the number of terms in Fibonacci series: \"))\n",
    "\n",
    "a, b = 0, 1\n",
    "print(\"Fibonacci series up to\", n, \"terms:\")\n",
    "for _ in range(n):\n",
    "    print(a, end=\" \")\n",
    "    a, b = b, a + b\n",
    "\n",
    "print() "
   ]
  },
  {
   "cell_type": "markdown",
   "id": "0fdd5586-b831-45de-babb-22e22025ced2",
   "metadata": {},
   "source": [
    "36. Write a Python program to find one's complement of a binary number."
   ]
  },
  {
   "cell_type": "code",
   "execution_count": null,
   "id": "044409c3-9920-481b-acd5-b98b8eedb393",
   "metadata": {},
   "outputs": [],
   "source": []
  },
  {
   "cell_type": "markdown",
   "id": "64600c98-2790-49ac-92ec-95b952924f88",
   "metadata": {},
   "source": [
    "37. Write a Python program to find two's complement of a binary number."
   ]
  },
  {
   "cell_type": "code",
   "execution_count": null,
   "id": "d67b4642-5e51-439e-a438-15c01b44eb51",
   "metadata": {},
   "outputs": [],
   "source": []
  },
  {
   "cell_type": "markdown",
   "id": "75821d15-5e94-44f1-83e4-ebf29e5ee1c4",
   "metadata": {},
   "source": [
    "39. Write a Python program to convert Binary to Decimal number system."
   ]
  },
  {
   "cell_type": "code",
   "execution_count": 149,
   "id": "360499e5-9016-4867-a00a-128e89d47426",
   "metadata": {},
   "outputs": [
    {
     "name": "stdin",
     "output_type": "stream",
     "text": [
      "Enter a binary number:  110\n"
     ]
    },
    {
     "name": "stdout",
     "output_type": "stream",
     "text": [
      "The decimal equivalent is: 6\n"
     ]
    }
   ],
   "source": [
    "binary = input(\"Enter a binary number: \")\n",
    "decimal = 0\n",
    "\n",
    "for digit in binary:\n",
    "    decimal = decimal * 2 + int(digit)\n",
    "\n",
    "print(\"The decimal equivalent is:\", decimal)"
   ]
  },
  {
   "cell_type": "code",
   "execution_count": 42,
   "id": "bc320116-41f8-4137-b865-b1b10c8101ba",
   "metadata": {},
   "outputs": [
    {
     "name": "stdin",
     "output_type": "stream",
     "text": [
      "Enter a binary number:  1101\n"
     ]
    },
    {
     "name": "stdout",
     "output_type": "stream",
     "text": [
      "13\n"
     ]
    }
   ],
   "source": [
    "n = int(input(\"Enter a binary number: \"))\n",
    "sum = 0\n",
    "i = 0\n",
    "\n",
    "while n != 0:\n",
    "    rem = n % 10\n",
    "    sum = sum + rem * pow(2,i)\n",
    "    n = int(n/10)\n",
    "    i += 1\n",
    "print(sum)"
   ]
  },
  {
   "cell_type": "markdown",
   "id": "17c74c72-430a-453b-93df-789ca06246ff",
   "metadata": {},
   "source": [
    "40. Write a Python program to convert Binary to Hexadecimal number system."
   ]
  },
  {
   "cell_type": "code",
   "execution_count": 162,
   "id": "e8103b8b-1da2-46fd-8ada-0a51f595fea8",
   "metadata": {},
   "outputs": [
    {
     "name": "stdin",
     "output_type": "stream",
     "text": [
      "Enter a binary number:  1010\n"
     ]
    },
    {
     "name": "stdout",
     "output_type": "stream",
     "text": [
      "The hexa equivalent is: A\n"
     ]
    }
   ],
   "source": [
    "binary = input(\"Enter a binary number: \")\n",
    "decimal = 0\n",
    "\n",
    "for digit in binary:\n",
    "    decimal = decimal * 2 + int(digit)\n",
    "\n",
    "hexa = hex(decimal)[2:].upper()\n",
    "\n",
    "print(\"The hexa equivalent is:\", hexa)"
   ]
  },
  {
   "cell_type": "code",
   "execution_count": 48,
   "id": "855906ce-95cb-46d4-bdef-9e341e2425de",
   "metadata": {},
   "outputs": [
    {
     "name": "stdin",
     "output_type": "stream",
     "text": [
      "Enter a binary number:  1101\n"
     ]
    },
    {
     "name": "stdout",
     "output_type": "stream",
     "text": [
      "13\n",
      "['D']\n"
     ]
    }
   ],
   "source": [
    "n = int(input(\"Enter a binary number: \"))\n",
    "hexa = []\n",
    "result = []\n",
    "des = 0\n",
    "i = 0\n",
    "\n",
    "while n != 0:\n",
    "    rem = n % 10\n",
    "    des = des + rem * pow(2,i)\n",
    "    n = int(n/10)\n",
    "    i += 1\n",
    "print(des)\n",
    "\n",
    "i = 0\n",
    "rem = 0\n",
    "while des>0:\n",
    "    rem = int(des%16)\n",
    "    if rem < 10:\n",
    "        hexa.append(chr(rem+48))\n",
    "    else:\n",
    "        hexa.append(chr(rem+55))\n",
    "    des = int(des/16)\n",
    "\n",
    "j = 1\n",
    "for i in hexa:\n",
    "    result.append(hexa[len(hexa)-j])\n",
    "    j += 1\n",
    "print(result)"
   ]
  },
  {
   "cell_type": "markdown",
   "id": "eebfcf15-36e1-4600-9872-8527740d91bb",
   "metadata": {},
   "source": [
    "41. Write a Python program to convert Octal to Binary number system."
   ]
  },
  {
   "cell_type": "code",
   "execution_count": 165,
   "id": "0692d972-1b0c-4b3f-a93f-7785d902a68c",
   "metadata": {},
   "outputs": [
    {
     "name": "stdin",
     "output_type": "stream",
     "text": [
      "Enter a octal number:  7\n"
     ]
    },
    {
     "name": "stdout",
     "output_type": "stream",
     "text": [
      "The binary equivalent is: 111\n"
     ]
    }
   ],
   "source": [
    "octal = input(\"Enter a octal number: \")\n",
    "decimal = 0\n",
    "\n",
    "for digit in octal:\n",
    "    decimal = decimal * 8 + int(digit)\n",
    "\n",
    "binary = bin(decimal)[2:]\n",
    "\n",
    "print(\"The binary equivalent is:\", binary)"
   ]
  },
  {
   "cell_type": "markdown",
   "id": "80517697-7b49-46b4-9fda-e772da545091",
   "metadata": {},
   "source": [
    "42. Write a Python program to convert Octal to Decimal number system."
   ]
  },
  {
   "cell_type": "code",
   "execution_count": 170,
   "id": "227c0896-ceb7-4998-8fa8-46d5e22c98dd",
   "metadata": {},
   "outputs": [
    {
     "name": "stdin",
     "output_type": "stream",
     "text": [
      "Enter a octal number:  1010\n"
     ]
    },
    {
     "name": "stdout",
     "output_type": "stream",
     "text": [
      "The decimal equivalent is: 520\n"
     ]
    }
   ],
   "source": [
    "octal = input(\"Enter a octal number: \")\n",
    "decimal = 0\n",
    "\n",
    "for digit in octal:\n",
    "    decimal = decimal * 8 + int(digit)\n",
    "print(\"The decimal equivalent is:\", decimal)"
   ]
  },
  {
   "cell_type": "markdown",
   "id": "9dd30012-f428-44ce-8e80-c16fe6c8d7db",
   "metadata": {},
   "source": [
    "43. Write a Python program to convert Octal to Hexadecimal number system."
   ]
  },
  {
   "cell_type": "code",
   "execution_count": 176,
   "id": "058dfad3-5b89-4fea-a5b8-089dc87203bd",
   "metadata": {},
   "outputs": [
    {
     "name": "stdin",
     "output_type": "stream",
     "text": [
      "Enter a octal number:  13\n"
     ]
    },
    {
     "name": "stdout",
     "output_type": "stream",
     "text": [
      "The hexa equivalent is: B\n"
     ]
    }
   ],
   "source": [
    "octal = input(\"Enter a octal number: \")\n",
    "decimal = 0\n",
    "\n",
    "for digit in octal:\n",
    "    decimal = decimal * 8 + int(digit)\n",
    "\n",
    "hexa = hex(decimal)[2:].upper()\n",
    "print(\"The hexa equivalent is:\", hexa)"
   ]
  },
  {
   "cell_type": "markdown",
   "id": "126b81cd-8ecb-4bab-9335-4d919d799b04",
   "metadata": {},
   "source": [
    "44. Write a Python program to convert Decimal to Binary number system."
   ]
  },
  {
   "cell_type": "code",
   "execution_count": 182,
   "id": "ae652626-5ffe-4b89-92bb-261b2f4bfe38",
   "metadata": {},
   "outputs": [
    {
     "name": "stdin",
     "output_type": "stream",
     "text": [
      "Enter a Decimal number:  10\n"
     ]
    },
    {
     "name": "stdout",
     "output_type": "stream",
     "text": [
      "1010\n"
     ]
    }
   ],
   "source": [
    "decimal = int(input(\"Enter a Decimal number: \"))\n",
    "\n",
    "binary = bin(decimal)[2:]\n",
    "\n",
    "print(binary)"
   ]
  },
  {
   "cell_type": "markdown",
   "id": "da36dcb2-a5a0-40fe-be66-9480edab2154",
   "metadata": {},
   "source": [
    "45. Write a Python program to convert Decimal to Octal number system."
   ]
  },
  {
   "cell_type": "code",
   "execution_count": 185,
   "id": "2a1c0cae-b57b-4355-949d-6096d5914522",
   "metadata": {},
   "outputs": [
    {
     "name": "stdin",
     "output_type": "stream",
     "text": [
      "Enter a Decimal number:  10\n"
     ]
    },
    {
     "name": "stdout",
     "output_type": "stream",
     "text": [
      "12\n"
     ]
    }
   ],
   "source": [
    "decimal = int(input(\"Enter a Decimal number: \"))\n",
    "\n",
    "octal = oct(decimal)[2:]\n",
    "\n",
    "print(octal)"
   ]
  },
  {
   "cell_type": "markdown",
   "id": "6e672744-2a0c-4cb8-af66-53cfd4c2fe52",
   "metadata": {},
   "source": [
    "46. Write a Python program to convert Decimal to Hexadecimal number system."
   ]
  },
  {
   "cell_type": "code",
   "execution_count": 17,
   "id": "86f56404-69e6-4350-bebe-fa42abfa6e1f",
   "metadata": {},
   "outputs": [
    {
     "name": "stdin",
     "output_type": "stream",
     "text": [
      "Enter a Decimal number:  1010\n"
     ]
    },
    {
     "name": "stdout",
     "output_type": "stream",
     "text": [
      "3F2\n"
     ]
    }
   ],
   "source": [
    "decimal = int(input(\"Enter a Decimal number: \"))\n",
    "\n",
    "hexa = hex(decimal)[2:].upper()\n",
    "\n",
    "print(hexa)"
   ]
  },
  {
   "cell_type": "markdown",
   "id": "99e0a66b-403a-4f1e-9a9e-80de199ed266",
   "metadata": {},
   "source": [
    "47. Write a Python program to convert Hexadecimal to Binary number system."
   ]
  },
  {
   "cell_type": "code",
   "execution_count": 23,
   "id": "8da6ac03-3e9e-4fb6-b774-4d99c6a743b5",
   "metadata": {},
   "outputs": [
    {
     "name": "stdin",
     "output_type": "stream",
     "text": [
      "Enter a hexa number:  456\n"
     ]
    },
    {
     "name": "stdout",
     "output_type": "stream",
     "text": [
      "10001010110\n"
     ]
    }
   ],
   "source": [
    "hexa = input(\"Enter a hexa number: \")\n",
    "\n",
    "decimal = int(hexa,16)\n",
    "\n",
    "binary = bin(decimal)[2:]\n",
    "\n",
    "print(binary)"
   ]
  },
  {
   "cell_type": "markdown",
   "id": "be3655a4-350e-4e12-bc99-053e130c8479",
   "metadata": {},
   "source": [
    "48. Write a Python program to convert Hexadecimal to Octal number system."
   ]
  },
  {
   "cell_type": "code",
   "execution_count": null,
   "id": "feb98e66-05a4-4d52-9458-9c1e28220c81",
   "metadata": {},
   "outputs": [],
   "source": [
    "hexa = input(\"Enter a hexa number: \")\n",
    "\n",
    "decimal = int(hexa,16)\n",
    "\n",
    "octal = oct(decimal)[2:]\n",
    "\n",
    "print(octal)"
   ]
  },
  {
   "cell_type": "markdown",
   "id": "66a77bac-9499-4639-9fd3-c10dd46a86db",
   "metadata": {},
   "source": [
    "49. Write a Python program to convert Hexadecimal to Decimal number system."
   ]
  },
  {
   "cell_type": "code",
   "execution_count": 25,
   "id": "e42577f3-bfcc-4142-a18c-e3aff09ac3e0",
   "metadata": {},
   "outputs": [
    {
     "name": "stdin",
     "output_type": "stream",
     "text": [
      "Enter a hexa number:  234\n"
     ]
    },
    {
     "name": "stdout",
     "output_type": "stream",
     "text": [
      "564\n"
     ]
    }
   ],
   "source": [
    "hexa = input(\"Enter a hexa number: \")\n",
    "\n",
    "decimal = int(hexa,16)\n",
    "\n",
    "print(decimal)"
   ]
  },
  {
   "cell_type": "markdown",
   "id": "0d9202ac-8f1c-49f2-90b8-c06bb8e4db5a",
   "metadata": {},
   "source": [
    "50. Write a Python program to print Pascal triangle 0 up to n rows."
   ]
  },
  {
   "cell_type": "code",
   "execution_count": 35,
   "id": "daed241f-ccd6-4d21-ab05-e1c96d182378",
   "metadata": {},
   "outputs": [
    {
     "name": "stdin",
     "output_type": "stream",
     "text": [
      "Enter the number:  12\n"
     ]
    },
    {
     "name": "stdout",
     "output_type": "stream",
     "text": [
      "[[1], [1, 1], [1, 2, 1], [1, 3, 3, 1], [1, 4, 6, 4, 1], [1, 5, 10, 10, 5, 1], [1, 6, 15, 20, 15, 6, 1], [1, 7, 21, 35, 35, 21, 7, 1], [1, 8, 28, 56, 70, 56, 28, 8, 1], [1, 9, 36, 84, 126, 126, 84, 36, 9, 1], [1, 10, 45, 120, 210, 252, 210, 120, 45, 10, 1], [1, 11, 55, 165, 330, 462, 462, 330, 165, 55, 11, 1]]\n",
      "                      1                         \n",
      "                    1   1                       \n",
      "                  1   2   1                     \n",
      "                1   3   3   1                   \n",
      "              1   4   6   4   1                 \n",
      "            1   5   10  10  5   1               \n",
      "          1   6   15  20  15  6   1             \n",
      "        1   7   21  35  35  21  7   1           \n",
      "      1   8   28  56  70  56  28  8   1         \n",
      "    1   9   36  84  126 126 84  36  9   1       \n",
      "  1   10  45  120 210 252 210 120 45  10  1     \n",
      "1   11  55  165 330 462 462 330 165 55  11  1   \n"
     ]
    }
   ],
   "source": [
    "n = int(input(\"Enter the number: \"))\n",
    "l = []\n",
    "for i in range(n):\n",
    "    temp = []\n",
    "    for j in range(i+1):\n",
    "        if j == 0 or j == i:\n",
    "            temp.append(1)\n",
    "        else:\n",
    "            temp.append(l[i-1][j-1] + l[i-1][j])\n",
    "    l.append(temp)\n",
    "print(l)\n",
    "\n",
    "\n",
    "for i in range(n):\n",
    "    for j in range(n-i-1):\n",
    "        print(format(\" \",\"<2\"),end=\"\")\n",
    "\n",
    "    for j in range(i+1):\n",
    "        print(format(l[i][j],\"<3\"),end=\" \")\n",
    "\n",
    "    for j in range(n-i-1):\n",
    "        print(format(\" \",\"<2\"),end=\"\")\n",
    "\n",
    "    print(\"\")"
   ]
  },
  {
   "cell_type": "code",
   "execution_count": null,
   "id": "f525302d-3650-4f3e-81d5-153150f9cf15",
   "metadata": {},
   "outputs": [],
   "source": []
  }
 ],
 "metadata": {
  "kernelspec": {
   "display_name": "Python [conda env:base] *",
   "language": "python",
   "name": "conda-base-py"
  },
  "language_info": {
   "codemirror_mode": {
    "name": "ipython",
    "version": 3
   },
   "file_extension": ".py",
   "mimetype": "text/x-python",
   "name": "python",
   "nbconvert_exporter": "python",
   "pygments_lexer": "ipython3",
   "version": "3.12.7"
  }
 },
 "nbformat": 4,
 "nbformat_minor": 5
}
