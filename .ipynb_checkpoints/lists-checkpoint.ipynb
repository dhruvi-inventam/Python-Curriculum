{
 "cells": [
  {
   "cell_type": "code",
   "execution_count": 3,
   "id": "422b2ae5-5dcc-4232-8ab0-9e1707280045",
   "metadata": {},
   "outputs": [
    {
     "name": "stdin",
     "output_type": "stream",
     "text": [
      "Enter elements separated by space:  1 2 3 4 5\n"
     ]
    },
    {
     "name": "stdout",
     "output_type": "stream",
     "text": [
      "List: ['1', '2', '3', '4', '5']\n"
     ]
    }
   ],
   "source": [
    "user_input = input(\"Enter elements separated by space: \").split()\n",
    "\n",
    "print(\"List:\", user_input)"
   ]
  },
  {
   "cell_type": "code",
   "execution_count": 17,
   "id": "a13988af-5fe3-4a2d-a62f-96f58d424e74",
   "metadata": {},
   "outputs": [
    {
     "name": "stdin",
     "output_type": "stream",
     "text": [
      "Enter the elements:  3\n",
      "Enter element 1 1\n",
      "Enter element 2 2\n",
      "Enter element 3 3\n"
     ]
    },
    {
     "name": "stdout",
     "output_type": "stream",
     "text": [
      "['1', '2', '3']\n"
     ]
    }
   ],
   "source": [
    "a = []\n",
    "\n",
    "n = int(input(\"Enter the elements: \"))\n",
    "\n",
    "for i in range(n):\n",
    "    ele = input(f\"Enter element {i+1}\")\n",
    "    a.append(ele)\n",
    "print(a)"
   ]
  },
  {
   "cell_type": "code",
   "execution_count": 21,
   "id": "7fd0dc5f-c572-4e59-8252-e045f3e6f175",
   "metadata": {},
   "outputs": [
    {
     "name": "stdin",
     "output_type": "stream",
     "text": [
      "Enter numbers separated by space:  3 4 6 2 5 \n"
     ]
    },
    {
     "name": "stdout",
     "output_type": "stream",
     "text": [
      "[3, 4, 6, 2, 5]\n"
     ]
    }
   ],
   "source": [
    "n = list(map(int,input(\"Enter numbers separated by space: \").split()))\n",
    "\n",
    "print(n)"
   ]
  },
  {
   "cell_type": "code",
   "execution_count": 23,
   "id": "9ba337d4-8b40-4d41-9881-f509def24287",
   "metadata": {},
   "outputs": [
    {
     "name": "stdout",
     "output_type": "stream",
     "text": [
      "[1, 2, 3, 4, 5, 6, 7, 8, 9]\n"
     ]
    }
   ],
   "source": [
    "a = 1\n",
    "b = 10\n",
    "\n",
    "li = list(range(a,b))\n",
    "print(li)"
   ]
  },
  {
   "cell_type": "code",
   "execution_count": 25,
   "id": "3ecc7064-c407-4103-b2dd-76afdd2b0de0",
   "metadata": {},
   "outputs": [
    {
     "name": "stdout",
     "output_type": "stream",
     "text": [
      "[1, 2, 3, 4, 5, 6, 7, 8, 9]\n"
     ]
    }
   ],
   "source": [
    "import numpy as np\n",
    "    \n",
    "li = np.arange(a,b).tolist()\n",
    "print(li)"
   ]
  },
  {
   "cell_type": "code",
   "execution_count": 29,
   "id": "5149ef59-4cf2-4fef-94dd-13acc06cd423",
   "metadata": {},
   "outputs": [
    {
     "name": "stdout",
     "output_type": "stream",
     "text": [
      "[1, 2, 3, 4, 5, 6, 7, 8, 9]\n"
     ]
    }
   ],
   "source": [
    "import itertools\n",
    "\n",
    "li = list(itertools.islice(itertools.count(a),b-a))\n",
    "print(li)"
   ]
  },
  {
   "cell_type": "code",
   "execution_count": 31,
   "id": "4e269062-4c80-4205-ab5e-1dcdc0435cd7",
   "metadata": {},
   "outputs": [
    {
     "name": "stdout",
     "output_type": "stream",
     "text": [
      "[1, 6, 5, 4, 2, 3]\n"
     ]
    }
   ],
   "source": [
    "li = [1,2,3]\n",
    "\n",
    "for i in [4,5,6]:\n",
    "    li.insert(1,i)\n",
    "print(li)"
   ]
  },
  {
   "cell_type": "code",
   "execution_count": 41,
   "id": "721d0b7d-dca9-457f-9ef1-057280fa7762",
   "metadata": {},
   "outputs": [
    {
     "name": "stdout",
     "output_type": "stream",
     "text": [
      "[1, 2, 3, 4, 5, 6, 7, 8, 9]\n"
     ]
    }
   ],
   "source": [
    "a = [1,2,3]\n",
    "a.extend([4,5,6])\n",
    "\n",
    "b = [i for i in range(7,10)]\n",
    "a.extend(b)\n",
    "print(a)"
   ]
  },
  {
   "cell_type": "code",
   "execution_count": 47,
   "id": "9865846a-cb26-4825-a096-389263407e89",
   "metadata": {},
   "outputs": [
    {
     "name": "stdout",
     "output_type": "stream",
     "text": [
      "1\n",
      "banana\n",
      "['apple', 'cherry']\n"
     ]
    }
   ],
   "source": [
    "li = [\"apple\",\"banana\",\"cherry\"]\n",
    "\n",
    "print(li.index(\"banana\"))\n",
    "i = li.pop(1)\n",
    "print(i)\n",
    "print(li)"
   ]
  },
  {
   "cell_type": "code",
   "execution_count": 49,
   "id": "30b52d63-0b5a-45f0-8f67-e0fa8ada46aa",
   "metadata": {},
   "outputs": [
    {
     "name": "stdout",
     "output_type": "stream",
     "text": [
      "0 apple\n",
      "1 banana\n",
      "2 cherry\n"
     ]
    }
   ],
   "source": [
    "li = [\"apple\",\"banana\",\"cherry\"]\n",
    "for index,value in enumerate(li):\n",
    "    print(index,value)"
   ]
  },
  {
   "cell_type": "code",
   "execution_count": 70,
   "id": "3b9d1de4-21de-4d41-88f5-2fd09f996a78",
   "metadata": {},
   "outputs": [
    {
     "name": "stdout",
     "output_type": "stream",
     "text": [
      "0 (1, 'q', True)\n",
      "1 (2, 'w', False)\n"
     ]
    }
   ],
   "source": [
    "a = [1,2,3,4,5]\n",
    "b = [\"q\",\"w\",\"e\",\"r\"]\n",
    "c = [True,False]\n",
    "\n",
    "for index,value in zip(range(len(a)),zip(a,b,c)):\n",
    "    print(index,value)"
   ]
  },
  {
   "cell_type": "code",
   "execution_count": 62,
   "id": "47e3e4eb-307a-4e7c-9e50-ce0fd9e8dd1d",
   "metadata": {},
   "outputs": [
    {
     "name": "stdout",
     "output_type": "stream",
     "text": [
      "[(0, 1), (1, 2), (2, 3), (3, 4), (4, 5)]\n"
     ]
    }
   ],
   "source": [
    "a = [1,2,3,4,5]\n",
    "li = [(i,a[i]) for i in range(len(a))]\n",
    "print(li)"
   ]
  },
  {
   "cell_type": "code",
   "execution_count": 64,
   "id": "4beb57cd-6128-4503-bd92-92a35f8e7b47",
   "metadata": {},
   "outputs": [
    {
     "name": "stdout",
     "output_type": "stream",
     "text": [
      "[2, 4, 6]\n"
     ]
    }
   ],
   "source": [
    "a = [1,2,3,4,5,6]\n",
    "b = [1,3,5]\n",
    "result = [a[i] for i in b]\n",
    "print(result)"
   ]
  },
  {
   "cell_type": "code",
   "execution_count": 68,
   "id": "4b7fd07a-9979-4052-81a3-bed16a2dbbf2",
   "metadata": {},
   "outputs": [
    {
     "name": "stdout",
     "output_type": "stream",
     "text": [
      "[2, 4, 6]\n"
     ]
    }
   ],
   "source": [
    "result = list(map(lambda i: a[i],b))\n",
    "\n",
    "print(result)"
   ]
  },
  {
   "cell_type": "code",
   "execution_count": 78,
   "id": "a3ec4b7a-3f4c-433b-8a61-e9f58549faba",
   "metadata": {},
   "outputs": [
    {
     "name": "stdout",
     "output_type": "stream",
     "text": [
      "(20, 40, 50)\n"
     ]
    }
   ],
   "source": [
    "import operator\n",
    "\n",
    "a = [10, 20, 30, 40, 50]\n",
    "b = [1, 3, 4]\n",
    "\n",
    "getter = operator.itemgetter(*b)\n",
    "result = getter(a)\n",
    "print(result)"
   ]
  },
  {
   "cell_type": "code",
   "execution_count": 84,
   "id": "a5ba162b-f7d3-4fdf-9dbd-3cf104c16d87",
   "metadata": {},
   "outputs": [
    {
     "name": "stdout",
     "output_type": "stream",
     "text": [
      "[2 4 6]\n"
     ]
    }
   ],
   "source": [
    "a = np.array([1,2,3,4,5,6])\n",
    "b = [1,3,5]\n",
    "\n",
    "result = a[b]\n",
    "print(result)"
   ]
  },
  {
   "cell_type": "code",
   "execution_count": 1,
   "id": "a50566ab-52e5-4689-a0df-5fba57e353d0",
   "metadata": {},
   "outputs": [
    {
     "name": "stdout",
     "output_type": "stream",
     "text": [
      "9\n"
     ]
    }
   ],
   "source": [
    "a = [1,2,3,4,5,6,7,8,9]\n",
    "count = 0\n",
    "for i in a:\n",
    "    count += 1\n",
    "print(count)"
   ]
  },
  {
   "cell_type": "code",
   "execution_count": 7,
   "id": "785f9603-e306-45a3-874f-e23b9661dbd7",
   "metadata": {},
   "outputs": [
    {
     "name": "stdout",
     "output_type": "stream",
     "text": [
      "15\n"
     ]
    }
   ],
   "source": [
    "a = [1,2,3,4,5]\n",
    "\n",
    "b = sum(a)\n",
    "print(b)"
   ]
  },
  {
   "cell_type": "code",
   "execution_count": 9,
   "id": "c2d458ed-787a-4e12-8dd7-f6aac6c0dc5e",
   "metadata": {},
   "outputs": [
    {
     "name": "stdout",
     "output_type": "stream",
     "text": [
      "5\n"
     ]
    }
   ],
   "source": [
    "a = [1,2,3,4,5]\n",
    "\n",
    "res = 0\n",
    "\n",
    "for val in a:\n",
    "    val += res\n",
    "print(val)"
   ]
  },
  {
   "cell_type": "code",
   "execution_count": 13,
   "id": "9d22f258-f648-4398-8b7a-68720868abdd",
   "metadata": {},
   "outputs": [
    {
     "name": "stdout",
     "output_type": "stream",
     "text": [
      "1\n"
     ]
    }
   ],
   "source": [
    "a = [1,2,3,4,5]\n",
    "b = min(a)\n",
    "print(b)"
   ]
  },
  {
   "cell_type": "code",
   "execution_count": null,
   "id": "985ad129-1c36-4409-91cd-92783af8418d",
   "metadata": {},
   "outputs": [],
   "source": [
    "a = [1,2,3,4,5]\n",
    "\n",
    "for val in a:\n",
    "    if val < len(a)\n",
    "    "
   ]
  },
  {
   "cell_type": "code",
   "execution_count": 17,
   "id": "a41396ee-ffc8-4ef4-8691-16ca0d6d4886",
   "metadata": {},
   "outputs": [
    {
     "name": "stdout",
     "output_type": "stream",
     "text": [
      "2\n"
     ]
    }
   ],
   "source": [
    "a = [1,1,2,2,2,3,3,3,3,4,4]\n",
    "\n",
    "b = a.count(1)\n",
    "print(b)"
   ]
  },
  {
   "cell_type": "code",
   "execution_count": 19,
   "id": "87ca9dd6-f14d-4e05-ab10-5d8e939b8096",
   "metadata": {},
   "outputs": [
    {
     "name": "stdout",
     "output_type": "stream",
     "text": [
      "4\n"
     ]
    }
   ],
   "source": [
    "a = [1,1,2,2,2,3,3,3,3,4,4]\n",
    "\n",
    "count = 0\n",
    "for ele in a:\n",
    "    if ele == 3:\n",
    "        count += 1\n",
    "print(count)"
   ]
  },
  {
   "cell_type": "code",
   "execution_count": 21,
   "id": "b14a1977-70af-421c-9fca-afb5e4dd3293",
   "metadata": {},
   "outputs": [
    {
     "ename": "TypeError",
     "evalue": "object of type 'int' has no len()",
     "output_type": "error",
     "traceback": [
      "\u001b[0;31m---------------------------------------------------------------------------\u001b[0m",
      "\u001b[0;31mTypeError\u001b[0m                                 Traceback (most recent call last)",
      "Cell \u001b[0;32mIn[21], line 4\u001b[0m\n\u001b[1;32m      1\u001b[0m a \u001b[38;5;241m=\u001b[39m [\u001b[38;5;241m1\u001b[39m,\u001b[38;5;241m1\u001b[39m,\u001b[38;5;241m2\u001b[39m,\u001b[38;5;241m2\u001b[39m,\u001b[38;5;241m2\u001b[39m,\u001b[38;5;241m3\u001b[39m,\u001b[38;5;241m3\u001b[39m,\u001b[38;5;241m3\u001b[39m,\u001b[38;5;241m3\u001b[39m,\u001b[38;5;241m4\u001b[39m,\u001b[38;5;241m4\u001b[39m]\n\u001b[1;32m      3\u001b[0m \u001b[38;5;28;01mfor\u001b[39;00m ele \u001b[38;5;129;01min\u001b[39;00m a:\n\u001b[0;32m----> 4\u001b[0m     \u001b[38;5;28;01mif\u001b[39;00m \u001b[38;5;28mlen\u001b[39m(ele) \u001b[38;5;241m>\u001b[39m \u001b[38;5;241m1\u001b[39m:\n\u001b[1;32m      5\u001b[0m         \u001b[38;5;28mprint\u001b[39m(ele)\n",
      "\u001b[0;31mTypeError\u001b[0m: object of type 'int' has no len()"
     ]
    }
   ],
   "source": [
    "a = [1,1,2,2,2,3,3,3,3,4,4]\n",
    "\n",
    "for ele in a:\n",
    "    if len(ele) > 1:\n",
    "        print(ele)"
   ]
  },
  {
   "cell_type": "code",
   "execution_count": 27,
   "id": "66605d6f-6b0b-46a2-b2f3-7d4d5976b361",
   "metadata": {},
   "outputs": [
    {
     "name": "stdout",
     "output_type": "stream",
     "text": [
      "[1, 2, 3, 4]\n"
     ]
    }
   ],
   "source": [
    "a = [1,1,2,2,2,3,3,3,3,4,4]\n",
    "\n",
    "b = list(set(a))\n",
    "\n",
    "print(b)"
   ]
  },
  {
   "cell_type": "code",
   "execution_count": 29,
   "id": "699650da-8ee3-48ee-b5ba-6eb4e44a665c",
   "metadata": {},
   "outputs": [
    {
     "name": "stdout",
     "output_type": "stream",
     "text": [
      "[1, 2, 3, 4]\n"
     ]
    }
   ],
   "source": [
    "a = [1,1,2,2,2,3,3,3,3,4,4]\n",
    "\n",
    "b = []\n",
    "\n",
    "for val in a:\n",
    "    if val not in b:\n",
    "        b.append(val)\n",
    "print(b)"
   ]
  },
  {
   "cell_type": "code",
   "execution_count": 40,
   "id": "a7fc499e-9b07-40bc-8937-56f318bb15b9",
   "metadata": {},
   "outputs": [
    {
     "name": "stdout",
     "output_type": "stream",
     "text": [
      "[1, 2, 2, 3, 3, 4, 4, 5, 5, 6, 7, 8, 9]\n"
     ]
    }
   ],
   "source": [
    "a = [1,2,3,4,5]\n",
    "b = [2,3,4,5,6,7,8,9]\n",
    "c = a + b\n",
    "c.sort()\n",
    "print(c)"
   ]
  },
  {
   "cell_type": "code",
   "execution_count": 42,
   "id": "c9c192c7-b7c1-4baf-9990-c07a95b9876f",
   "metadata": {},
   "outputs": [
    {
     "name": "stdout",
     "output_type": "stream",
     "text": [
      "[2, 4, 6, 8, 10]\n"
     ]
    }
   ],
   "source": [
    "a = [1,2,3,4,5]\n",
    "sq = [val * 2 for val in a]\n",
    "print(sq)"
   ]
  },
  {
   "cell_type": "code",
   "execution_count": 48,
   "id": "13162a66-adc3-4d54-b204-a75883fc6d27",
   "metadata": {},
   "outputs": [
    {
     "name": "stdout",
     "output_type": "stream",
     "text": [
      "[2, 3, 4, 5]\n"
     ]
    }
   ],
   "source": [
    "a = [1,2,3,4,5]\n",
    "b = [2,3,4,5,6,7,8,9]\n",
    "\n",
    "common = list(set(a) & set(b))\n",
    "\n",
    "print(common)"
   ]
  },
  {
   "cell_type": "code",
   "execution_count": 50,
   "id": "927bb9f0-0b12-477a-b117-11f6d1241147",
   "metadata": {},
   "outputs": [
    {
     "name": "stdout",
     "output_type": "stream",
     "text": [
      "[2, 3, 4, 5]\n"
     ]
    }
   ],
   "source": [
    "a = [1,2,3,4,5]\n",
    "b = [2,3,4,5,6,7,8,9]\n",
    "\n",
    "common = []\n",
    "\n",
    "for ele in a:\n",
    "    if ele in b:\n",
    "        common.append(ele)\n",
    "print(common)"
   ]
  },
  {
   "cell_type": "code",
   "execution_count": 56,
   "id": "8a4ffe68-e253-4d9c-a691-9b0da30f67d0",
   "metadata": {},
   "outputs": [
    {
     "name": "stdout",
     "output_type": "stream",
     "text": [
      "[4, 5, 1, 2, 3]\n"
     ]
    }
   ],
   "source": [
    "a = [1,2,3,4,5]\n",
    "n = 2\n",
    "rotate = a[-n:] + a[:-n]\n",
    "print(rotate)"
   ]
  },
  {
   "cell_type": "code",
   "execution_count": 58,
   "id": "c05b70fe-773d-4c80-9860-57b8680fc29b",
   "metadata": {},
   "outputs": [
    {
     "name": "stdout",
     "output_type": "stream",
     "text": [
      "[1, 2, 3, 4, 5, 6]\n"
     ]
    }
   ],
   "source": [
    "a = [[1, 2], [3, 4], [5, 6]]  \n",
    "f = [x for sublist in a for x in sublist]\n",
    "print(f)"
   ]
  },
  {
   "cell_type": "code",
   "execution_count": 66,
   "id": "d6a0c742-5cba-4495-832d-5c87a7724713",
   "metadata": {},
   "outputs": [
    {
     "name": "stdout",
     "output_type": "stream",
     "text": [
      "[1, 2, 3, 4, 5, 6]\n"
     ]
    }
   ],
   "source": [
    "a = [[1, 2], [3, 4], [5, 6]]  \n",
    "f = []\n",
    "for sublist in a:\n",
    "    for x in sublist:\n",
    "        f.append(x)\n",
    "print(f)"
   ]
  },
  {
   "cell_type": "code",
   "execution_count": 1,
   "id": "767b07e6-096f-4ef0-bdc1-84daaa5ca032",
   "metadata": {},
   "outputs": [
    {
     "name": "stdout",
     "output_type": "stream",
     "text": [
      "9\n"
     ]
    }
   ],
   "source": [
    "l = [2,3,1,5,7,9]\n",
    "largest = l[0]\n",
    "for val in l:\n",
    "    if val > largest:\n",
    "        largest = val\n",
    "print(val)"
   ]
  },
  {
   "cell_type": "code",
   "execution_count": null,
   "id": "1c7b645a-06d4-4b04-adcf-0203592acd18",
   "metadata": {},
   "outputs": [],
   "source": []
  }
 ],
 "metadata": {
  "kernelspec": {
   "display_name": "Python [conda env:base] *",
   "language": "python",
   "name": "conda-base-py"
  },
  "language_info": {
   "codemirror_mode": {
    "name": "ipython",
    "version": 3
   },
   "file_extension": ".py",
   "mimetype": "text/x-python",
   "name": "python",
   "nbconvert_exporter": "python",
   "pygments_lexer": "ipython3",
   "version": "3.12.7"
  }
 },
 "nbformat": 4,
 "nbformat_minor": 5
}
