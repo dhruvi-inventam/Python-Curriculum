{
 "cells": [
  {
   "cell_type": "code",
   "execution_count": 41,
   "id": "a827d76a-1412-44af-bd97-f379f3557b96",
   "metadata": {},
   "outputs": [
    {
     "name": "stdin",
     "output_type": "stream",
     "text": [
      "Enter the number:  5\n"
     ]
    },
    {
     "name": "stdout",
     "output_type": "stream",
     "text": [
      "*\n",
      "**\n",
      "***\n",
      "****\n",
      "*****\n"
     ]
    }
   ],
   "source": [
    "n = int(input(\"Enter the number: \"))\n",
    "\n",
    "for i in range(n):\n",
    "    for j in range(i+1):\n",
    "        print(\"*\",end=\"\")\n",
    "    print(\"\")"
   ]
  },
  {
   "cell_type": "code",
   "execution_count": null,
   "id": "7eac589b-efdc-4a0a-9df4-58fa76064dbe",
   "metadata": {},
   "outputs": [],
   "source": [
    "n = int(input(\"Enter the number: \"))\n",
    "pattern = []\n",
    "\n",
    "for i in range(1, rows + 1):\n",
    "    \n",
    "    row = [\"*\"] * i \n",
    "    pattern.append(row)  \n",
    "\n",
    "# Print the pattern\n",
    "for row in pattern:\n",
    "    print(\" \".join(row)) "
   ]
  },
  {
   "cell_type": "code",
   "execution_count": null,
   "id": "719f530b-07e5-48ad-b1b7-1a0b648e100d",
   "metadata": {},
   "outputs": [],
   "source": [
    "# Number of rows\n",
    "rows = 5\n",
    "\n",
    "# Create a list to store each row\n",
    "pattern = []\n",
    "\n",
    "# Outer loop for the number of rows\n",
    "for i in range(1, rows + 1):\n",
    "    row = []  # Create an empty list for the current row\n",
    "    for j in range(i):  # Inner loop to add stars to the row\n",
    "        row.append(\"*\")\n",
    "    pattern.append(row)  # Add the row to the pattern\n",
    "\n",
    "# Print the pattern\n",
    "for row in pattern:\n",
    "    line = \"\"  # Initialize an empty string for the current line\n",
    "    for star in row:\n",
    "        line += star + \" \"  # Manually add each star and a space\n",
    "    print(line)  # Print the line"
   ]
  },
  {
   "cell_type": "code",
   "execution_count": 161,
   "id": "c1fedb60-7bb0-4d08-a25e-37b8121c7cdc",
   "metadata": {},
   "outputs": [
    {
     "name": "stdin",
     "output_type": "stream",
     "text": [
      "Enter the number:  6\n"
     ]
    },
    {
     "name": "stdout",
     "output_type": "stream",
     "text": [
      "            \n",
      "     *      \n",
      "    * *     \n",
      "   * * *    \n",
      "  * * * *   \n",
      " * * * * *  \n",
      "* * * * * * \n"
     ]
    }
   ],
   "source": [
    "n = int(input(\"Enter the number: \"))\n",
    "k = 0\n",
    "for i in range(n+1):\n",
    "    for j in range(n-i):\n",
    "        print(\" \",end=\"\")\n",
    "\n",
    "    for k in range(i):\n",
    "        print(\"* \",end=\"\")\n",
    "\n",
    "    for j in range(n-i):\n",
    "        print(\" \",end=\"\")\n",
    "    print(\"\")"
   ]
  },
  {
   "cell_type": "code",
   "execution_count": 3,
   "id": "86653b6a-bcfa-4079-9a62-74b6b153a657",
   "metadata": {},
   "outputs": [
    {
     "name": "stdin",
     "output_type": "stream",
     "text": [
      "Enter the number:  5\n"
     ]
    },
    {
     "name": "stdout",
     "output_type": "stream",
     "text": [
      "1 \n",
      "1 2 \n",
      "1 2 3 \n",
      "1 2 3 4 \n",
      "1 2 3 4 5 \n"
     ]
    }
   ],
   "source": [
    "n = int(input(\"Enter the number: \"))\n",
    "\n",
    "num = 1\n",
    "\n",
    "for i in range(1,n+1):\n",
    "    num = 1\n",
    "    for j in range(1,i+1):\n",
    "        print(num,end=\" \")\n",
    "        num += 1\n",
    "    print(\"\")"
   ]
  },
  {
   "cell_type": "code",
   "execution_count": 5,
   "id": "9810ee5d-4007-448b-8717-b8333d5db55a",
   "metadata": {},
   "outputs": [
    {
     "name": "stdin",
     "output_type": "stream",
     "text": [
      "Enter the number:  5\n"
     ]
    },
    {
     "name": "stdout",
     "output_type": "stream",
     "text": [
      "1 \n",
      "2 3 \n",
      "4 5 6 \n",
      "7 8 9 10 \n",
      "11 12 13 14 15 \n"
     ]
    }
   ],
   "source": [
    "n = int(input(\"Enter the number: \"))\n",
    "\n",
    "num = 1\n",
    "\n",
    "for i in range(1,n+1):\n",
    "    \n",
    "    for j in range(1,i+1):\n",
    "        print(num,end=\" \")\n",
    "        num += 1\n",
    "    print(\"\")"
   ]
  },
  {
   "cell_type": "code",
   "execution_count": 12,
   "id": "565b18ea-cfb5-4fec-9aca-3767f2948202",
   "metadata": {},
   "outputs": [
    {
     "name": "stdin",
     "output_type": "stream",
     "text": [
      "Enter the number:  4\n"
     ]
    },
    {
     "name": "stdout",
     "output_type": "stream",
     "text": [
      "A \n",
      "B B \n",
      "C C C \n",
      "D D D D \n"
     ]
    }
   ],
   "source": [
    "n = int(input(\"Enter the number: \"))\n",
    "\n",
    "num = 65\n",
    "\n",
    "for i in range(1,n+1):\n",
    "    for j in range(1,i+1):\n",
    "        ch = chr(num)\n",
    "        print(ch,end=\" \")\n",
    "    num += 1\n",
    "    print(\"\")"
   ]
  },
  {
   "cell_type": "code",
   "execution_count": 14,
   "id": "1c1db4f0-5e0e-48a0-a789-b685713c6fa0",
   "metadata": {},
   "outputs": [
    {
     "name": "stdin",
     "output_type": "stream",
     "text": [
      "Enter the number:  5\n"
     ]
    },
    {
     "name": "stdout",
     "output_type": "stream",
     "text": [
      "A \n",
      "B C \n",
      "D E F \n",
      "G H I J \n",
      "K L M N O \n"
     ]
    }
   ],
   "source": [
    "n = int(input(\"Enter the number: \"))\n",
    "\n",
    "num = 65\n",
    "\n",
    "for i in range(1,n+1):\n",
    "    for j in range(1,i+1):\n",
    "        ch = chr(num)\n",
    "        print(ch,end=\" \")\n",
    "        num += 1\n",
    "    print(\"\")"
   ]
  },
  {
   "cell_type": "code",
   "execution_count": 37,
   "id": "3e5f1ec6-a953-477e-a47f-f16bbc8765a6",
   "metadata": {},
   "outputs": [
    {
     "name": "stdin",
     "output_type": "stream",
     "text": [
      "Enter the number:  5\n"
     ]
    }
   ],
   "source": [
    "n = int(input(\"Enter the number: \"))\n",
    "\n",
    "for i in range(n,1):\n",
    "    print(\"* \"*n,end=\"\")\n",
    "    print(\"\")"
   ]
  },
  {
   "cell_type": "code",
   "execution_count": 45,
   "id": "76efc4a5-4344-4cee-a69a-af2d689d1467",
   "metadata": {},
   "outputs": [
    {
     "name": "stdin",
     "output_type": "stream",
     "text": [
      "Enter the number:  5\n"
     ]
    },
    {
     "name": "stdout",
     "output_type": "stream",
     "text": [
      "*****\n",
      "****\n",
      "***\n",
      "**\n",
      "*\n"
     ]
    }
   ],
   "source": [
    "n = int(input(\"Enter the number: \"))\n",
    "\n",
    "for i in range(n,0,-1):\n",
    "    for j in range(i):\n",
    "        print(\"*\",end=\"\")\n",
    "    print(\"\")"
   ]
  },
  {
   "cell_type": "code",
   "execution_count": 21,
   "id": "0a34b73f-3152-4aec-9e56-683a36b7fdb8",
   "metadata": {},
   "outputs": [
    {
     "name": "stdin",
     "output_type": "stream",
     "text": [
      "Enter the number:  5\n"
     ]
    },
    {
     "name": "stdout",
     "output_type": "stream",
     "text": [
      "* * * * * \n",
      " * * * * \n",
      "  * * * \n",
      "   * * \n",
      "    * \n"
     ]
    }
   ],
   "source": [
    "n = int(input(\"Enter the number: \"))\n",
    "k = 0\n",
    "\n",
    "for i in range(n,0,-1):\n",
    "    for j in range(n-i):\n",
    "        print(\" \",end=\"\")\n",
    "\n",
    "    for k in range(i):\n",
    "        print(\"* \",end=\"\")\n",
    "    print(\"\")"
   ]
  },
  {
   "cell_type": "code",
   "execution_count": 131,
   "id": "b88dcce1-d128-47a1-923c-6cfb1ebe56f9",
   "metadata": {},
   "outputs": [
    {
     "name": "stdin",
     "output_type": "stream",
     "text": [
      "Enter the number:  5\n"
     ]
    },
    {
     "name": "stdout",
     "output_type": "stream",
     "text": [
      "*****\n",
      "*  * \n",
      "* *  \n",
      "**   \n",
      "*    \n"
     ]
    }
   ],
   "source": [
    "n = int(input(\"Enter the number: \"))\n",
    "n = int(input(\"Enter Number : \"))\n",
    "k = 1\n",
    "for i in range(1,n+1):\n",
    "    for j in range(1,i+1):\n",
    "        print(k , end=\" \")\n",
    "    k+=1\n",
    "\n",
    "    for l in range(k,n+1):\n",
    "        print(l , end=\" \")\n",
    "    print()\n",
    "for i in range(n,0,-1):\n",
    "    for j in range(1,n+1):\n",
    "        if i == n or j == 1 or j == i:\n",
    "            print(\"*\",end=\"\")\n",
    "        else:\n",
    "            print(\" \",end=\"\")\n",
    "    print(\"\")"
   ]
  },
  {
   "cell_type": "code",
   "execution_count": 133,
   "id": "88364fc8-c266-45bd-89ee-d2952bd484e0",
   "metadata": {},
   "outputs": [],
   "source": [
    "# n = 7 # Height of the pyramid\n",
    "# stars = \"*\" * n  # First row with all stars\n",
    "# spaces = \" \" * (n - 2)  # Space pattern for middle rows\n",
    "\n",
    "# print(stars)  # Print first row\n",
    "\n",
    "# for i in range(1, n - 1):  \n",
    "#     print(\"*\" + spaces[: n - i - 2] + \"*\")  # Construct hollow pattern\n",
    "\n",
    "# print(\"*\")  # Print last row"
   ]
  },
  {
   "cell_type": "code",
   "execution_count": 83,
   "id": "b554b651-860d-4692-ac8f-5543749c750c",
   "metadata": {},
   "outputs": [
    {
     "name": "stdin",
     "output_type": "stream",
     "text": [
      "Enter the number:  5\n"
     ]
    },
    {
     "name": "stdout",
     "output_type": "stream",
     "text": [
      "    *    \n",
      "   * *   \n",
      "  *   *  \n",
      " *     * \n",
      "*********\n"
     ]
    }
   ],
   "source": [
    "n = int(input(\"Enter the number: \"))n = int(input(\"Enter the number: \"))\n",
    "k = 0\n",
    "for i in range(1, n + 1):n = int(input(\"Enter Number : \"))\n",
    "k = 1\n",
    "for i in range(1,n+1):\n",
    "    for j in range(1,i+1):\n",
    "        print(k , end=\" \")\n",
    "    k+=1\n",
    "\n",
    "    for l in range(k,n+1):\n",
    "        print(l , end=\" \")\n",
    "    print()\n",
    "        for j in range(1, 2 * n):\n",
    "            if j == n - i + 1 or j == n + i - 1 or i == n:\n",
    "                print(\"*\", end=\"\")\n",
    "            else:\n",
    "                print(\" \", end=\"\")\n",
    "        print(\"\")"
   ]
  },
  {
   "cell_type": "code",
   "execution_count": 79,
   "id": "f70bee72-1369-47b3-a174-26838f077872",
   "metadata": {},
   "outputs": [
    {
     "name": "stdin",
     "output_type": "stream",
     "text": [
      "Enter the number:  7\n"
     ]
    },
    {
     "name": "stdout",
     "output_type": "stream",
     "text": [
      "* * * * * * * \n",
      "*           * \n",
      "*           * \n",
      "*           * \n",
      "*           * \n",
      "*           * \n",
      "* * * * * * * \n"
     ]
    }
   ],
   "source": [
    "n = int(input(\"Enter the number: \"))\n",
    "for i in range(1,n+1):\n",
    "    for j in range(1,n+1):\n",
    "        if i == n or j == 1 or j == n or i == 1:\n",
    "            print(\"* \",end=\"\")\n",
    "        else:\n",
    "            print(\" \",end=\" \")\n",
    "    print(\"\")"
   ]
  },
  {
   "cell_type": "markdown",
   "id": "c2d64e45-6dd5-4700-9b17-b3a0f9e73c5d",
   "metadata": {},
   "source": [
    "# NEW METHOD"
   ]
  },
  {
   "cell_type": "code",
   "execution_count": 40,
   "id": "ed3cd8f6-3b9d-4243-b686-64d8dd3541d9",
   "metadata": {},
   "outputs": [
    {
     "name": "stdin",
     "output_type": "stream",
     "text": [
      "Enter the number:  5\n"
     ]
    },
    {
     "name": "stdout",
     "output_type": "stream",
     "text": [
      "*    \n",
      "**   \n",
      "***  \n",
      "**** \n",
      "*****\n"
     ]
    }
   ],
   "source": [
    "n = int(input(\"Enter the number: \"))\n",
    "for i in range(1,n+1):\n",
    "    for j in range(1,i+1):\n",
    "        print(\"*\",end=\"\")\n",
    "    \n",
    "    for k in range(n-i):\n",
    "        print(\" \",end=\"\")\n",
    "    print(\"\")"
   ]
  },
  {
   "cell_type": "code",
   "execution_count": 86,
   "id": "ead4c7b4-07b5-4297-8b00-063e06e13637",
   "metadata": {},
   "outputs": [
    {
     "name": "stdin",
     "output_type": "stream",
     "text": [
      "Enter the number:  5\n"
     ]
    },
    {
     "name": "stdout",
     "output_type": "stream",
     "text": [
      "***** \n",
      "****  \n",
      "***   \n",
      "**    \n",
      "*     \n"
     ]
    }
   ],
   "source": [
    "n = int(input(\"Enter the number: \"))\n",
    "k = 0\n",
    "for i in range(1,n+1):\n",
    "    for j in range(n-i+1):\n",
    "        print(\"*\",end=\"\")\n",
    "    for k in range(i):\n",
    "        print(\" \",end=\"\")\n",
    "\n",
    "    print(\"\")"
   ]
  },
  {
   "cell_type": "code",
   "execution_count": 7,
   "id": "17af8697-fa39-4805-ba17-6f7bbfe25eb6",
   "metadata": {},
   "outputs": [
    {
     "name": "stdin",
     "output_type": "stream",
     "text": [
      "Enter the number:  5\n"
     ]
    },
    {
     "name": "stdout",
     "output_type": "stream",
     "text": [
      "*****\n",
      "*  * \n",
      "* *  \n",
      "**   \n",
      "*    \n"
     ]
    }
   ],
   "source": [
    "n = int(input(\"Enter the number: \"))\n",
    "for i in range(1,n+1):\n",
    "    for j in range(1,n+1):\n",
    "\n",
    "        if i == 1 or j == 1:\n",
    "            print(\"*\",end=\"\")\n",
    "            continue\n",
    "\n",
    "        if j == n - i + 1:  #second logic  =  i + j == n + 1\n",
    "            print(\"*\",end=\"\")\n",
    "            continue\n",
    "        \n",
    "        print(\" \",end=\"\")\n",
    "    print(\"\")"
   ]
  },
  {
   "cell_type": "code",
   "execution_count": 11,
   "id": "764f646c-4a2d-43f3-931e-385c2e55eb71",
   "metadata": {},
   "outputs": [
    {
     "name": "stdin",
     "output_type": "stream",
     "text": [
      "Enter the number:  5\n"
     ]
    },
    {
     "name": "stdout",
     "output_type": "stream",
     "text": [
      "          \n",
      "    *     \n",
      "   * *    \n",
      "  * * *   \n",
      " * * * *  \n",
      "* * * * * \n"
     ]
    }
   ],
   "source": [
    "n = int(input(\"Enter the number: \"))\n",
    "k = 0\n",
    "for i in range(n+1):\n",
    "    for j in range(n-i):\n",
    "        print(\" \",end=\"\")\n",
    "\n",
    "    for k in range(i):\n",
    "        print(\"* \",end=\"\")\n",
    "\n",
    "    for j in range(n-i):\n",
    "        print(\" \",end=\"\")\n",
    "    print(\"\") "
   ]
  },
  {
   "cell_type": "code",
   "execution_count": 46,
   "id": "571fd55e-8aa7-404e-b796-b7f4c383bd60",
   "metadata": {},
   "outputs": [
    {
     "name": "stdin",
     "output_type": "stream",
     "text": [
      "Enter the number:  6\n"
     ]
    },
    {
     "name": "stdout",
     "output_type": "stream",
     "text": [
      "* * * * * * \n",
      " * * * * *  \n",
      "  * * * *   \n",
      "   * * *    \n",
      "    * *     \n",
      "     *      \n"
     ]
    }
   ],
   "source": [
    "n = int(input(\"Enter the number: \"))\n",
    "k = 0\n",
    "for i in range(n):\n",
    "    for j in range(i):\n",
    "          print(\" \",end=\"\")\n",
    "    \n",
    "    for k in range(i,n):\n",
    "        print(\"* \",end=\"\")\n",
    "\n",
    "    for j in range(i):\n",
    "        print(\" \",end=\"\")\n",
    "    print(\"\")"
   ]
  },
  {
   "cell_type": "code",
   "execution_count": 117,
   "id": "0ee85923-6478-4f6a-b9d7-9e10bbc30622",
   "metadata": {},
   "outputs": [
    {
     "name": "stdin",
     "output_type": "stream",
     "text": [
      "Enter the number:  5\n"
     ]
    },
    {
     "name": "stdout",
     "output_type": "stream",
     "text": [
      "    *    \n",
      "   * *   \n",
      "  *   *  \n",
      " *     * \n",
      "* * * * *\n"
     ]
    }
   ],
   "source": [
    "n = int(input(\"Enter the number: \"))\n",
    "for i in range(1,n+1):\n",
    "    for j in range(1,2*n):\n",
    "        if (i == n and j % 2 != 0) or i + j == n + 1 or j - i == n - 1:\n",
    "            print(\"*\",end=\"\")\n",
    "            continue\n",
    "        if i != n or i + j != n + 1 or j - i != n - 1:\n",
    "            print(\" \",end=\"\")\n",
    "            continue\n",
    "    print(\"\")"
   ]
  },
  {
   "cell_type": "code",
   "execution_count": 153,
   "id": "e6a38674-9364-4993-8933-9f3c882cd7c1",
   "metadata": {},
   "outputs": [
    {
     "name": "stdin",
     "output_type": "stream",
     "text": [
      "Enter the number:  7\n"
     ]
    },
    {
     "name": "stdout",
     "output_type": "stream",
     "text": [
      "* * * * * * *\n",
      " *         * \n",
      "  *       *  \n",
      "   *     *   \n",
      "    *   *    \n",
      "     * *     \n",
      "      *      \n"
     ]
    }
   ],
   "source": [
    "n = int(input(\"Enter the number: \"))\n",
    "for i in range(1,n+1):\n",
    "    for j in range(1,2*n):\n",
    "        if (i == 1 and j % 2 != 0) or i == j or i + j == n * 2 :\n",
    "            print(\"*\",end=\"\")\n",
    "            continue\n",
    "\n",
    "        if i != n or i != j  or i + j != n * 2 :\n",
    "            print(\" \",end=\"\")\n",
    "            continue\n",
    "    print(\"\")"
   ]
  },
  {
   "cell_type": "code",
   "execution_count": 119,
   "id": "d5dfbae5-5fa0-4aff-a286-af50ca8aa15c",
   "metadata": {},
   "outputs": [
    {
     "name": "stdin",
     "output_type": "stream",
     "text": [
      "Enter the number:  5\n"
     ]
    },
    {
     "name": "stdout",
     "output_type": "stream",
     "text": [
      "          \n",
      "    *     \n",
      "   * *    \n",
      "  * * *   \n",
      " * * * *  \n",
      "* * * * * \n",
      "* * * * * \n",
      " * * * *  \n",
      "  * * *   \n",
      "   * *    \n",
      "    *     \n"
     ]
    }
   ],
   "source": [
    "n = int(input(\"Enter the number: \"))\n",
    "k = 0\n",
    "for i in range(n+1):\n",
    "    for j in range(n-i):\n",
    "        print(\" \",end=\"\")\n",
    "\n",
    "    for k in range(i):\n",
    "        print(\"* \",end=\"\")\n",
    "\n",
    "    for j in range(n-i):\n",
    "        print(\" \",end=\"\")\n",
    "    print(\"\") \n",
    "for i in range(n):\n",
    "    for j in range(i):\n",
    "          print(\" \",end=\"\")\n",
    "    \n",
    "    for k in range(i,n):\n",
    "        print(\"* \",end=\"\")\n",
    "\n",
    "    for j in range(i):\n",
    "        print(\" \",end=\"\")\n",
    "    print(\"\")"
   ]
  },
  {
   "cell_type": "code",
   "execution_count": 80,
   "id": "8aca9378-b552-424b-967e-b01bfbd7768c",
   "metadata": {},
   "outputs": [
    {
     "name": "stdin",
     "output_type": "stream",
     "text": [
      "Enter the number:  5\n"
     ]
    },
    {
     "name": "stdout",
     "output_type": "stream",
     "text": [
      "    *    \n",
      "   * *   \n",
      "  *   *  \n",
      " *     * \n",
      "*       *\n",
      "*       *\n",
      " *     * \n",
      "  *   *  \n",
      "   * *   \n",
      "    *    \n"
     ]
    }
   ],
   "source": [
    "n = int(input(\"Enter the number: \"))\n",
    "\n",
    "for i in range(1,n+1):\n",
    "    for j in range(1,2*n):\n",
    "        if  i + j == n + 1 or j - i == n - 1:\n",
    "            print(\"*\",end=\"\")\n",
    "            continue\n",
    "        if i + j != n + 1 or j - i != n - 1:\n",
    "            print(\" \",end=\"\")\n",
    "            continue\n",
    "    print(\"\")\n",
    "\n",
    "for i in range(1,n+1):\n",
    "    for j in range(1,2*n):\n",
    "        if  i == j or i + j == n * 2 :\n",
    "            print(\"*\",end=\"\")\n",
    "            continue\n",
    "\n",
    "        if  i != j  or i + j != n * 2 :\n",
    "            print(\" \",end=\"\")\n",
    "            continue\n",
    "    print(\"\")"
   ]
  },
  {
   "cell_type": "code",
   "execution_count": 165,
   "id": "ae13461f-5965-4245-b8cc-22647d2175da",
   "metadata": {},
   "outputs": [
    {
     "name": "stdin",
     "output_type": "stream",
     "text": [
      "Enter the number:  6\n"
     ]
    },
    {
     "name": "stdout",
     "output_type": "stream",
     "text": [
      "*     \n",
      "**    \n",
      "***   \n",
      "****  \n",
      "***** \n",
      "******\n",
      "***** \n",
      "****  \n",
      "***   \n",
      "**    \n",
      "*     \n"
     ]
    }
   ],
   "source": [
    "n = int(input(\"Enter the number: \"))\n",
    "k = 0\n",
    "for i in range(1,n+1):\n",
    "    for j in range(1,i+1):\n",
    "        print(\"*\",end=\"\")\n",
    "    \n",
    "    for k in range(n-i):\n",
    "        print(\" \",end=\"\")\n",
    "    print(\"\")\n",
    "\n",
    "\n",
    "for i in range(1,n):\n",
    "    for j in range(n-i):\n",
    "        print(\"*\",end=\"\")\n",
    "    for k in range(i):\n",
    "        print(\" \",end=\"\")\n",
    "\n",
    "    print(\"\")"
   ]
  },
  {
   "cell_type": "code",
   "execution_count": 5,
   "id": "6a9d5b0c-850a-4070-af6e-c29b5b60c972",
   "metadata": {},
   "outputs": [
    {
     "name": "stdin",
     "output_type": "stream",
     "text": [
      "Enter Number :  5\n"
     ]
    },
    {
     "name": "stdout",
     "output_type": "stream",
     "text": [
      "1 2 3 4 5 \n",
      "2 2 3 4 5 \n",
      "3 3 3 4 5 \n",
      "4 4 4 4 5 \n",
      "5 5 5 5 5 \n"
     ]
    }
   ],
   "source": [
    "n = int(input(\"Enter Number : \"))\n",
    "k = 1\n",
    "for i in range(1,n+1):\n",
    "    for j in range(1,i+1):\n",
    "        print(k , end=\" \")\n",
    "    k+=1\n",
    "\n",
    "    for l in range(k,n+1):\n",
    "        print(l , end=\" \")\n",
    "    print()"
   ]
  },
  {
   "cell_type": "code",
   "execution_count": 19,
   "id": "10f3b56c-45c1-4643-b83d-d07e82d5a605",
   "metadata": {},
   "outputs": [
    {
     "name": "stdin",
     "output_type": "stream",
     "text": [
      "Enter the number:  5\n"
     ]
    },
    {
     "name": "stdout",
     "output_type": "stream",
     "text": [
      "*      \n",
      "* *     \n",
      "* * *    \n",
      "* * * *   \n",
      "* * * * *  \n"
     ]
    }
   ],
   "source": [
    "n = int(input(\"Enter the number: \"))\n",
    "for i in range(1,n+1):\n",
    "    for j in range(1,i+1):\n",
    "        print(\"* \",end=\"\")\n",
    "    \n",
    "    for k in range(n-i):\n",
    "        print(\" \",end=\"\")\n",
    "    print(\"\")"
   ]
  },
  {
   "cell_type": "code",
   "execution_count": 36,
   "id": "55df3a44-3273-4dac-ac9b-1738e8b44608",
   "metadata": {},
   "outputs": [
    {
     "name": "stdin",
     "output_type": "stream",
     "text": [
      "Enter the number:  5\n"
     ]
    },
    {
     "name": "stdout",
     "output_type": "stream",
     "text": [
      "1         \n",
      "2 3       \n",
      "4 5 6     \n",
      "7 8 9 10   \n",
      "11 12 13 14 15 \n"
     ]
    }
   ],
   "source": [
    "n = int(input(\"Enter the number: \"))\n",
    "\n",
    "num = 1\n",
    "\n",
    "for i in range(1,n+1):\n",
    "    \n",
    "    for j in range(1,i+1):\n",
    "        print(num,end=\" \")\n",
    "        num += 1\n",
    "\n",
    "    for j in range(n-i):\n",
    "        print(\" \",end=\" \")\n",
    "    print(\"\") "
   ]
  },
  {
   "cell_type": "code",
   "execution_count": 348,
   "id": "b102aedd-99e8-47be-bae1-5e24f0f1b5e4",
   "metadata": {},
   "outputs": [
    {
     "name": "stdin",
     "output_type": "stream",
     "text": [
      "Enter the number:  6\n"
     ]
    },
    {
     "name": "stdout",
     "output_type": "stream",
     "text": [
      "1 \n",
      "7\n",
      "2 \n",
      "12\n",
      "3 \n",
      "16\n",
      "4 \n",
      "19\n",
      "5 \n",
      "21\n",
      "6 \n"
     ]
    }
   ],
   "source": [
    "n = int(input(\"Enter the number: \"))\n",
    "\n",
    "num = 1\n",
    "count = 1\n",
    "flag = n\n",
    "\n",
    "for i in range(1,n+1):\n",
    "    for j in range(1,i+1):\n",
    "        if i == j:\n",
    "            print(num,end=\"\")\n",
    "            num += 1\n",
    "            continue\n",
    "            \n",
    "        # if i != j:\n",
    "        #     print(\" \",end=\"\")\n",
    "        #     continue\n",
    "\n",
    "        if i - j == 1:\n",
    "            count += flag\n",
    "            flag -= 1\n",
    "            print(count)\n",
    "            continue   \n",
    "            \n",
    "            \n",
    "        if j - i == 2:\n",
    "            count = 2\n",
    "            count += flag\n",
    "            flag -= 1\n",
    "            print(count)\n",
    "            continue   \n",
    "                        \n",
    "        \n",
    "    print(\" \")"
   ]
  },
  {
   "cell_type": "code",
   "execution_count": 249,
   "id": "7a9be8e2-4eac-4302-bfa8-4f2f84d5cc17",
   "metadata": {},
   "outputs": [
    {
     "name": "stdin",
     "output_type": "stream",
     "text": [
      "Enter the number:  6\n"
     ]
    },
    {
     "name": "stdout",
     "output_type": "stream",
     "text": [
      "1 \n",
      "7 2 \n",
      " 12 3 \n",
      "  16 4 \n",
      "   19 5 \n",
      "    21 6 \n"
     ]
    }
   ],
   "source": [
    "n = int(input(\"Enter the number: \"))\n",
    "\n",
    "num = 1\n",
    "count = 1\n",
    "flag = n\n",
    "\n",
    "for i in range(1,n+1):\n",
    "    for j in range(1,i+1):\n",
    "        \n",
    "        if i == j:\n",
    "            print(num,end=\"\")\n",
    "            num += 1\n",
    "            continue\n",
    "      \n",
    "        if i - 1 == j:\n",
    "            count += flag \n",
    "            flag -= 1\n",
    "            print(count,end=\" \")\n",
    "            continue \n",
    "            \n",
    "        if i - 2 == j:\n",
    "            count == 2\n",
    "            count += flag\n",
    "            flag -= 1\n",
    "            print(count)\n",
    "            continue\n",
    "\n",
    "        if i - nt == 3\n",
    "            cou3 == j:\n",
    "            count += flag\n",
    "            flag -= 1\n",
    "            print(count)\n",
    "            continue\n",
    "\n",
    "        if i - 4 == j:\n",
    "            count == 4\n",
    "            count += flag\n",
    "            flag -= 1\n",
    "            print(count)\n",
    "            continue\n",
    "\n",
    "        if i - 5 == j:\n",
    "            count == 5\n",
    "            count += flag\n",
    "            flag -= 1\n",
    "            print(count)\n",
    "            continue\n",
    "\n",
    "            \n",
    "        else:\n",
    "            print(\" \",end=\"\")\n",
    "            \n",
    "\n",
    "    \n",
    "    print(\" \")    \n",
    "            "
   ]
  },
  {
   "cell_type": "code",
   "execution_count": 231,
   "id": "527461f8-4d89-4bbf-93a4-774219c6e31a",
   "metadata": {},
   "outputs": [
    {
     "name": "stdin",
     "output_type": "stream",
     "text": [
      "Enter the number:  6\n"
     ]
    },
    {
     "name": "stdout",
     "output_type": "stream",
     "text": [
      "1 \n",
      "(6, 1, -5, -12, -20, -29) \n",
      "(11, 7, 2, -4, -11, -19) (11, 6, 1, -5, -12, -20) \n",
      "(15, 12, 8, 3, -3, -10) (15, 11, 7, 2, -4, -11) (15, 10, 6, 1, -5, -12) \n",
      "(18, 16, 13, 9, 4, -2) (18, 15, 12, 8, 3, -3) (18, 14, 11, 7, 2, -4) (18, 13, 10, 6, 1, -5) \n",
      "(20, 19, 17, 14, 10, 5) (20, 18, 16, 13, 9, 4) (20, 17, 15, 12, 8, 3) (20, 16, 14, 11, 7, 2) (20, 15, 13, 10, 6, 1) \n",
      "(21, 16, 10, 3, -5, -14) \n",
      "(26, 22, 17, 11, 4, -4) (26, 21, 16, 10, 3, -5) \n",
      "(30, 27, 23, 18, 12, 5) (30, 26, 22, 17, 11, 4) (30, 25, 21, 16, 10, 3) \n",
      "(33, 31, 28, 24, 19, 13) (33, 30, 27, 23, 18, 12) (33, 29, 26, 22, 17, 11) (33, 28, 25, 21, 16, 10) \n",
      "(35, 34, 32, 29, 25, 20) (35, 33, 31, 28, 24, 19) (35, 32, 30, 27, 23, 18) (35, 31, 29, 26, 22, 17) (35, 30, 28, 25, 21, 16) \n",
      " \n",
      "(36, 31, 25, 18, 10, 1) \n",
      "(41, 37, 32, 26, 19, 11) (41, 36, 31, 25, 18, 10) \n",
      "(45, 42, 38, 33, 27, 20) (45, 41, 37, 32, 26, 19) (45, 40, 36, 31, 25, 18) \n",
      "(48, 46, 43, 39, 34, 28) (48, 45, 42, 38, 33, 27) (48, 44, 41, 37, 32, 26) (48, 43, 40, 36, 31, 25) \n",
      "(50, 49, 47, 44, 40, 35) (50, 48, 46, 43, 39, 34) (50, 47, 45, 42, 38, 33) (50, 46, 44, 41, 37, 32) (50, 45, 43, 40, 36, 31) \n",
      "(51, 46, 40, 33, 25, 16) \n",
      "(56, 52, 47, 41, 34, 26) (56, 51, 46, 40, 33, 25) \n",
      "(60, 57, 53, 48, 42, 35) (60, 56, 52, 47, 41, 34) (60, 55, 51, 46, 40, 33) \n",
      "(63, 61, 58, 54, 49, 43) (63, 60, 57, 53, 48, 42) (63, 59, 56, 52, 47, 41) (63, 58, 55, 51, 46, 40) \n",
      "(65, 64, 62, 59, 55, 50) (65, 63, 61, 58, 54, 49) (65, 62, 60, 57, 53, 48) (65, 61, 59, 56, 52, 47) (65, 60, 58, 55, 51, 46) \n",
      "(66, 61, 55, 48, 40, 31) \n",
      "(71, 67, 62, 56, 49, 41) (71, 66, 61, 55, 48, 40) \n",
      "(75, 72, 68, 63, 57, 50) (75, 71, 67, 62, 56, 49) (75, 70, 66, 61, 55, 48) \n",
      "(78, 76, 73, 69, 64, 58) (78, 75, 72, 68, 63, 57) (78, 74, 71, 67, 62, 56) (78, 73, 70, 66, 61, 55) \n",
      "(80, 79, 77, 74, 70, 65) (80, 78, 76, 73, 69, 64) (80, 77, 75, 72, 68, 63) (80, 76, 74, 71, 67, 62) (80, 75, 73, 70, 66, 61) \n",
      " \n",
      "(81, 76, 70, 63, 55, 46) \n",
      "(86, 82, 77, 71, 64, 56) (86, 81, 76, 70, 63, 55) \n",
      "(90, 87, 83, 78, 72, 65) (90, 86, 82, 77, 71, 64) (90, 85, 81, 76, 70, 63) \n",
      "(93, 91, 88, 84, 79, 73) (93, 90, 87, 83, 78, 72) (93, 89, 86, 82, 77, 71) (93, 88, 85, 81, 76, 70) \n",
      "(95, 94, 92, 89, 85, 80) (95, 93, 91, 88, 84, 79) (95, 92, 90, 87, 83, 78) (95, 91, 89, 86, 82, 77) (95, 90, 88, 85, 81, 76) \n",
      "(96, 91, 85, 78, 70, 61) \n",
      "(101, 97, 92, 86, 79, 71) (101, 96, 91, 85, 78, 70) \n",
      "(105, 102, 98, 93, 87, 80) (105, 101, 97, 92, 86, 79) (105, 100, 96, 91, 85, 78) \n",
      "(108, 106, 103, 99, 94, 88) (108, 105, 102, 98, 93, 87) (108, 104, 101, 97, 92, 86) (108, 103, 100, 96, 91, 85) \n",
      "(110, 109, 107, 104, 100, 95) (110, 108, 106, 103, 99, 94) (110, 107, 105, 102, 98, 93) (110, 106, 104, 101, 97, 92) (110, 105, 103, 100, 96, 91) \n",
      "(111, 106, 100, 93, 85, 76) \n",
      "(116, 112, 107, 101, 94, 86) (116, 111, 106, 100, 93, 85) \n",
      "(120, 117, 113, 108, 102, 95) (120, 116, 112, 107, 101, 94) (120, 115, 111, 106, 100, 93) \n",
      "(123, 121, 118, 114, 109, 103) (123, 120, 117, 113, 108, 102) (123, 119, 116, 112, 107, 101) (123, 118, 115, 111, 106, 100) \n",
      "(125, 124, 122, 119, 115, 110) (125, 123, 121, 118, 114, 109) (125, 122, 120, 117, 113, 108) (125, 121, 119, 116, 112, 107) (125, 120, 118, 115, 111, 106) \n",
      "(126, 121, 115, 108, 100, 91) \n",
      "(131, 127, 122, 116, 109, 101) (131, 126, 121, 115, 108, 100) \n",
      "(135, 132, 128, 123, 117, 110) (135, 131, 127, 122, 116, 109) (135, 130, 126, 121, 115, 108) \n",
      "(138, 136, 133, 129, 124, 118) (138, 135, 132, 128, 123, 117) (138, 134, 131, 127, 122, 116) (138, 133, 130, 126, 121, 115) \n",
      "(140, 139, 137, 134, 130, 125) (140, 138, 136, 133, 129, 124) (140, 137, 135, 132, 128, 123) (140, 136, 134, 131, 127, 122) (140, 135, 133, 130, 126, 121) \n",
      " \n",
      "(141, 136, 130, 123, 115, 106) \n",
      "(146, 142, 137, 131, 124, 116) (146, 141, 136, 130, 123, 115) \n",
      "(150, 147, 143, 138, 132, 125) (150, 146, 142, 137, 131, 124) (150, 145, 141, 136, 130, 123) \n",
      "(153, 151, 148, 144, 139, 133) (153, 150, 147, 143, 138, 132) (153, 149, 146, 142, 137, 131) (153, 148, 145, 141, 136, 130) \n",
      "(155, 154, 152, 149, 145, 140) (155, 153, 151, 148, 144, 139) (155, 152, 150, 147, 143, 138) (155, 151, 149, 146, 142, 137) (155, 150, 148, 145, 141, 136) \n",
      "(156, 151, 145, 138, 130, 121) \n",
      "(161, 157, 152, 146, 139, 131) (161, 156, 151, 145, 138, 130) \n",
      "(165, 162, 158, 153, 147, 140) (165, 161, 157, 152, 146, 139) (165, 160, 156, 151, 145, 138) \n",
      "(168, 166, 163, 159, 154, 148) (168, 165, 162, 158, 153, 147) (168, 164, 161, 157, 152, 146) (168, 163, 160, 156, 151, 145) \n",
      "(170, 169, 167, 164, 160, 155) (170, 168, 166, 163, 159, 154) (170, 167, 165, 162, 158, 153) (170, 166, 164, 161, 157, 152) (170, 165, 163, 160, 156, 151) \n",
      "(171, 166, 160, 153, 145, 136) \n",
      "(176, 172, 167, 161, 154, 146) (176, 171, 166, 160, 153, 145) \n",
      "(180, 177, 173, 168, 162, 155) (180, 176, 172, 167, 161, 154) (180, 175, 171, 166, 160, 153) \n",
      "(183, 181, 178, 174, 169, 163) (183, 180, 177, 173, 168, 162) (183, 179, 176, 172, 167, 161) (183, 178, 175, 171, 166, 160) \n",
      "(185, 184, 182, 179, 175, 170) (185, 183, 181, 178, 174, 169) (185, 182, 180, 177, 173, 168) (185, 181, 179, 176, 172, 167) (185, 180, 178, 175, 171, 166) \n",
      "(186, 181, 175, 168, 160, 151) \n",
      "(191, 187, 182, 176, 169, 161) (191, 186, 181, 175, 168, 160) \n",
      "(195, 192, 188, 183, 177, 170) (195, 191, 187, 182, 176, 169) (195, 190, 186, 181, 175, 168) \n",
      "(198, 196, 193, 189, 184, 178) (198, 195, 192, 188, 183, 177) (198, 194, 191, 187, 182, 176) (198, 193, 190, 186, 181, 175) \n",
      "(200, 199, 197, 194, 190, 185) (200, 198, 196, 193, 189, 184) (200, 197, 195, 192, 188, 183) (200, 196, 194, 191, 187, 182) (200, 195, 193, 190, 186, 181) \n",
      "(201, 196, 190, 183, 175, 166) \n",
      "(206, 202, 197, 191, 184, 176) (206, 201, 196, 190, 183, 175) \n",
      "(210, 207, 203, 198, 192, 185) (210, 206, 202, 197, 191, 184) (210, 205, 201, 196, 190, 183) \n",
      "(213, 211, 208, 204, 199, 193) (213, 210, 207, 203, 198, 192) (213, 209, 206, 202, 197, 191) (213, 208, 205, 201, 196, 190) \n",
      "(215, 214, 212, 209, 205, 200) (215, 213, 211, 208, 204, 199) (215, 212, 210, 207, 203, 198) (215, 211, 209, 206, 202, 197) (215, 210, 208, 205, 201, 196) \n",
      " \n",
      "(216, 211, 205, 198, 190, 181) \n",
      "(221, 217, 212, 206, 199, 191) (221, 216, 211, 205, 198, 190) \n",
      "(225, 222, 218, 213, 207, 200) (225, 221, 217, 212, 206, 199) (225, 220, 216, 211, 205, 198) \n",
      "(228, 226, 223, 219, 214, 208) (228, 225, 222, 218, 213, 207) (228, 224, 221, 217, 212, 206) (228, 223, 220, 216, 211, 205) \n",
      "(230, 229, 227, 224, 220, 215) (230, 228, 226, 223, 219, 214) (230, 227, 225, 222, 218, 213) (230, 226, 224, 221, 217, 212) (230, 225, 223, 220, 216, 211) \n",
      "(231, 226, 220, 213, 205, 196) \n",
      "(236, 232, 227, 221, 214, 206) (236, 231, 226, 220, 213, 205) \n",
      "(240, 237, 233, 228, 222, 215) (240, 236, 232, 227, 221, 214) (240, 235, 231, 226, 220, 213) \n",
      "(243, 241, 238, 234, 229, 223) (243, 240, 237, 233, 228, 222) (243, 239, 236, 232, 227, 221) (243, 238, 235, 231, 226, 220) \n",
      "(245, 244, 242, 239, 235, 230) (245, 243, 241, 238, 234, 229) (245, 242, 240, 237, 233, 228) (245, 241, 239, 236, 232, 227) (245, 240, 238, 235, 231, 226) \n",
      "(246, 241, 235, 228, 220, 211) \n",
      "(251, 247, 242, 236, 229, 221) (251, 246, 241, 235, 228, 220) \n",
      "(255, 252, 248, 243, 237, 230) (255, 251, 247, 242, 236, 229) (255, 250, 246, 241, 235, 228) \n",
      "(258, 256, 253, 249, 244, 238) (258, 255, 252, 248, 243, 237) (258, 254, 251, 247, 242, 236) (258, 253, 250, 246, 241, 235) \n",
      "(260, 259, 257, 254, 250, 245) (260, 258, 256, 253, 249, 244) (260, 257, 255, 252, 248, 243) (260, 256, 254, 251, 247, 242) (260, 255, 253, 250, 246, 241) \n",
      "(261, 256, 250, 243, 235, 226) \n",
      "(266, 262, 257, 251, 244, 236) (266, 261, 256, 250, 243, 235) \n",
      "(270, 267, 263, 258, 252, 245) (270, 266, 262, 257, 251, 244) (270, 265, 261, 256, 250, 243) \n",
      "(273, 271, 268, 264, 259, 253) (273, 270, 267, 263, 258, 252) (273, 269, 266, 262, 257, 251) (273, 268, 265, 261, 256, 250) \n",
      "(275, 274, 272, 269, 265, 260) (275, 273, 271, 268, 264, 259) (275, 272, 270, 267, 263, 258) (275, 271, 269, 266, 262, 257) (275, 270, 268, 265, 261, 256) \n",
      "(276, 271, 265, 258, 250, 241) \n",
      "(281, 277, 272, 266, 259, 251) (281, 276, 271, 265, 258, 250) \n",
      "(285, 282, 278, 273, 267, 260) (285, 281, 277, 272, 266, 259) (285, 280, 276, 271, 265, 258) \n",
      "(288, 286, 283, 279, 274, 268) (288, 285, 282, 278, 273, 267) (288, 284, 281, 277, 272, 266) (288, 283, 280, 276, 271, 265) \n",
      "(290, 289, 287, 284, 280, 275) (290, 288, 286, 283, 279, 274) (290, 287, 285, 282, 278, 273) (290, 286, 284, 281, 277, 272) (290, 285, 283, 280, 276, 271) \n",
      "(291, 286, 280, 273, 265, 256) \n",
      "(296, 292, 287, 281, 274, 266) (296, 291, 286, 280, 273, 265) \n",
      "(300, 297, 293, 288, 282, 275) (300, 296, 292, 287, 281, 274) (300, 295, 291, 286, 280, 273) \n",
      "(303, 301, 298, 294, 289, 283) (303, 300, 297, 293, 288, 282) (303, 299, 296, 292, 287, 281) (303, 298, 295, 291, 286, 280) \n",
      "(305, 304, 302, 299, 295, 290) (305, 303, 301, 298, 294, 289) (305, 302, 300, 297, 293, 288) (305, 301, 299, 296, 292, 287) (305, 300, 298, 295, 291, 286) \n",
      " \n"
     ]
    }
   ],
   "source": [
    "n = int(input(\"Enter the number: \"))\n",
    "\n",
    "num = 1\n",
    "count = 1\n",
    "flag = n\n",
    "for i in range(1,n+1):\n",
    "    for j in range(1,i+1):\n",
    "        if i == j:\n",
    "            print(num,end=\"\")\n",
    "            num += 1\n",
    "            continue\n",
    "        # if i != j:\n",
    "        #     print(\" \",end=\"\")\n",
    "        #     continue\n",
    "\n",
    "        \n",
    "        for i in range(5 , 0 , -1):\n",
    "        \n",
    "          for j in range((i) , 6):\n",
    "        \n",
    "        \n",
    "        \n",
    "              k = n-j\n",
    "        \n",
    "              l = k-i-1\n",
    "        \n",
    "              p = l-i-2\n",
    "        \n",
    "              o = p-i-3\n",
    "        \n",
    "              print(((n) ,(n-j) , (k-i-1)  ,(l-i-2) , (p-i-3) , (o-i-4)), end=\" \")\n",
    "        \n",
    "          n = n+i\n",
    "        \n",
    "        \n",
    "        \n",
    "          print()\n",
    "    \n",
    "    \n",
    "                    \n",
    "        \n",
    "    print(\" \")   "
   ]
  },
  {
   "cell_type": "code",
   "execution_count": 235,
   "id": "cd8234d7-c219-4c83-a0f5-ce381d3acc41",
   "metadata": {},
   "outputs": [
    {
     "name": "stdout",
     "output_type": "stream",
     "text": [
      "(7, 2, -4, -11, -19, -28) \n",
      "(12, 8, 3, -3, -10, -18) (12, 7, 2, -4, -11, -19) \n",
      "(16, 13, 9, 4, -2, -9) (16, 12, 8, 3, -3, -10) (16, 11, 7, 2, -4, -11) \n",
      "(19, 17, 14, 10, 5, -1) (19, 16, 13, 9, 4, -2) (19, 15, 12, 8, 3, -3) (19, 14, 11, 7, 2, -4) \n",
      "(21, 20, 18, 15, 11, 6) (21, 19, 17, 14, 10, 5) (21, 18, 16, 13, 9, 4) (21, 17, 15, 12, 8, 3) (21, 16, 14, 11, 7, 2) \n"
     ]
    }
   ],
   "source": [
    "\n",
    "\n",
    "n = 7\n",
    "\n",
    "\n",
    "\n",
    "\n",
    "for i in range(5 , 0 , -1):\n",
    "\n",
    "  for j in range(i , 6):\n",
    "\n",
    "\n",
    "\n",
    "      k = n-j\n",
    "\n",
    "      l = k-i-1\n",
    "\n",
    "      p = l-i-2\n",
    "\n",
    "      o = p-i-3\n",
    "\n",
    "      print(((n) ,(n-j) , (k-i-1)  ,(l-i-2) , (p-i-3) , (o-i-4)), end=\" \")\n",
    "\n",
    "  n = n+i\n",
    "\n",
    "\n",
    "\n",
    "  print()\n",
    "\n"
   ]
  },
  {
   "cell_type": "code",
   "execution_count": 110,
   "id": "b1219dd3-7410-4831-ad31-d647dc5ae1aa",
   "metadata": {},
   "outputs": [
    {
     "name": "stdout",
     "output_type": "stream",
     "text": [
      "1\n",
      "7 2 \n",
      "12 8 3 \n",
      "16 13 9 4 \n",
      "19 17 14 10 5 \n",
      "21 20 18 15 11 6 \n"
     ]
    }
   ],
   "source": [
    "count = 1\n",
    "flag = 6\n",
    "\n",
    "\n",
    "for i in range(1,n+1):                                                                                         \n",
    "    for j in range(1,i+1):\n",
    "        if j == 1:\n",
    "            if j == 1 and i == 1:\n",
    "                print(count)\n",
    "            print(count + flag , end=\" \")\n",
    "            \n",
    "            # print(count, end = \"\")\n",
    "            count = count + flag\n",
    "            num = count\n",
    "\n",
    "            for m in range((flag - 1) ,  6):\n",
    "                num=num - m\n",
    "                print(num , end=\" \")\n",
    "            flag =flag -1\n",
    "\n",
    "      \n",
    "                  \n",
    "        # print(j , end= \" \")\n",
    "\n",
    "    \n",
    "    print()\n"
   ]
  },
  {
   "cell_type": "code",
   "execution_count": 239,
   "id": "2daabf41-cfb4-4437-9a0a-f559a9f410d2",
   "metadata": {},
   "outputs": [
    {
     "name": "stdin",
     "output_type": "stream",
     "text": [
      "Enter the number:  5\n"
     ]
    },
    {
     "name": "stdout",
     "output_type": "stream",
     "text": [
      "1 \n",
      " 2 \n",
      "  3 \n",
      "   4 \n",
      "    5 \n"
     ]
    }
   ],
   "source": [
    "n = int(input(\"Enter the number: \"))\n",
    "\n",
    "num = 1\n",
    "num2 = n+1\n",
    "count = 1\n",
    "count2 = 2\n",
    "flag = n\n",
    "\n",
    "for i in range(1,n+1):\n",
    "    for j in range(1,i+1):\n",
    "        if i == j:\n",
    "            print(num,end=\"\")\n",
    "            num += 1\n",
    "            continue\n",
    "            \n",
    "    for p in range(n+1,n+5):\n",
    "        if i - 1 == j:\n",
    "            print(num2,end=\"\")\n",
    "            num2 += 1\n",
    "            continue  \n",
    "\n",
    "     \n",
    "        # if i - 2 == j:\n",
    "        #     count == 2\n",
    "        #     count += flag\n",
    "        #     flag -= 1\n",
    "        #     print(count)\n",
    "        #     continue\n",
    "\n",
    "        # if i - 3 == j:\n",
    "        #     count == 3\n",
    "        #     count += flag\n",
    "        #     flag -= 1\n",
    "        #     print(count)\n",
    "        #     continue\n",
    "\n",
    "        # if i - 4 == j:\n",
    "        #     count == 4\n",
    "        #     count += flag\n",
    "        #     flag -= 1\n",
    "        #     print(count)\n",
    "        #     continue\n",
    "\n",
    "        # if i - 5 == j:\n",
    "        #     count == 5\n",
    "        #     count += flag\n",
    "        #     flag -= 1\n",
    "        #     print(count)\n",
    "        #     continuefor j in range(n+1,n+5):\n",
    "        # if i - 1 == j:\n",
    "        #     print(num2,end=\"\")\n",
    "        #     num2 += 1\n",
    "        #     continue  \n",
    "\n",
    "\n",
    "            \n",
    "        else:\n",
    "            print(\" \",end=\"\")\n",
    "            \n",
    "\n",
    "    \n",
    "    print(\" \")  "
   ]
  },
  {
   "cell_type": "code",
   "execution_count": 7,
   "id": "ee62e9ed-79a0-4af9-8aa4-4a7e5701cb76",
   "metadata": {},
   "outputs": [
    {
     "name": "stdout",
     "output_type": "stream",
     "text": [
      "1\n",
      "7 2\n",
      "12 8 3\n",
      "16 13 9 4\n",
      "19 17 14 10 5\n",
      "21 20 18 15 11 6\n"
     ]
    }
   ],
   "source": [
    "def print_pattern():\n",
    "    \"\"\"\n",
    "    Prints the exact triangular pattern:\n",
    "    1\n",
    "    7 2\n",
    "    12 8 3\n",
    "    16 13 9 4\n",
    "    19 17 14 10 5\n",
    "    21 20 18 15 11 6\n",
    "    \"\"\"\n",
    "    # Hardcode the pattern exactly as given\n",
    "    pattern = [\n",
    "        [1],\n",
    "        [7, 2],\n",
    "        [12, 8, 3],\n",
    "        [16, 13, 9, 4],\n",
    "        [19, 17, 14, 10, 5],\n",
    "        [21, 20, 18, 15, 11, 6]\n",
    "    ]\n",
    "    \n",
    "    # Print the pattern\n",
    "    for row in pattern:\n",
    "        print(' '.join(map(str, row)))\n",
    "\n",
    "# Call the function to print the pattern\n",
    "print_pattern()"
   ]
  },
  {
   "cell_type": "code",
   "execution_count": null,
   "id": "d869fd3c-25a3-4278-97eb-a270ee8141ef",
   "metadata": {},
   "outputs": [],
   "source": []
  }
 ],
 "metadata": {
  "kernelspec": {
   "display_name": "Python [conda env:base] *",
   "language": "python",
   "name": "conda-base-py"
  },
  "language_info": {
   "codemirror_mode": {
    "name": "ipython",
    "version": 3
   },
   "file_extension": ".py",
   "mimetype": "text/x-python",
   "name": "python",
   "nbconvert_exporter": "python",
   "pygments_lexer": "ipython3",
   "version": "3.12.7"
  }
 },
 "nbformat": 4,
 "nbformat_minor": 5
}
